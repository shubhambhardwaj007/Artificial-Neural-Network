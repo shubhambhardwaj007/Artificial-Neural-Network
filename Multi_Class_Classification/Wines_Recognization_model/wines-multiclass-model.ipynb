{
 "cells": [
  {
   "cell_type": "code",
   "execution_count": 1,
   "id": "a95bb244",
   "metadata": {},
   "outputs": [],
   "source": [
    "import pandas as pd"
   ]
  },
  {
   "cell_type": "code",
   "execution_count": 2,
   "id": "1f52a7e2",
   "metadata": {},
   "outputs": [],
   "source": [
    "dataset = pd.read_csv(\"/media/usb/Artificial-Neural-Network-Datasets/Multi-Class-Classification/Wines-Dataset/wine.data\")"
   ]
  },
  {
   "cell_type": "code",
   "execution_count": 3,
   "id": "b19623d7",
   "metadata": {},
   "outputs": [
    {
     "data": {
      "text/plain": [
       "(178, 14)"
      ]
     },
     "execution_count": 3,
     "metadata": {},
     "output_type": "execute_result"
    }
   ],
   "source": [
    "dataset.shape"
   ]
  },
  {
   "cell_type": "code",
   "execution_count": 4,
   "id": "7cfc107e",
   "metadata": {},
   "outputs": [
    {
     "data": {
      "text/plain": [
       "Index(['Classes', 'Alcohol', 'Malic acid', 'Ash', 'Alcalinity of ash',\n",
       "       'Magnesium', 'Total phenols', 'Flavanoids', 'Nonflavanoid phenols',\n",
       "       'Proanthocyanins', 'Color intensity', 'Hue',\n",
       "       'OD280/OD315 of diluted wines', 'Proline'],\n",
       "      dtype='object')"
      ]
     },
     "execution_count": 4,
     "metadata": {},
     "output_type": "execute_result"
    }
   ],
   "source": [
    "dataset.columns"
   ]
  },
  {
   "cell_type": "code",
   "execution_count": 5,
   "id": "a09fd727",
   "metadata": {},
   "outputs": [
    {
     "data": {
      "text/html": [
       "<div>\n",
       "<style scoped>\n",
       "    .dataframe tbody tr th:only-of-type {\n",
       "        vertical-align: middle;\n",
       "    }\n",
       "\n",
       "    .dataframe tbody tr th {\n",
       "        vertical-align: top;\n",
       "    }\n",
       "\n",
       "    .dataframe thead th {\n",
       "        text-align: right;\n",
       "    }\n",
       "</style>\n",
       "<table border=\"1\" class=\"dataframe\">\n",
       "  <thead>\n",
       "    <tr style=\"text-align: right;\">\n",
       "      <th></th>\n",
       "      <th>Classes</th>\n",
       "      <th>Alcohol</th>\n",
       "      <th>Malic acid</th>\n",
       "      <th>Ash</th>\n",
       "      <th>Alcalinity of ash</th>\n",
       "      <th>Magnesium</th>\n",
       "      <th>Total phenols</th>\n",
       "      <th>Flavanoids</th>\n",
       "      <th>Nonflavanoid phenols</th>\n",
       "      <th>Proanthocyanins</th>\n",
       "      <th>Color intensity</th>\n",
       "      <th>Hue</th>\n",
       "      <th>OD280/OD315 of diluted wines</th>\n",
       "      <th>Proline</th>\n",
       "    </tr>\n",
       "  </thead>\n",
       "  <tbody>\n",
       "    <tr>\n",
       "      <th>0</th>\n",
       "      <td>1</td>\n",
       "      <td>14.23</td>\n",
       "      <td>1.71</td>\n",
       "      <td>2.43</td>\n",
       "      <td>15.6</td>\n",
       "      <td>127</td>\n",
       "      <td>2.80</td>\n",
       "      <td>3.06</td>\n",
       "      <td>0.28</td>\n",
       "      <td>2.29</td>\n",
       "      <td>5.64</td>\n",
       "      <td>1.04</td>\n",
       "      <td>3.92</td>\n",
       "      <td>1065</td>\n",
       "    </tr>\n",
       "    <tr>\n",
       "      <th>1</th>\n",
       "      <td>1</td>\n",
       "      <td>13.20</td>\n",
       "      <td>1.78</td>\n",
       "      <td>2.14</td>\n",
       "      <td>11.2</td>\n",
       "      <td>100</td>\n",
       "      <td>2.65</td>\n",
       "      <td>2.76</td>\n",
       "      <td>0.26</td>\n",
       "      <td>1.28</td>\n",
       "      <td>4.38</td>\n",
       "      <td>1.05</td>\n",
       "      <td>3.40</td>\n",
       "      <td>1050</td>\n",
       "    </tr>\n",
       "    <tr>\n",
       "      <th>2</th>\n",
       "      <td>1</td>\n",
       "      <td>13.16</td>\n",
       "      <td>2.36</td>\n",
       "      <td>2.67</td>\n",
       "      <td>18.6</td>\n",
       "      <td>101</td>\n",
       "      <td>2.80</td>\n",
       "      <td>3.24</td>\n",
       "      <td>0.30</td>\n",
       "      <td>2.81</td>\n",
       "      <td>5.68</td>\n",
       "      <td>1.03</td>\n",
       "      <td>3.17</td>\n",
       "      <td>1185</td>\n",
       "    </tr>\n",
       "    <tr>\n",
       "      <th>3</th>\n",
       "      <td>1</td>\n",
       "      <td>14.37</td>\n",
       "      <td>1.95</td>\n",
       "      <td>2.50</td>\n",
       "      <td>16.8</td>\n",
       "      <td>113</td>\n",
       "      <td>3.85</td>\n",
       "      <td>3.49</td>\n",
       "      <td>0.24</td>\n",
       "      <td>2.18</td>\n",
       "      <td>7.80</td>\n",
       "      <td>0.86</td>\n",
       "      <td>3.45</td>\n",
       "      <td>1480</td>\n",
       "    </tr>\n",
       "    <tr>\n",
       "      <th>4</th>\n",
       "      <td>1</td>\n",
       "      <td>13.24</td>\n",
       "      <td>2.59</td>\n",
       "      <td>2.87</td>\n",
       "      <td>21.0</td>\n",
       "      <td>118</td>\n",
       "      <td>2.80</td>\n",
       "      <td>2.69</td>\n",
       "      <td>0.39</td>\n",
       "      <td>1.82</td>\n",
       "      <td>4.32</td>\n",
       "      <td>1.04</td>\n",
       "      <td>2.93</td>\n",
       "      <td>735</td>\n",
       "    </tr>\n",
       "  </tbody>\n",
       "</table>\n",
       "</div>"
      ],
      "text/plain": [
       "   Classes  Alcohol  Malic acid   Ash  Alcalinity of ash  Magnesium  \\\n",
       "0        1    14.23        1.71  2.43               15.6        127   \n",
       "1        1    13.20        1.78  2.14               11.2        100   \n",
       "2        1    13.16        2.36  2.67               18.6        101   \n",
       "3        1    14.37        1.95  2.50               16.8        113   \n",
       "4        1    13.24        2.59  2.87               21.0        118   \n",
       "\n",
       "   Total phenols  Flavanoids  Nonflavanoid phenols  Proanthocyanins  \\\n",
       "0           2.80        3.06                  0.28             2.29   \n",
       "1           2.65        2.76                  0.26             1.28   \n",
       "2           2.80        3.24                  0.30             2.81   \n",
       "3           3.85        3.49                  0.24             2.18   \n",
       "4           2.80        2.69                  0.39             1.82   \n",
       "\n",
       "   Color intensity   Hue  OD280/OD315 of diluted wines  Proline  \n",
       "0             5.64  1.04                          3.92     1065  \n",
       "1             4.38  1.05                          3.40     1050  \n",
       "2             5.68  1.03                          3.17     1185  \n",
       "3             7.80  0.86                          3.45     1480  \n",
       "4             4.32  1.04                          2.93      735  "
      ]
     },
     "execution_count": 5,
     "metadata": {},
     "output_type": "execute_result"
    }
   ],
   "source": [
    "dataset.head()"
   ]
  },
  {
   "cell_type": "code",
   "execution_count": 6,
   "id": "92e81798",
   "metadata": {},
   "outputs": [],
   "source": [
    "y = dataset['Classes']"
   ]
  },
  {
   "cell_type": "code",
   "execution_count": 7,
   "id": "3c46c960",
   "metadata": {},
   "outputs": [
    {
     "data": {
      "text/plain": [
       "(178,)"
      ]
     },
     "execution_count": 7,
     "metadata": {},
     "output_type": "execute_result"
    }
   ],
   "source": [
    "y.shape"
   ]
  },
  {
   "cell_type": "code",
   "execution_count": 8,
   "id": "118678fb",
   "metadata": {},
   "outputs": [
    {
     "data": {
      "text/plain": [
       "pandas.core.series.Series"
      ]
     },
     "execution_count": 8,
     "metadata": {},
     "output_type": "execute_result"
    }
   ],
   "source": [
    "type(y)"
   ]
  },
  {
   "cell_type": "code",
   "execution_count": 9,
   "id": "c4049b36",
   "metadata": {},
   "outputs": [
    {
     "data": {
      "text/plain": [
       "2    71\n",
       "1    59\n",
       "3    48\n",
       "Name: Classes, dtype: int64"
      ]
     },
     "execution_count": 9,
     "metadata": {},
     "output_type": "execute_result"
    }
   ],
   "source": [
    "y.value_counts()"
   ]
  },
  {
   "cell_type": "code",
   "execution_count": 10,
   "id": "79236c2d",
   "metadata": {},
   "outputs": [
    {
     "data": {
      "text/html": [
       "<div>\n",
       "<style scoped>\n",
       "    .dataframe tbody tr th:only-of-type {\n",
       "        vertical-align: middle;\n",
       "    }\n",
       "\n",
       "    .dataframe tbody tr th {\n",
       "        vertical-align: top;\n",
       "    }\n",
       "\n",
       "    .dataframe thead th {\n",
       "        text-align: right;\n",
       "    }\n",
       "</style>\n",
       "<table border=\"1\" class=\"dataframe\">\n",
       "  <thead>\n",
       "    <tr style=\"text-align: right;\">\n",
       "      <th></th>\n",
       "      <th>1</th>\n",
       "      <th>2</th>\n",
       "      <th>3</th>\n",
       "    </tr>\n",
       "  </thead>\n",
       "  <tbody>\n",
       "    <tr>\n",
       "      <th>0</th>\n",
       "      <td>1</td>\n",
       "      <td>0</td>\n",
       "      <td>0</td>\n",
       "    </tr>\n",
       "    <tr>\n",
       "      <th>1</th>\n",
       "      <td>1</td>\n",
       "      <td>0</td>\n",
       "      <td>0</td>\n",
       "    </tr>\n",
       "    <tr>\n",
       "      <th>2</th>\n",
       "      <td>1</td>\n",
       "      <td>0</td>\n",
       "      <td>0</td>\n",
       "    </tr>\n",
       "    <tr>\n",
       "      <th>3</th>\n",
       "      <td>1</td>\n",
       "      <td>0</td>\n",
       "      <td>0</td>\n",
       "    </tr>\n",
       "    <tr>\n",
       "      <th>4</th>\n",
       "      <td>1</td>\n",
       "      <td>0</td>\n",
       "      <td>0</td>\n",
       "    </tr>\n",
       "    <tr>\n",
       "      <th>...</th>\n",
       "      <td>...</td>\n",
       "      <td>...</td>\n",
       "      <td>...</td>\n",
       "    </tr>\n",
       "    <tr>\n",
       "      <th>173</th>\n",
       "      <td>0</td>\n",
       "      <td>0</td>\n",
       "      <td>1</td>\n",
       "    </tr>\n",
       "    <tr>\n",
       "      <th>174</th>\n",
       "      <td>0</td>\n",
       "      <td>0</td>\n",
       "      <td>1</td>\n",
       "    </tr>\n",
       "    <tr>\n",
       "      <th>175</th>\n",
       "      <td>0</td>\n",
       "      <td>0</td>\n",
       "      <td>1</td>\n",
       "    </tr>\n",
       "    <tr>\n",
       "      <th>176</th>\n",
       "      <td>0</td>\n",
       "      <td>0</td>\n",
       "      <td>1</td>\n",
       "    </tr>\n",
       "    <tr>\n",
       "      <th>177</th>\n",
       "      <td>0</td>\n",
       "      <td>0</td>\n",
       "      <td>1</td>\n",
       "    </tr>\n",
       "  </tbody>\n",
       "</table>\n",
       "<p>178 rows × 3 columns</p>\n",
       "</div>"
      ],
      "text/plain": [
       "     1  2  3\n",
       "0    1  0  0\n",
       "1    1  0  0\n",
       "2    1  0  0\n",
       "3    1  0  0\n",
       "4    1  0  0\n",
       "..  .. .. ..\n",
       "173  0  0  1\n",
       "174  0  0  1\n",
       "175  0  0  1\n",
       "176  0  0  1\n",
       "177  0  0  1\n",
       "\n",
       "[178 rows x 3 columns]"
      ]
     },
     "execution_count": 10,
     "metadata": {},
     "output_type": "execute_result"
    }
   ],
   "source": [
    "pd.get_dummies(y)"
   ]
  },
  {
   "cell_type": "code",
   "execution_count": 11,
   "id": "b5830a04",
   "metadata": {},
   "outputs": [],
   "source": [
    "y_categorical = pd.get_dummies(y)"
   ]
  },
  {
   "cell_type": "code",
   "execution_count": 12,
   "id": "9662633a",
   "metadata": {},
   "outputs": [
    {
     "data": {
      "text/plain": [
       "(178, 3)"
      ]
     },
     "execution_count": 12,
     "metadata": {},
     "output_type": "execute_result"
    }
   ],
   "source": [
    "y_categorical.shape"
   ]
  },
  {
   "cell_type": "code",
   "execution_count": 13,
   "id": "82ac80a4",
   "metadata": {},
   "outputs": [
    {
     "data": {
      "text/html": [
       "<div>\n",
       "<style scoped>\n",
       "    .dataframe tbody tr th:only-of-type {\n",
       "        vertical-align: middle;\n",
       "    }\n",
       "\n",
       "    .dataframe tbody tr th {\n",
       "        vertical-align: top;\n",
       "    }\n",
       "\n",
       "    .dataframe thead th {\n",
       "        text-align: right;\n",
       "    }\n",
       "</style>\n",
       "<table border=\"1\" class=\"dataframe\">\n",
       "  <thead>\n",
       "    <tr style=\"text-align: right;\">\n",
       "      <th></th>\n",
       "      <th>1</th>\n",
       "      <th>2</th>\n",
       "      <th>3</th>\n",
       "    </tr>\n",
       "  </thead>\n",
       "  <tbody>\n",
       "    <tr>\n",
       "      <th>0</th>\n",
       "      <td>1</td>\n",
       "      <td>0</td>\n",
       "      <td>0</td>\n",
       "    </tr>\n",
       "    <tr>\n",
       "      <th>1</th>\n",
       "      <td>1</td>\n",
       "      <td>0</td>\n",
       "      <td>0</td>\n",
       "    </tr>\n",
       "    <tr>\n",
       "      <th>2</th>\n",
       "      <td>1</td>\n",
       "      <td>0</td>\n",
       "      <td>0</td>\n",
       "    </tr>\n",
       "    <tr>\n",
       "      <th>3</th>\n",
       "      <td>1</td>\n",
       "      <td>0</td>\n",
       "      <td>0</td>\n",
       "    </tr>\n",
       "    <tr>\n",
       "      <th>4</th>\n",
       "      <td>1</td>\n",
       "      <td>0</td>\n",
       "      <td>0</td>\n",
       "    </tr>\n",
       "    <tr>\n",
       "      <th>...</th>\n",
       "      <td>...</td>\n",
       "      <td>...</td>\n",
       "      <td>...</td>\n",
       "    </tr>\n",
       "    <tr>\n",
       "      <th>173</th>\n",
       "      <td>0</td>\n",
       "      <td>0</td>\n",
       "      <td>1</td>\n",
       "    </tr>\n",
       "    <tr>\n",
       "      <th>174</th>\n",
       "      <td>0</td>\n",
       "      <td>0</td>\n",
       "      <td>1</td>\n",
       "    </tr>\n",
       "    <tr>\n",
       "      <th>175</th>\n",
       "      <td>0</td>\n",
       "      <td>0</td>\n",
       "      <td>1</td>\n",
       "    </tr>\n",
       "    <tr>\n",
       "      <th>176</th>\n",
       "      <td>0</td>\n",
       "      <td>0</td>\n",
       "      <td>1</td>\n",
       "    </tr>\n",
       "    <tr>\n",
       "      <th>177</th>\n",
       "      <td>0</td>\n",
       "      <td>0</td>\n",
       "      <td>1</td>\n",
       "    </tr>\n",
       "  </tbody>\n",
       "</table>\n",
       "<p>178 rows × 3 columns</p>\n",
       "</div>"
      ],
      "text/plain": [
       "     1  2  3\n",
       "0    1  0  0\n",
       "1    1  0  0\n",
       "2    1  0  0\n",
       "3    1  0  0\n",
       "4    1  0  0\n",
       "..  .. .. ..\n",
       "173  0  0  1\n",
       "174  0  0  1\n",
       "175  0  0  1\n",
       "176  0  0  1\n",
       "177  0  0  1\n",
       "\n",
       "[178 rows x 3 columns]"
      ]
     },
     "execution_count": 13,
     "metadata": {},
     "output_type": "execute_result"
    }
   ],
   "source": [
    "y_categorical"
   ]
  },
  {
   "cell_type": "code",
   "execution_count": 14,
   "id": "047b4319",
   "metadata": {},
   "outputs": [],
   "source": [
    "import seaborn as sns"
   ]
  },
  {
   "cell_type": "code",
   "execution_count": 15,
   "id": "117bce84",
   "metadata": {},
   "outputs": [
    {
     "data": {
      "text/plain": [
       "<AxesSubplot:xlabel='Alcohol', ylabel='Classes'>"
      ]
     },
     "execution_count": 15,
     "metadata": {},
     "output_type": "execute_result"
    },
    {
     "data": {
      "image/png": "[encoded data removed]",
      "text/plain": [
       "<Figure size 432x288 with 1 Axes>"
      ]
     },
     "metadata": {
      "needs_background": "light"
     },
     "output_type": "display_data"
    }
   ],
   "source": [
    "sns.scatterplot(x=\"Alcohol\",y=\"Classes\",data=dataset)"
   ]
  },
  {
   "cell_type": "code",
   "execution_count": 16,
   "id": "550dc82f",
   "metadata": {},
   "outputs": [
    {
     "data": {
      "text/plain": [
       "<AxesSubplot:xlabel='Malic acid', ylabel='Classes'>"
      ]
     },
     "execution_count": 16,
     "metadata": {},
     "output_type": "execute_result"
    },
    {
     "data": {
      "image/png": "[encoded data removed]",
      "text/plain": [
       "<Figure size 432x288 with 1 Axes>"
      ]
     },
     "metadata": {
      "needs_background": "light"
     },
     "output_type": "display_data"
    }
   ],
   "source": [
    "sns.scatterplot(x=\"Malic acid\",y=\"Classes\",data=dataset)"
   ]
  },
  {
   "cell_type": "code",
   "execution_count": 17,
   "id": "f120a99c",
   "metadata": {},
   "outputs": [
    {
     "data": {
      "text/plain": [
       "<AxesSubplot:xlabel='Ash', ylabel='Classes'>"
      ]
     },
     "execution_count": 17,
     "metadata": {},
     "output_type": "execute_result"
    },
    {
     "data": {
      "image/png": "[encoded data removed]",
      "text/plain": [
       "<Figure size 432x288 with 1 Axes>"
      ]
     },
     "metadata": {
      "needs_background": "light"
     },
     "output_type": "display_data"
    }
   ],
   "source": [
    "#See overlapping values so remove it: Ash ==> Not Important feature\n",
    "sns.scatterplot(x=\"Ash\",y=\"Classes\",data=dataset)"
   ]
  },
  {
   "cell_type": "code",
   "execution_count": 18,
   "id": "274d826a",
   "metadata": {},
   "outputs": [
    {
     "data": {
      "text/plain": [
       "<AxesSubplot:xlabel='Alcalinity of ash', ylabel='Classes'>"
      ]
     },
     "execution_count": 18,
     "metadata": {},
     "output_type": "execute_result"
    },
    {
     "data": {
      "image/png": "[encoded data removed]",
      "text/plain": [
       "<Figure size 432x288 with 1 Axes>"
      ]
     },
     "metadata": {
      "needs_background": "light"
     },
     "output_type": "display_data"
    }
   ],
   "source": [
    "sns.scatterplot(x=\"Alcalinity of ash\",y=\"Classes\",data=dataset)"
   ]
  },
  {
   "cell_type": "code",
   "execution_count": 19,
   "id": "91b48d5d",
   "metadata": {},
   "outputs": [
    {
     "data": {
      "text/plain": [
       "<AxesSubplot:xlabel='Magnesium', ylabel='Classes'>"
      ]
     },
     "execution_count": 19,
     "metadata": {},
     "output_type": "execute_result"
    },
    {
     "data": {
      "image/png": "[encoded data removed]",
      "text/plain": [
       "<Figure size 432x288 with 1 Axes>"
      ]
     },
     "metadata": {
      "needs_background": "light"
     },
     "output_type": "display_data"
    }
   ],
   "source": [
    "#Magenesium is not an Important feature: OVERLAPPING VALUES\n",
    "sns.scatterplot(x=\"Magnesium\",y=\"Classes\",data=dataset)"
   ]
  },
  {
   "cell_type": "code",
   "execution_count": 20,
   "id": "f6201a6b",
   "metadata": {},
   "outputs": [
    {
     "data": {
      "text/plain": [
       "<AxesSubplot:xlabel='Total phenols', ylabel='Classes'>"
      ]
     },
     "execution_count": 20,
     "metadata": {},
     "output_type": "execute_result"
    },
    {
     "data": {
      "image/png": "[encoded data removed]",
      "text/plain": [
       "<Figure size 432x288 with 1 Axes>"
      ]
     },
     "metadata": {
      "needs_background": "light"
     },
     "output_type": "display_data"
    }
   ],
   "source": [
    "sns.scatterplot(x=\"Total phenols\",y=\"Classes\",data=dataset)"
   ]
  },
  {
   "cell_type": "code",
   "execution_count": 21,
   "id": "3ce69af7",
   "metadata": {},
   "outputs": [
    {
     "data": {
      "text/plain": [
       "<AxesSubplot:xlabel='Flavanoids', ylabel='Classes'>"
      ]
     },
     "execution_count": 21,
     "metadata": {},
     "output_type": "execute_result"
    },
    {
     "data": {
      "image/png": "[encoded data removed]",
      "text/plain": [
       "<Figure size 432x288 with 1 Axes>"
      ]
     },
     "metadata": {
      "needs_background": "light"
     },
     "output_type": "display_data"
    }
   ],
   "source": [
    "sns.scatterplot(x=\"Flavanoids\",y=\"Classes\",data=dataset)"
   ]
  },
  {
   "cell_type": "code",
   "execution_count": 22,
   "id": "c0947706",
   "metadata": {},
   "outputs": [
    {
     "data": {
      "text/plain": [
       "<AxesSubplot:xlabel='Nonflavanoid phenols', ylabel='Classes'>"
      ]
     },
     "execution_count": 22,
     "metadata": {},
     "output_type": "execute_result"
    },
    {
     "data": {
      "image/png": "[encoded data removed]",
      "text/plain": [
       "<Figure size 432x288 with 1 Axes>"
      ]
     },
     "metadata": {
      "needs_background": "light"
     },
     "output_type": "display_data"
    }
   ],
   "source": [
    "#Not a good feature as it has distributed values for all classes\n",
    "sns.scatterplot(x=\"Nonflavanoid phenols\",y=\"Classes\",data=dataset)"
   ]
  },
  {
   "cell_type": "code",
   "execution_count": 23,
   "id": "75d43757",
   "metadata": {},
   "outputs": [
    {
     "data": {
      "text/plain": [
       "<AxesSubplot:xlabel='Proanthocyanins', ylabel='Classes'>"
      ]
     },
     "execution_count": 23,
     "metadata": {},
     "output_type": "execute_result"
    },
    {
     "data": {
      "image/png": "[encoded data removed]",
      "text/plain": [
       "<Figure size 432x288 with 1 Axes>"
      ]
     },
     "metadata": {
      "needs_background": "light"
     },
     "output_type": "display_data"
    }
   ],
   "source": [
    "sns.scatterplot(x=\"Proanthocyanins\",y=\"Classes\",data=dataset)"
   ]
  },
  {
   "cell_type": "code",
   "execution_count": 24,
   "id": "807a558e",
   "metadata": {},
   "outputs": [
    {
     "data": {
      "text/plain": [
       "<AxesSubplot:xlabel='Color intensity', ylabel='Classes'>"
      ]
     },
     "execution_count": 24,
     "metadata": {},
     "output_type": "execute_result"
    },
    {
     "data": {
      "image/png": "[encoded data removed]",
      "text/plain": [
       "<Figure size 432x288 with 1 Axes>"
      ]
     },
     "metadata": {
      "needs_background": "light"
     },
     "output_type": "display_data"
    }
   ],
   "source": [
    "sns.scatterplot(x=\"Color intensity\",y=\"Classes\",data=dataset)"
   ]
  },
  {
   "cell_type": "code",
   "execution_count": 25,
   "id": "0f63e709",
   "metadata": {},
   "outputs": [
    {
     "data": {
      "text/plain": [
       "<AxesSubplot:xlabel='Hue', ylabel='Classes'>"
      ]
     },
     "execution_count": 25,
     "metadata": {},
     "output_type": "execute_result"
    },
    {
     "data": {
      "image/png": "[encoded data removed]",
      "text/plain": [
       "<Figure size 432x288 with 1 Axes>"
      ]
     },
     "metadata": {
      "needs_background": "light"
     },
     "output_type": "display_data"
    }
   ],
   "source": [
    "sns.scatterplot(x=\"Hue\",y=\"Classes\",data=dataset)"
   ]
  },
  {
   "cell_type": "code",
   "execution_count": 26,
   "id": "b128f632",
   "metadata": {},
   "outputs": [
    {
     "data": {
      "text/plain": [
       "<AxesSubplot:xlabel='OD280/OD315 of diluted wines', ylabel='Classes'>"
      ]
     },
     "execution_count": 26,
     "metadata": {},
     "output_type": "execute_result"
    },
    {
     "data": {
      "image/png": "[encoded data removed]",
      "text/plain": [
       "<Figure size 432x288 with 1 Axes>"
      ]
     },
     "metadata": {
      "needs_background": "light"
     },
     "output_type": "display_data"
    }
   ],
   "source": [
    "sns.scatterplot(x=\"OD280/OD315 of diluted wines\",y=\"Classes\",data=dataset)"
   ]
  },
  {
   "cell_type": "code",
   "execution_count": 27,
   "id": "60eb9363",
   "metadata": {},
   "outputs": [
    {
     "data": {
      "text/plain": [
       "<AxesSubplot:xlabel='Proline', ylabel='Classes'>"
      ]
     },
     "execution_count": 27,
     "metadata": {},
     "output_type": "execute_result"
    },
    {
     "data": {
      "image/png": "[encoded data removed]",
      "text/plain": [
       "<Figure size 432x288 with 1 Axes>"
      ]
     },
     "metadata": {
      "needs_background": "light"
     },
     "output_type": "display_data"
    }
   ],
   "source": [
    "sns.scatterplot(x=\"Proline\",y=\"Classes\",data=dataset)"
   ]
  },
  {
   "cell_type": "code",
   "execution_count": 28,
   "id": "2813cde4",
   "metadata": {},
   "outputs": [
    {
     "data": {
      "text/html": [
       "<div>\n",
       "<style scoped>\n",
       "    .dataframe tbody tr th:only-of-type {\n",
       "        vertical-align: middle;\n",
       "    }\n",
       "\n",
       "    .dataframe tbody tr th {\n",
       "        vertical-align: top;\n",
       "    }\n",
       "\n",
       "    .dataframe thead th {\n",
       "        text-align: right;\n",
       "    }\n",
       "</style>\n",
       "<table border=\"1\" class=\"dataframe\">\n",
       "  <thead>\n",
       "    <tr style=\"text-align: right;\">\n",
       "      <th></th>\n",
       "      <th>Alcohol</th>\n",
       "      <th>Malic acid</th>\n",
       "      <th>Alcalinity of ash</th>\n",
       "      <th>Total phenols</th>\n",
       "      <th>Flavanoids</th>\n",
       "      <th>Proanthocyanins</th>\n",
       "      <th>Color intensity</th>\n",
       "      <th>Hue</th>\n",
       "      <th>OD280/OD315 of diluted wines</th>\n",
       "      <th>Proline</th>\n",
       "    </tr>\n",
       "  </thead>\n",
       "  <tbody>\n",
       "    <tr>\n",
       "      <th>0</th>\n",
       "      <td>14.23</td>\n",
       "      <td>1.71</td>\n",
       "      <td>15.6</td>\n",
       "      <td>2.80</td>\n",
       "      <td>3.06</td>\n",
       "      <td>2.29</td>\n",
       "      <td>5.64</td>\n",
       "      <td>1.04</td>\n",
       "      <td>3.92</td>\n",
       "      <td>1065</td>\n",
       "    </tr>\n",
       "    <tr>\n",
       "      <th>1</th>\n",
       "      <td>13.20</td>\n",
       "      <td>1.78</td>\n",
       "      <td>11.2</td>\n",
       "      <td>2.65</td>\n",
       "      <td>2.76</td>\n",
       "      <td>1.28</td>\n",
       "      <td>4.38</td>\n",
       "      <td>1.05</td>\n",
       "      <td>3.40</td>\n",
       "      <td>1050</td>\n",
       "    </tr>\n",
       "    <tr>\n",
       "      <th>2</th>\n",
       "      <td>13.16</td>\n",
       "      <td>2.36</td>\n",
       "      <td>18.6</td>\n",
       "      <td>2.80</td>\n",
       "      <td>3.24</td>\n",
       "      <td>2.81</td>\n",
       "      <td>5.68</td>\n",
       "      <td>1.03</td>\n",
       "      <td>3.17</td>\n",
       "      <td>1185</td>\n",
       "    </tr>\n",
       "    <tr>\n",
       "      <th>3</th>\n",
       "      <td>14.37</td>\n",
       "      <td>1.95</td>\n",
       "      <td>16.8</td>\n",
       "      <td>3.85</td>\n",
       "      <td>3.49</td>\n",
       "      <td>2.18</td>\n",
       "      <td>7.80</td>\n",
       "      <td>0.86</td>\n",
       "      <td>3.45</td>\n",
       "      <td>1480</td>\n",
       "    </tr>\n",
       "    <tr>\n",
       "      <th>4</th>\n",
       "      <td>13.24</td>\n",
       "      <td>2.59</td>\n",
       "      <td>21.0</td>\n",
       "      <td>2.80</td>\n",
       "      <td>2.69</td>\n",
       "      <td>1.82</td>\n",
       "      <td>4.32</td>\n",
       "      <td>1.04</td>\n",
       "      <td>2.93</td>\n",
       "      <td>735</td>\n",
       "    </tr>\n",
       "    <tr>\n",
       "      <th>...</th>\n",
       "      <td>...</td>\n",
       "      <td>...</td>\n",
       "      <td>...</td>\n",
       "      <td>...</td>\n",
       "      <td>...</td>\n",
       "      <td>...</td>\n",
       "      <td>...</td>\n",
       "      <td>...</td>\n",
       "      <td>...</td>\n",
       "      <td>...</td>\n",
       "    </tr>\n",
       "    <tr>\n",
       "      <th>173</th>\n",
       "      <td>13.71</td>\n",
       "      <td>5.65</td>\n",
       "      <td>20.5</td>\n",
       "      <td>1.68</td>\n",
       "      <td>0.61</td>\n",
       "      <td>1.06</td>\n",
       "      <td>7.70</td>\n",
       "      <td>0.64</td>\n",
       "      <td>1.74</td>\n",
       "      <td>740</td>\n",
       "    </tr>\n",
       "    <tr>\n",
       "      <th>174</th>\n",
       "      <td>13.40</td>\n",
       "      <td>3.91</td>\n",
       "      <td>23.0</td>\n",
       "      <td>1.80</td>\n",
       "      <td>0.75</td>\n",
       "      <td>1.41</td>\n",
       "      <td>7.30</td>\n",
       "      <td>0.70</td>\n",
       "      <td>1.56</td>\n",
       "      <td>750</td>\n",
       "    </tr>\n",
       "    <tr>\n",
       "      <th>175</th>\n",
       "      <td>13.27</td>\n",
       "      <td>4.28</td>\n",
       "      <td>20.0</td>\n",
       "      <td>1.59</td>\n",
       "      <td>0.69</td>\n",
       "      <td>1.35</td>\n",
       "      <td>10.20</td>\n",
       "      <td>0.59</td>\n",
       "      <td>1.56</td>\n",
       "      <td>835</td>\n",
       "    </tr>\n",
       "    <tr>\n",
       "      <th>176</th>\n",
       "      <td>13.17</td>\n",
       "      <td>2.59</td>\n",
       "      <td>20.0</td>\n",
       "      <td>1.65</td>\n",
       "      <td>0.68</td>\n",
       "      <td>1.46</td>\n",
       "      <td>9.30</td>\n",
       "      <td>0.60</td>\n",
       "      <td>1.62</td>\n",
       "      <td>840</td>\n",
       "    </tr>\n",
       "    <tr>\n",
       "      <th>177</th>\n",
       "      <td>14.13</td>\n",
       "      <td>4.10</td>\n",
       "      <td>24.5</td>\n",
       "      <td>2.05</td>\n",
       "      <td>0.76</td>\n",
       "      <td>1.35</td>\n",
       "      <td>9.20</td>\n",
       "      <td>0.61</td>\n",
       "      <td>1.60</td>\n",
       "      <td>560</td>\n",
       "    </tr>\n",
       "  </tbody>\n",
       "</table>\n",
       "<p>178 rows × 10 columns</p>\n",
       "</div>"
      ],
      "text/plain": [
       "     Alcohol  Malic acid  Alcalinity of ash  Total phenols  Flavanoids  \\\n",
       "0      14.23        1.71               15.6           2.80        3.06   \n",
       "1      13.20        1.78               11.2           2.65        2.76   \n",
       "2      13.16        2.36               18.6           2.80        3.24   \n",
       "3      14.37        1.95               16.8           3.85        3.49   \n",
       "4      13.24        2.59               21.0           2.80        2.69   \n",
       "..       ...         ...                ...            ...         ...   \n",
       "173    13.71        5.65               20.5           1.68        0.61   \n",
       "174    13.40        3.91               23.0           1.80        0.75   \n",
       "175    13.27        4.28               20.0           1.59        0.69   \n",
       "176    13.17        2.59               20.0           1.65        0.68   \n",
       "177    14.13        4.10               24.5           2.05        0.76   \n",
       "\n",
       "     Proanthocyanins  Color intensity   Hue  OD280/OD315 of diluted wines  \\\n",
       "0               2.29             5.64  1.04                          3.92   \n",
       "1               1.28             4.38  1.05                          3.40   \n",
       "2               2.81             5.68  1.03                          3.17   \n",
       "3               2.18             7.80  0.86                          3.45   \n",
       "4               1.82             4.32  1.04                          2.93   \n",
       "..               ...              ...   ...                           ...   \n",
       "173             1.06             7.70  0.64                          1.74   \n",
       "174             1.41             7.30  0.70                          1.56   \n",
       "175             1.35            10.20  0.59                          1.56   \n",
       "176             1.46             9.30  0.60                          1.62   \n",
       "177             1.35             9.20  0.61                          1.60   \n",
       "\n",
       "     Proline  \n",
       "0       1065  \n",
       "1       1050  \n",
       "2       1185  \n",
       "3       1480  \n",
       "4        735  \n",
       "..       ...  \n",
       "173      740  \n",
       "174      750  \n",
       "175      835  \n",
       "176      840  \n",
       "177      560  \n",
       "\n",
       "[178 rows x 10 columns]"
      ]
     },
     "execution_count": 28,
     "metadata": {},
     "output_type": "execute_result"
    }
   ],
   "source": [
    "#Feature Elimination\n",
    "x=dataset\n",
    "for i in [\"Ash\",\"Magnesium\",\"Nonflavanoid phenols\",\"Classes\"]:\n",
    "    x=x.drop(i,axis=1)\n",
    "x"
   ]
  },
  {
   "cell_type": "code",
   "execution_count": 29,
   "id": "b596154a",
   "metadata": {},
   "outputs": [
    {
     "data": {
      "text/plain": [
       "(178, 10)"
      ]
     },
     "execution_count": 29,
     "metadata": {},
     "output_type": "execute_result"
    }
   ],
   "source": [
    "x.shape"
   ]
  },
  {
   "cell_type": "code",
   "execution_count": 30,
   "id": "d4bd490b",
   "metadata": {},
   "outputs": [
    {
     "name": "stdout",
     "output_type": "stream",
     "text": [
      "<class 'pandas.core.frame.DataFrame'>\n",
      "RangeIndex: 178 entries, 0 to 177\n",
      "Data columns (total 10 columns):\n",
      " #   Column                        Non-Null Count  Dtype  \n",
      "---  ------                        --------------  -----  \n",
      " 0   Alcohol                       178 non-null    float64\n",
      " 1   Malic acid                    178 non-null    float64\n",
      " 2   Alcalinity of ash             178 non-null    float64\n",
      " 3   Total phenols                 178 non-null    float64\n",
      " 4   Flavanoids                    178 non-null    float64\n",
      " 5   Proanthocyanins               178 non-null    float64\n",
      " 6   Color intensity               178 non-null    float64\n",
      " 7   Hue                           178 non-null    float64\n",
      " 8   OD280/OD315 of diluted wines  178 non-null    float64\n",
      " 9   Proline                       178 non-null    int64  \n",
      "dtypes: float64(9), int64(1)\n",
      "memory usage: 14.0 KB\n"
     ]
    }
   ],
   "source": [
    "x.info()"
   ]
  },
  {
   "cell_type": "code",
   "execution_count": 31,
   "id": "8dfbbd61",
   "metadata": {},
   "outputs": [],
   "source": [
    "from keras.models import Sequential"
   ]
  },
  {
   "cell_type": "code",
   "execution_count": 32,
   "id": "0ea7b5cd",
   "metadata": {},
   "outputs": [],
   "source": [
    "model = Sequential()"
   ]
  },
  {
   "cell_type": "code",
   "execution_count": 33,
   "id": "9d6ea38b",
   "metadata": {},
   "outputs": [
    {
     "data": {
      "text/plain": [
       "{'name': 'sequential', 'layers': []}"
      ]
     },
     "execution_count": 33,
     "metadata": {},
     "output_type": "execute_result"
    }
   ],
   "source": [
    "model.get_config()"
   ]
  },
  {
   "cell_type": "code",
   "execution_count": 34,
   "id": "0c3c08d2",
   "metadata": {},
   "outputs": [],
   "source": [
    "from keras.layers import Dense"
   ]
  },
  {
   "cell_type": "code",
   "execution_count": 35,
   "id": "9176fcb0",
   "metadata": {},
   "outputs": [],
   "source": [
    "model.add(\n",
    "    Dense(\n",
    "        units = 16,\n",
    "        input_shape=(10,),\n",
    "        activation=\"relu\",\n",
    "        kernel_initializer=\"he_normal\"\n",
    "    )\n",
    ")"
   ]
  },
  {
   "cell_type": "code",
   "execution_count": 36,
   "id": "626deb05",
   "metadata": {},
   "outputs": [
    {
     "name": "stdout",
     "output_type": "stream",
     "text": [
      "Model: \"sequential\"\n",
      "_________________________________________________________________\n",
      "Layer (type)                 Output Shape              Param #   \n",
      "=================================================================\n",
      "dense (Dense)                (None, 16)                176       \n",
      "=================================================================\n",
      "Total params: 176\n",
      "Trainable params: 176\n",
      "Non-trainable params: 0\n",
      "_________________________________________________________________\n"
     ]
    }
   ],
   "source": [
    "model.summary()"
   ]
  },
  {
   "cell_type": "code",
   "execution_count": 37,
   "id": "d7d39c06",
   "metadata": {},
   "outputs": [],
   "source": [
    "model.add(\n",
    "    Dense(\n",
    "        units=16,\n",
    "        activation='relu',\n",
    "        kernel_initializer='he_normal'\n",
    "    )\n",
    ")"
   ]
  },
  {
   "cell_type": "code",
   "execution_count": 38,
   "id": "54330dc5",
   "metadata": {},
   "outputs": [
    {
     "name": "stdout",
     "output_type": "stream",
     "text": [
      "Model: \"sequential\"\n",
      "_________________________________________________________________\n",
      "Layer (type)                 Output Shape              Param #   \n",
      "=================================================================\n",
      "dense (Dense)                (None, 16)                176       \n",
      "_________________________________________________________________\n",
      "dense_1 (Dense)              (None, 16)                272       \n",
      "=================================================================\n",
      "Total params: 448\n",
      "Trainable params: 448\n",
      "Non-trainable params: 0\n",
      "_________________________________________________________________\n"
     ]
    }
   ],
   "source": [
    "model.summary()"
   ]
  },
  {
   "cell_type": "code",
   "execution_count": 39,
   "id": "fd9e99a3",
   "metadata": {},
   "outputs": [],
   "source": [
    "model.add(\n",
    "    Dense(\n",
    "        units=16,\n",
    "        activation='relu',\n",
    "        kernel_initializer='he_normal'\n",
    "    )\n",
    ")"
   ]
  },
  {
   "cell_type": "code",
   "execution_count": 40,
   "id": "045e8528",
   "metadata": {},
   "outputs": [
    {
     "data": {
      "text/plain": [
       "{'name': 'sequential',\n",
       " 'layers': [{'class_name': 'InputLayer',\n",
       "   'config': {'batch_input_shape': (None, 10),\n",
       "    'dtype': 'float32',\n",
       "    'sparse': False,\n",
       "    'ragged': False,\n",
       "    'name': 'dense_input'}},\n",
       "  {'class_name': 'Dense',\n",
       "   'config': {'name': 'dense',\n",
       "    'trainable': True,\n",
       "    'batch_input_shape': (None, 10),\n",
       "    'dtype': 'float32',\n",
       "    'units': 16,\n",
       "    'activation': 'relu',\n",
       "    'use_bias': True,\n",
       "    'kernel_initializer': {'class_name': 'HeNormal', 'config': {'seed': None}},\n",
       "    'bias_initializer': {'class_name': 'Zeros', 'config': {}},\n",
       "    'kernel_regularizer': None,\n",
       "    'bias_regularizer': None,\n",
       "    'activity_regularizer': None,\n",
       "    'kernel_constraint': None,\n",
       "    'bias_constraint': None}},\n",
       "  {'class_name': 'Dense',\n",
       "   'config': {'name': 'dense_1',\n",
       "    'trainable': True,\n",
       "    'dtype': 'float32',\n",
       "    'units': 16,\n",
       "    'activation': 'relu',\n",
       "    'use_bias': True,\n",
       "    'kernel_initializer': {'class_name': 'HeNormal', 'config': {'seed': None}},\n",
       "    'bias_initializer': {'class_name': 'Zeros', 'config': {}},\n",
       "    'kernel_regularizer': None,\n",
       "    'bias_regularizer': None,\n",
       "    'activity_regularizer': None,\n",
       "    'kernel_constraint': None,\n",
       "    'bias_constraint': None}},\n",
       "  {'class_name': 'Dense',\n",
       "   'config': {'name': 'dense_2',\n",
       "    'trainable': True,\n",
       "    'dtype': 'float32',\n",
       "    'units': 16,\n",
       "    'activation': 'relu',\n",
       "    'use_bias': True,\n",
       "    'kernel_initializer': {'class_name': 'HeNormal', 'config': {'seed': None}},\n",
       "    'bias_initializer': {'class_name': 'Zeros', 'config': {}},\n",
       "    'kernel_regularizer': None,\n",
       "    'bias_regularizer': None,\n",
       "    'activity_regularizer': None,\n",
       "    'kernel_constraint': None,\n",
       "    'bias_constraint': None}}]}"
      ]
     },
     "execution_count": 40,
     "metadata": {},
     "output_type": "execute_result"
    }
   ],
   "source": [
    "model.get_config()"
   ]
  },
  {
   "cell_type": "code",
   "execution_count": 41,
   "id": "9b49027f",
   "metadata": {},
   "outputs": [],
   "source": [
    "model.add(\n",
    "    Dense(\n",
    "        units=3,\n",
    "        activation=\"softmax\"\n",
    "    )\n",
    ")"
   ]
  },
  {
   "cell_type": "code",
   "execution_count": 42,
   "id": "5fb079ca",
   "metadata": {},
   "outputs": [
    {
     "name": "stdout",
     "output_type": "stream",
     "text": [
      "Model: \"sequential\"\n",
      "_________________________________________________________________\n",
      "Layer (type)                 Output Shape              Param #   \n",
      "=================================================================\n",
      "dense (Dense)                (None, 16)                176       \n",
      "_________________________________________________________________\n",
      "dense_1 (Dense)              (None, 16)                272       \n",
      "_________________________________________________________________\n",
      "dense_2 (Dense)              (None, 16)                272       \n",
      "_________________________________________________________________\n",
      "dense_3 (Dense)              (None, 3)                 51        \n",
      "=================================================================\n",
      "Total params: 771\n",
      "Trainable params: 771\n",
      "Non-trainable params: 0\n",
      "_________________________________________________________________\n"
     ]
    }
   ],
   "source": [
    "model.summary()"
   ]
  },
  {
   "cell_type": "code",
   "execution_count": 43,
   "id": "bba2a1ba",
   "metadata": {},
   "outputs": [],
   "source": [
    "from keras.optimizers import RMSprop"
   ]
  },
  {
   "cell_type": "code",
   "execution_count": 44,
   "id": "d8193a25",
   "metadata": {},
   "outputs": [],
   "source": [
    "model.compile(optimizer=RMSprop(learning_rate=0.01),loss='categorical_crossentropy',metrics=['accuracy'])"
   ]
  },
  {
   "cell_type": "code",
   "execution_count": 45,
   "id": "46324ef5",
   "metadata": {
    "scrolled": false
   },
   "outputs": [
    {
     "name": "stdout",
     "output_type": "stream",
     "text": [
      "Epoch 1/175\n",
      "6/6 [==============================] - 1s 2ms/step - loss: 101.0759 - accuracy: 0.3471\n",
      "Epoch 2/175\n",
      "6/6 [==============================] - 0s 2ms/step - loss: 30.8923 - accuracy: 0.3766\n",
      "Epoch 3/175\n",
      "6/6 [==============================] - 0s 2ms/step - loss: 22.9360 - accuracy: 0.2935\n",
      "Epoch 4/175\n",
      "6/6 [==============================] - 0s 5ms/step - loss: 16.7891 - accuracy: 0.3315\n",
      "Epoch 5/175\n",
      "6/6 [==============================] - 0s 2ms/step - loss: 12.8046 - accuracy: 0.3446\n",
      "Epoch 6/175\n",
      "6/6 [==============================] - 0s 3ms/step - loss: 14.3661 - accuracy: 0.2867\n",
      "Epoch 7/175\n",
      "6/6 [==============================] - 0s 5ms/step - loss: 9.0758 - accuracy: 0.3184\n",
      "Epoch 8/175\n",
      "6/6 [==============================] - 0s 2ms/step - loss: 9.6952 - accuracy: 0.3126\n",
      "Epoch 9/175\n",
      "6/6 [==============================] - 0s 3ms/step - loss: 7.6666 - accuracy: 0.3397\n",
      "Epoch 10/175\n",
      "6/6 [==============================] - 0s 3ms/step - loss: 4.7603 - accuracy: 0.3067\n",
      "Epoch 11/175\n",
      "6/6 [==============================] - 0s 3ms/step - loss: 5.1543 - accuracy: 0.3357\n",
      "Epoch 12/175\n",
      "6/6 [==============================] - 0s 3ms/step - loss: 4.8865 - accuracy: 0.4062\n",
      "Epoch 13/175\n",
      "6/6 [==============================] - 0s 3ms/step - loss: 2.1698 - accuracy: 0.5791\n",
      "Epoch 14/175\n",
      "6/6 [==============================] - 0s 5ms/step - loss: 1.5586 - accuracy: 0.5760\n",
      "Epoch 15/175\n",
      "6/6 [==============================] - 0s 3ms/step - loss: 2.1742 - accuracy: 0.4220\n",
      "Epoch 16/175\n",
      "6/6 [==============================] - 0s 5ms/step - loss: 0.6048 - accuracy: 0.6947\n",
      "Epoch 17/175\n",
      "6/6 [==============================] - 0s 3ms/step - loss: 2.0846 - accuracy: 0.4570\n",
      "Epoch 18/175\n",
      "6/6 [==============================] - 0s 3ms/step - loss: 1.6953 - accuracy: 0.4830\n",
      "Epoch 19/175\n",
      "6/6 [==============================] - 0s 3ms/step - loss: 0.5825 - accuracy: 0.7218\n",
      "Epoch 20/175\n",
      "6/6 [==============================] - 0s 3ms/step - loss: 0.9845 - accuracy: 0.6113\n",
      "Epoch 21/175\n",
      "6/6 [==============================] - 0s 3ms/step - loss: 0.5361 - accuracy: 0.7583\n",
      "Epoch 22/175\n",
      "6/6 [==============================] - 0s 3ms/step - loss: 0.6799 - accuracy: 0.6558\n",
      "Epoch 23/175\n",
      "6/6 [==============================] - 0s 2ms/step - loss: 1.2091 - accuracy: 0.6998\n",
      "Epoch 24/175\n",
      "6/6 [==============================] - 0s 2ms/step - loss: 0.9845 - accuracy: 0.6446\n",
      "Epoch 25/175\n",
      "6/6 [==============================] - 0s 4ms/step - loss: 0.5174 - accuracy: 0.8084\n",
      "Epoch 26/175\n",
      "6/6 [==============================] - 0s 2ms/step - loss: 0.6606 - accuracy: 0.7210\n",
      "Epoch 27/175\n",
      "6/6 [==============================] - 0s 2ms/step - loss: 0.5866 - accuracy: 0.7245\n",
      "Epoch 28/175\n",
      "6/6 [==============================] - 0s 2ms/step - loss: 0.7468 - accuracy: 0.7032\n",
      "Epoch 29/175\n",
      "6/6 [==============================] - 0s 4ms/step - loss: 3.8163 - accuracy: 0.5097\n",
      "Epoch 30/175\n",
      "6/6 [==============================] - 0s 2ms/step - loss: 0.5163 - accuracy: 0.7909\n",
      "Epoch 31/175\n",
      "6/6 [==============================] - 0s 2ms/step - loss: 0.5850 - accuracy: 0.7595\n",
      "Epoch 32/175\n",
      "6/6 [==============================] - 0s 2ms/step - loss: 0.4750 - accuracy: 0.8345\n",
      "Epoch 33/175\n",
      "6/6 [==============================] - 0s 2ms/step - loss: 0.5960 - accuracy: 0.7585\n",
      "Epoch 34/175\n",
      "6/6 [==============================] - 0s 2ms/step - loss: 0.5171 - accuracy: 0.7830\n",
      "Epoch 35/175\n",
      "6/6 [==============================] - 0s 3ms/step - loss: 0.4797 - accuracy: 0.8032\n",
      "Epoch 36/175\n",
      "6/6 [==============================] - 0s 3ms/step - loss: 0.5265 - accuracy: 0.7987\n",
      "Epoch 37/175\n",
      "6/6 [==============================] - 0s 3ms/step - loss: 0.6276 - accuracy: 0.7051\n",
      "Epoch 38/175\n",
      "6/6 [==============================] - 0s 3ms/step - loss: 0.4617 - accuracy: 0.7931\n",
      "Epoch 39/175\n",
      "6/6 [==============================] - 0s 2ms/step - loss: 0.7647 - accuracy: 0.7267\n",
      "Epoch 40/175\n",
      "6/6 [==============================] - 0s 2ms/step - loss: 0.4560 - accuracy: 0.7972\n",
      "Epoch 41/175\n",
      "6/6 [==============================] - 0s 3ms/step - loss: 1.2427 - accuracy: 0.6659\n",
      "Epoch 42/175\n",
      "6/6 [==============================] - 0s 4ms/step - loss: 0.4205 - accuracy: 0.8432\n",
      "Epoch 43/175\n",
      "6/6 [==============================] - 0s 4ms/step - loss: 0.4172 - accuracy: 0.8355\n",
      "Epoch 44/175\n",
      "6/6 [==============================] - 0s 4ms/step - loss: 0.4650 - accuracy: 0.7917\n",
      "Epoch 45/175\n",
      "6/6 [==============================] - 0s 4ms/step - loss: 0.4996 - accuracy: 0.8062\n",
      "Epoch 46/175\n",
      "6/6 [==============================] - 0s 3ms/step - loss: 0.4331 - accuracy: 0.8225\n",
      "Epoch 47/175\n",
      "6/6 [==============================] - 0s 4ms/step - loss: 0.4160 - accuracy: 0.8560\n",
      "Epoch 48/175\n",
      "6/6 [==============================] - 0s 4ms/step - loss: 0.4866 - accuracy: 0.8016\n",
      "Epoch 49/175\n",
      "6/6 [==============================] - 0s 4ms/step - loss: 0.5225 - accuracy: 0.7938\n",
      "Epoch 50/175\n",
      "6/6 [==============================] - 0s 4ms/step - loss: 0.4674 - accuracy: 0.8230\n",
      "Epoch 51/175\n",
      "6/6 [==============================] - 0s 4ms/step - loss: 0.3481 - accuracy: 0.8957\n",
      "Epoch 52/175\n",
      "6/6 [==============================] - 0s 4ms/step - loss: 0.6106 - accuracy: 0.8061\n",
      "Epoch 53/175\n",
      "6/6 [==============================] - 0s 2ms/step - loss: 0.6043 - accuracy: 0.7466\n",
      "Epoch 54/175\n",
      "6/6 [==============================] - 0s 3ms/step - loss: 0.3553 - accuracy: 0.8528\n",
      "Epoch 55/175\n",
      "6/6 [==============================] - 0s 2ms/step - loss: 0.4084 - accuracy: 0.8073\n",
      "Epoch 56/175\n",
      "6/6 [==============================] - 0s 2ms/step - loss: 0.3546 - accuracy: 0.8354\n",
      "Epoch 57/175\n",
      "6/6 [==============================] - 0s 4ms/step - loss: 0.4883 - accuracy: 0.8217\n",
      "Epoch 58/175\n",
      "6/6 [==============================] - 0s 4ms/step - loss: 0.2633 - accuracy: 0.8875\n",
      "Epoch 59/175\n",
      "6/6 [==============================] - 0s 4ms/step - loss: 0.5387 - accuracy: 0.7625\n",
      "Epoch 60/175\n",
      "6/6 [==============================] - 0s 4ms/step - loss: 0.2944 - accuracy: 0.8807\n",
      "Epoch 61/175\n",
      "6/6 [==============================] - 0s 4ms/step - loss: 0.6197 - accuracy: 0.7742\n",
      "Epoch 62/175\n",
      "6/6 [==============================] - 0s 2ms/step - loss: 0.3581 - accuracy: 0.8603\n",
      "Epoch 63/175\n",
      "6/6 [==============================] - 0s 2ms/step - loss: 0.3294 - accuracy: 0.8675\n",
      "Epoch 64/175\n",
      "6/6 [==============================] - 0s 4ms/step - loss: 0.4289 - accuracy: 0.8410\n",
      "Epoch 65/175\n",
      "6/6 [==============================] - 0s 4ms/step - loss: 0.3350 - accuracy: 0.8618\n",
      "Epoch 66/175\n",
      "6/6 [==============================] - 0s 4ms/step - loss: 0.4956 - accuracy: 0.7974\n",
      "Epoch 67/175\n",
      "6/6 [==============================] - 0s 3ms/step - loss: 0.2955 - accuracy: 0.8872\n",
      "Epoch 68/175\n",
      "6/6 [==============================] - 0s 3ms/step - loss: 0.4801 - accuracy: 0.8230\n",
      "Epoch 69/175\n",
      "6/6 [==============================] - 0s 2ms/step - loss: 0.4327 - accuracy: 0.7911\n",
      "Epoch 70/175\n",
      "6/6 [==============================] - 0s 2ms/step - loss: 0.4281 - accuracy: 0.7897\n",
      "Epoch 71/175\n",
      "6/6 [==============================] - 0s 4ms/step - loss: 0.3749 - accuracy: 0.8646\n",
      "Epoch 72/175\n",
      "6/6 [==============================] - 0s 4ms/step - loss: 0.4802 - accuracy: 0.8221\n",
      "Epoch 73/175\n",
      "6/6 [==============================] - 0s 2ms/step - loss: 0.3123 - accuracy: 0.8339\n",
      "Epoch 74/175\n",
      "6/6 [==============================] - 0s 2ms/step - loss: 0.4579 - accuracy: 0.7930\n",
      "Epoch 75/175\n",
      "6/6 [==============================] - 0s 4ms/step - loss: 0.3434 - accuracy: 0.8226\n",
      "Epoch 76/175\n",
      "6/6 [==============================] - 0s 4ms/step - loss: 0.4417 - accuracy: 0.8170\n",
      "Epoch 77/175\n",
      "6/6 [==============================] - 0s 4ms/step - loss: 0.2915 - accuracy: 0.8846\n",
      "Epoch 78/175\n",
      "6/6 [==============================] - 0s 2ms/step - loss: 0.7792 - accuracy: 0.7299\n",
      "Epoch 79/175\n",
      "6/6 [==============================] - 0s 2ms/step - loss: 0.2103 - accuracy: 0.9223\n",
      "Epoch 80/175\n",
      "6/6 [==============================] - 0s 3ms/step - loss: 0.4973 - accuracy: 0.7987\n",
      "Epoch 81/175\n",
      "6/6 [==============================] - 0s 4ms/step - loss: 0.2338 - accuracy: 0.9166\n",
      "Epoch 82/175\n",
      "6/6 [==============================] - 0s 3ms/step - loss: 0.3595 - accuracy: 0.8387\n",
      "Epoch 83/175\n",
      "6/6 [==============================] - 0s 3ms/step - loss: 0.2264 - accuracy: 0.9185\n",
      "Epoch 84/175\n"
     ]
    },
    {
     "name": "stdout",
     "output_type": "stream",
     "text": [
      "6/6 [==============================] - 0s 4ms/step - loss: 1.5040 - accuracy: 0.6838\n",
      "Epoch 85/175\n",
      "6/6 [==============================] - 0s 3ms/step - loss: 0.3057 - accuracy: 0.8858\n",
      "Epoch 86/175\n",
      "6/6 [==============================] - 0s 2ms/step - loss: 0.2551 - accuracy: 0.8774\n",
      "Epoch 87/175\n",
      "6/6 [==============================] - 0s 5ms/step - loss: 0.3691 - accuracy: 0.8186\n",
      "Epoch 88/175\n",
      "6/6 [==============================] - 0s 2ms/step - loss: 0.2900 - accuracy: 0.8594\n",
      "Epoch 89/175\n",
      "6/6 [==============================] - 0s 3ms/step - loss: 0.2517 - accuracy: 0.8854\n",
      "Epoch 90/175\n",
      "6/6 [==============================] - 0s 3ms/step - loss: 0.2115 - accuracy: 0.9288\n",
      "Epoch 91/175\n",
      "6/6 [==============================] - 0s 4ms/step - loss: 0.4370 - accuracy: 0.8049\n",
      "Epoch 92/175\n",
      "6/6 [==============================] - 0s 3ms/step - loss: 0.2449 - accuracy: 0.8893\n",
      "Epoch 93/175\n",
      "6/6 [==============================] - 0s 4ms/step - loss: 0.1988 - accuracy: 0.9291\n",
      "Epoch 94/175\n",
      "6/6 [==============================] - 0s 4ms/step - loss: 0.1957 - accuracy: 0.9188\n",
      "Epoch 95/175\n",
      "6/6 [==============================] - 0s 3ms/step - loss: 0.4661 - accuracy: 0.8654\n",
      "Epoch 96/175\n",
      "6/6 [==============================] - 0s 4ms/step - loss: 0.1993 - accuracy: 0.9223\n",
      "Epoch 97/175\n",
      "6/6 [==============================] - 0s 3ms/step - loss: 0.3438 - accuracy: 0.8621\n",
      "Epoch 98/175\n",
      "6/6 [==============================] - 0s 3ms/step - loss: 0.3262 - accuracy: 0.8734\n",
      "Epoch 99/175\n",
      "6/6 [==============================] - 0s 4ms/step - loss: 0.6451 - accuracy: 0.7856\n",
      "Epoch 100/175\n",
      "6/6 [==============================] - 0s 4ms/step - loss: 0.1496 - accuracy: 0.9407\n",
      "Epoch 101/175\n",
      "6/6 [==============================] - 0s 3ms/step - loss: 0.1897 - accuracy: 0.8935\n",
      "Epoch 102/175\n",
      "6/6 [==============================] - 0s 3ms/step - loss: 0.2310 - accuracy: 0.9064\n",
      "Epoch 103/175\n",
      "6/6 [==============================] - 0s 3ms/step - loss: 0.6444 - accuracy: 0.7777\n",
      "Epoch 104/175\n",
      "6/6 [==============================] - 0s 3ms/step - loss: 0.1928 - accuracy: 0.9460\n",
      "Epoch 105/175\n",
      "6/6 [==============================] - 0s 3ms/step - loss: 0.2105 - accuracy: 0.8820\n",
      "Epoch 106/175\n",
      "6/6 [==============================] - 0s 3ms/step - loss: 0.1967 - accuracy: 0.9208\n",
      "Epoch 107/175\n",
      "6/6 [==============================] - 0s 4ms/step - loss: 0.1698 - accuracy: 0.9099\n",
      "Epoch 108/175\n",
      "6/6 [==============================] - 0s 4ms/step - loss: 0.3202 - accuracy: 0.8497\n",
      "Epoch 109/175\n",
      "6/6 [==============================] - 0s 4ms/step - loss: 0.5957 - accuracy: 0.8110\n",
      "Epoch 110/175\n",
      "6/6 [==============================] - 0s 4ms/step - loss: 0.4416 - accuracy: 0.7886\n",
      "Epoch 111/175\n",
      "6/6 [==============================] - 0s 2ms/step - loss: 0.1522 - accuracy: 0.9498\n",
      "Epoch 112/175\n",
      "6/6 [==============================] - 0s 2ms/step - loss: 0.2020 - accuracy: 0.9199\n",
      "Epoch 113/175\n",
      "6/6 [==============================] - 0s 2ms/step - loss: 1.4591 - accuracy: 0.6589\n",
      "Epoch 114/175\n",
      "6/6 [==============================] - 0s 3ms/step - loss: 0.1717 - accuracy: 0.9351\n",
      "Epoch 115/175\n",
      "6/6 [==============================] - 0s 4ms/step - loss: 0.1367 - accuracy: 0.9492\n",
      "Epoch 116/175\n",
      "6/6 [==============================] - 0s 3ms/step - loss: 0.1626 - accuracy: 0.9354\n",
      "Epoch 117/175\n",
      "6/6 [==============================] - 0s 3ms/step - loss: 0.1997 - accuracy: 0.9051\n",
      "Epoch 118/175\n",
      "6/6 [==============================] - 0s 4ms/step - loss: 0.1973 - accuracy: 0.9271\n",
      "Epoch 119/175\n",
      "6/6 [==============================] - 0s 3ms/step - loss: 0.4082 - accuracy: 0.8599\n",
      "Epoch 120/175\n",
      "6/6 [==============================] - 0s 3ms/step - loss: 0.2361 - accuracy: 0.9371\n",
      "Epoch 121/175\n",
      "6/6 [==============================] - 0s 3ms/step - loss: 0.6125 - accuracy: 0.7971\n",
      "Epoch 122/175\n",
      "6/6 [==============================] - 0s 4ms/step - loss: 0.1405 - accuracy: 0.9485\n",
      "Epoch 123/175\n",
      "6/6 [==============================] - 0s 3ms/step - loss: 0.3530 - accuracy: 0.8093\n",
      "Epoch 124/175\n",
      "6/6 [==============================] - 0s 3ms/step - loss: 0.2309 - accuracy: 0.8767\n",
      "Epoch 125/175\n",
      "6/6 [==============================] - 0s 3ms/step - loss: 0.1814 - accuracy: 0.9082\n",
      "Epoch 126/175\n",
      "6/6 [==============================] - 0s 4ms/step - loss: 0.2846 - accuracy: 0.8512\n",
      "Epoch 127/175\n",
      "6/6 [==============================] - 0s 2ms/step - loss: 0.2166 - accuracy: 0.9120\n",
      "Epoch 128/175\n",
      "6/6 [==============================] - 0s 3ms/step - loss: 0.1437 - accuracy: 0.9373\n",
      "Epoch 129/175\n",
      "6/6 [==============================] - 0s 2ms/step - loss: 0.4454 - accuracy: 0.8344\n",
      "Epoch 130/175\n",
      "6/6 [==============================] - 0s 2ms/step - loss: 0.1727 - accuracy: 0.9164\n",
      "Epoch 131/175\n",
      "6/6 [==============================] - 0s 4ms/step - loss: 0.1359 - accuracy: 0.9648\n",
      "Epoch 132/175\n",
      "6/6 [==============================] - 0s 4ms/step - loss: 0.6504 - accuracy: 0.8479\n",
      "Epoch 133/175\n",
      "6/6 [==============================] - 0s 4ms/step - loss: 0.2420 - accuracy: 0.9006\n",
      "Epoch 134/175\n",
      "6/6 [==============================] - 0s 4ms/step - loss: 0.2470 - accuracy: 0.8933\n",
      "Epoch 135/175\n",
      "6/6 [==============================] - 0s 4ms/step - loss: 0.2316 - accuracy: 0.9070\n",
      "Epoch 136/175\n",
      "6/6 [==============================] - 0s 4ms/step - loss: 0.1991 - accuracy: 0.9133\n",
      "Epoch 137/175\n",
      "6/6 [==============================] - 0s 3ms/step - loss: 0.1860 - accuracy: 0.9338\n",
      "Epoch 138/175\n",
      "6/6 [==============================] - 0s 4ms/step - loss: 0.1912 - accuracy: 0.9271\n",
      "Epoch 139/175\n",
      "6/6 [==============================] - 0s 4ms/step - loss: 0.5014 - accuracy: 0.8468\n",
      "Epoch 140/175\n",
      "6/6 [==============================] - 0s 4ms/step - loss: 0.1694 - accuracy: 0.9399\n",
      "Epoch 141/175\n",
      "6/6 [==============================] - 0s 4ms/step - loss: 0.1939 - accuracy: 0.9119\n",
      "Epoch 142/175\n",
      "6/6 [==============================] - 0s 4ms/step - loss: 0.3261 - accuracy: 0.8952\n",
      "Epoch 143/175\n",
      "6/6 [==============================] - 0s 4ms/step - loss: 0.3583 - accuracy: 0.8653\n",
      "Epoch 144/175\n",
      "6/6 [==============================] - 0s 2ms/step - loss: 0.1676 - accuracy: 0.9284\n",
      "Epoch 145/175\n",
      "6/6 [==============================] - 0s 5ms/step - loss: 0.1392 - accuracy: 0.9539\n",
      "Epoch 146/175\n",
      "6/6 [==============================] - 0s 3ms/step - loss: 0.8728 - accuracy: 0.8031\n",
      "Epoch 147/175\n",
      "6/6 [==============================] - 0s 4ms/step - loss: 0.4045 - accuracy: 0.8344\n",
      "Epoch 148/175\n",
      "6/6 [==============================] - 0s 4ms/step - loss: 0.2408 - accuracy: 0.9092\n",
      "Epoch 149/175\n",
      "6/6 [==============================] - 0s 4ms/step - loss: 0.1728 - accuracy: 0.9117\n",
      "Epoch 150/175\n",
      "6/6 [==============================] - 0s 2ms/step - loss: 0.1430 - accuracy: 0.9301\n",
      "Epoch 151/175\n",
      "6/6 [==============================] - 0s 4ms/step - loss: 0.3198 - accuracy: 0.8731\n",
      "Epoch 152/175\n",
      "6/6 [==============================] - 0s 4ms/step - loss: 0.1673 - accuracy: 0.9317\n",
      "Epoch 153/175\n",
      "6/6 [==============================] - 0s 5ms/step - loss: 0.2079 - accuracy: 0.9029\n",
      "Epoch 154/175\n",
      "6/6 [==============================] - 0s 2ms/step - loss: 0.1662 - accuracy: 0.9259\n",
      "Epoch 155/175\n",
      "6/6 [==============================] - 0s 3ms/step - loss: 0.1599 - accuracy: 0.9218\n",
      "Epoch 156/175\n",
      "6/6 [==============================] - 0s 4ms/step - loss: 0.2018 - accuracy: 0.9268\n",
      "Epoch 157/175\n",
      "6/6 [==============================] - 0s 4ms/step - loss: 0.3051 - accuracy: 0.8775\n",
      "Epoch 158/175\n",
      "6/6 [==============================] - 0s 2ms/step - loss: 0.1700 - accuracy: 0.9409\n",
      "Epoch 159/175\n",
      "6/6 [==============================] - 0s 4ms/step - loss: 0.2843 - accuracy: 0.9210\n",
      "Epoch 160/175\n",
      "6/6 [==============================] - 0s 2ms/step - loss: 0.1764 - accuracy: 0.9237\n",
      "Epoch 161/175\n",
      "6/6 [==============================] - 0s 2ms/step - loss: 0.1808 - accuracy: 0.9225\n",
      "Epoch 162/175\n",
      "6/6 [==============================] - 0s 3ms/step - loss: 0.3774 - accuracy: 0.8746\n",
      "Epoch 163/175\n",
      "6/6 [==============================] - 0s 3ms/step - loss: 0.2782 - accuracy: 0.9020\n",
      "Epoch 164/175\n",
      "6/6 [==============================] - 0s 2ms/step - loss: 0.1324 - accuracy: 0.9371\n",
      "Epoch 165/175\n",
      "6/6 [==============================] - 0s 3ms/step - loss: 0.3165 - accuracy: 0.8648\n",
      "Epoch 166/175\n",
      "6/6 [==============================] - 0s 3ms/step - loss: 0.2292 - accuracy: 0.9163\n",
      "Epoch 167/175\n"
     ]
    },
    {
     "name": "stdout",
     "output_type": "stream",
     "text": [
      "6/6 [==============================] - 0s 3ms/step - loss: 0.1991 - accuracy: 0.9138\n",
      "Epoch 168/175\n",
      "6/6 [==============================] - 0s 4ms/step - loss: 0.1550 - accuracy: 0.9321\n",
      "Epoch 169/175\n",
      "6/6 [==============================] - 0s 4ms/step - loss: 0.2489 - accuracy: 0.8889\n",
      "Epoch 170/175\n",
      "6/6 [==============================] - 0s 2ms/step - loss: 0.1350 - accuracy: 0.9369\n",
      "Epoch 171/175\n",
      "6/6 [==============================] - 0s 4ms/step - loss: 0.5205 - accuracy: 0.8623\n",
      "Epoch 172/175\n",
      "6/6 [==============================] - 0s 2ms/step - loss: 0.5091 - accuracy: 0.8434\n",
      "Epoch 173/175\n",
      "6/6 [==============================] - 0s 4ms/step - loss: 0.1038 - accuracy: 0.9642\n",
      "Epoch 174/175\n",
      "6/6 [==============================] - 0s 3ms/step - loss: 0.1374 - accuracy: 0.9302\n",
      "Epoch 175/175\n",
      "6/6 [==============================] - 0s 3ms/step - loss: 0.1829 - accuracy: 0.9349\n"
     ]
    },
    {
     "data": {
      "text/plain": [
       "<tensorflow.python.keras.callbacks.History at 0x7fc5ba5026d0>"
      ]
     },
     "execution_count": 45,
     "metadata": {},
     "output_type": "execute_result"
    }
   ],
   "source": [
    "model.fit(x,y_categorical,epochs=175)"
   ]
  },
  {
   "cell_type": "code",
   "execution_count": 46,
   "id": "8df8d0a7",
   "metadata": {
    "scrolled": true
   },
   "outputs": [
    {
     "data": {
      "text/plain": [
       "{'loss': [73.701171875,\n",
       "  28.430105209350586,\n",
       "  23.410715103149414,\n",
       "  14.45305347442627,\n",
       "  13.702861785888672,\n",
       "  14.715811729431152,\n",
       "  9.659268379211426,\n",
       "  8.523978233337402,\n",
       "  7.228240489959717,\n",
       "  5.0347676277160645,\n",
       "  4.60088586807251,\n",
       "  3.794163465499878,\n",
       "  1.3826030492782593,\n",
       "  2.0783543586730957,\n",
       "  1.9134361743927002,\n",
       "  0.6853715181350708,\n",
       "  1.775341272354126,\n",
       "  1.251154899597168,\n",
       "  0.6456111669540405,\n",
       "  1.1295228004455566,\n",
       "  0.5231049656867981,\n",
       "  0.752399742603302,\n",
       "  1.0187329053878784,\n",
       "  0.8258905410766602,\n",
       "  0.5430270433425903,\n",
       "  0.6148918867111206,\n",
       "  0.5470733046531677,\n",
       "  0.9830847978591919,\n",
       "  2.163130521774292,\n",
       "  0.506187379360199,\n",
       "  0.5917238593101501,\n",
       "  0.48571357131004333,\n",
       "  0.570023775100708,\n",
       "  0.46842122077941895,\n",
       "  0.4929813742637634,\n",
       "  0.5866724252700806,\n",
       "  0.582029402256012,\n",
       "  0.5145435929298401,\n",
       "  0.658789336681366,\n",
       "  0.4257715344429016,\n",
       "  0.9374624490737915,\n",
       "  0.42191752791404724,\n",
       "  0.4078971743583679,\n",
       "  0.4520814120769501,\n",
       "  0.5691414475440979,\n",
       "  0.41863682866096497,\n",
       "  0.4668324589729309,\n",
       "  0.6722901463508606,\n",
       "  0.43086379766464233,\n",
       "  0.5183303952217102,\n",
       "  0.35152170062065125,\n",
       "  0.5702735185623169,\n",
       "  0.5688607096672058,\n",
       "  0.3958492577075958,\n",
       "  0.3891140818595886,\n",
       "  0.3584273159503937,\n",
       "  0.5263513922691345,\n",
       "  0.3572938144207001,\n",
       "  0.5125505328178406,\n",
       "  0.36222341656684875,\n",
       "  0.5524020195007324,\n",
       "  0.375637948513031,\n",
       "  0.34446418285369873,\n",
       "  0.5115880370140076,\n",
       "  0.31498584151268005,\n",
       "  0.4292382299900055,\n",
       "  0.33842915296554565,\n",
       "  0.4006613790988922,\n",
       "  0.42775315046310425,\n",
       "  0.4033624529838562,\n",
       "  0.33971595764160156,\n",
       "  0.34463122487068176,\n",
       "  0.2926243245601654,\n",
       "  0.5816739797592163,\n",
       "  0.2999480962753296,\n",
       "  0.39202040433883667,\n",
       "  0.29241177439689636,\n",
       "  0.6359197497367859,\n",
       "  0.22504201531410217,\n",
       "  0.3677188456058502,\n",
       "  0.30094704031944275,\n",
       "  0.31286898255348206,\n",
       "  0.27537718415260315,\n",
       "  0.8528518080711365,\n",
       "  0.2708941400051117,\n",
       "  0.2163560837507248,\n",
       "  0.38734444975852966,\n",
       "  0.25859305262565613,\n",
       "  0.2346380203962326,\n",
       "  0.2498205304145813,\n",
       "  0.39792507886886597,\n",
       "  0.23188747465610504,\n",
       "  0.18724685907363892,\n",
       "  0.27014362812042236,\n",
       "  0.3538329601287842,\n",
       "  0.22167211771011353,\n",
       "  0.27366137504577637,\n",
       "  0.5032370686531067,\n",
       "  0.40678662061691284,\n",
       "  0.1850873976945877,\n",
       "  0.17733018100261688,\n",
       "  0.26602160930633545,\n",
       "  0.5613796710968018,\n",
       "  0.19872596859931946,\n",
       "  0.2167881280183792,\n",
       "  0.2018822282552719,\n",
       "  0.17234434187412262,\n",
       "  0.3201459050178528,\n",
       "  0.4045483469963074,\n",
       "  0.3470693528652191,\n",
       "  0.17832334339618683,\n",
       "  0.2008996456861496,\n",
       "  1.029615044593811,\n",
       "  0.17162394523620605,\n",
       "  0.15839898586273193,\n",
       "  0.18302293121814728,\n",
       "  0.17176908254623413,\n",
       "  0.159538134932518,\n",
       "  0.42029377818107605,\n",
       "  0.32531020045280457,\n",
       "  0.4195689857006073,\n",
       "  0.17517046630382538,\n",
       "  0.28915834426879883,\n",
       "  0.20032232999801636,\n",
       "  0.17990249395370483,\n",
       "  0.2578505277633667,\n",
       "  0.2810160219669342,\n",
       "  0.1477665901184082,\n",
       "  0.44272977113723755,\n",
       "  0.17055806517601013,\n",
       "  0.16300714015960693,\n",
       "  1.162490963935852,\n",
       "  0.20891962945461273,\n",
       "  0.2304770052433014,\n",
       "  0.3626960515975952,\n",
       "  0.18931619822978973,\n",
       "  0.21116681396961212,\n",
       "  0.2482428401708603,\n",
       "  0.33832913637161255,\n",
       "  0.1636272668838501,\n",
       "  0.18004803359508514,\n",
       "  0.46426036953926086,\n",
       "  0.24614354968070984,\n",
       "  0.16483774781227112,\n",
       "  0.14398637413978577,\n",
       "  1.280078649520874,\n",
       "  0.34339219331741333,\n",
       "  0.20037446916103363,\n",
       "  0.14651480317115784,\n",
       "  0.14609529078006744,\n",
       "  0.32036054134368896,\n",
       "  0.15290383994579315,\n",
       "  0.22230491042137146,\n",
       "  0.17495469748973846,\n",
       "  0.15586026012897491,\n",
       "  0.25002527236938477,\n",
       "  0.2475201040506363,\n",
       "  0.23959286510944366,\n",
       "  0.330812007188797,\n",
       "  0.15198877453804016,\n",
       "  0.19487333297729492,\n",
       "  0.34031015634536743,\n",
       "  0.2612163722515106,\n",
       "  0.1363929957151413,\n",
       "  0.26139387488365173,\n",
       "  0.28667569160461426,\n",
       "  0.17370255291461945,\n",
       "  0.20988376438617706,\n",
       "  0.2009059339761734,\n",
       "  0.15691450238227844,\n",
       "  0.9435123205184937,\n",
       "  0.40888261795043945,\n",
       "  0.13124528527259827,\n",
       "  0.13275647163391113,\n",
       "  0.19127130508422852],\n",
       " 'accuracy': [0.3651685416698456,\n",
       "  0.3651685416698456,\n",
       "  0.30337077379226685,\n",
       "  0.3426966369152069,\n",
       "  0.3595505654811859,\n",
       "  0.2808988690376282,\n",
       "  0.33707866072654724,\n",
       "  0.3426966369152069,\n",
       "  0.3595505654811859,\n",
       "  0.3483146131038666,\n",
       "  0.3651685416698456,\n",
       "  0.4101123511791229,\n",
       "  0.6460674405097961,\n",
       "  0.5056179761886597,\n",
       "  0.5056179761886597,\n",
       "  0.6797752976417542,\n",
       "  0.5,\n",
       "  0.601123571395874,\n",
       "  0.6573033928871155,\n",
       "  0.5898876190185547,\n",
       "  0.7752808928489685,\n",
       "  0.6685393452644348,\n",
       "  0.7134831547737122,\n",
       "  0.6966292262077332,\n",
       "  0.7921348214149475,\n",
       "  0.7359550595283508,\n",
       "  0.7584269642829895,\n",
       "  0.6348314881324768,\n",
       "  0.6067415475845337,\n",
       "  0.7865168452262878,\n",
       "  0.7584269642829895,\n",
       "  0.8258426785469055,\n",
       "  0.7471910119056702,\n",
       "  0.8146067261695862,\n",
       "  0.7977527976036072,\n",
       "  0.7752808928489685,\n",
       "  0.7471910119056702,\n",
       "  0.7528089880943298,\n",
       "  0.7640449404716492,\n",
       "  0.8089887499809265,\n",
       "  0.7359550595283508,\n",
       "  0.8370786309242249,\n",
       "  0.8146067261695862,\n",
       "  0.8089887499809265,\n",
       "  0.7752808928489685,\n",
       "  0.8314606547355652,\n",
       "  0.8314606547355652,\n",
       "  0.7584269642829895,\n",
       "  0.8370786309242249,\n",
       "  0.7808988690376282,\n",
       "  0.882022500038147,\n",
       "  0.7977527976036072,\n",
       "  0.7640449404716492,\n",
       "  0.8370786309242249,\n",
       "  0.8202247023582458,\n",
       "  0.8370786309242249,\n",
       "  0.7977527976036072,\n",
       "  0.8314606547355652,\n",
       "  0.7808988690376282,\n",
       "  0.8539325594902039,\n",
       "  0.7865168452262878,\n",
       "  0.8314606547355652,\n",
       "  0.8595505356788635,\n",
       "  0.8146067261695862,\n",
       "  0.882022500038147,\n",
       "  0.8202247023582458,\n",
       "  0.8595505356788635,\n",
       "  0.8483145833015442,\n",
       "  0.7921348214149475,\n",
       "  0.8146067261695862,\n",
       "  0.8539325594902039,\n",
       "  0.8707864880561829,\n",
       "  0.8595505356788635,\n",
       "  0.7584269642829895,\n",
       "  0.8539325594902039,\n",
       "  0.8314606547355652,\n",
       "  0.8764045238494873,\n",
       "  0.7808988690376282,\n",
       "  0.9101123809814453,\n",
       "  0.8595505356788635,\n",
       "  0.8932584524154663,\n",
       "  0.8595505356788635,\n",
       "  0.8932584524154663,\n",
       "  0.8033707737922668,\n",
       "  0.898876428604126,\n",
       "  0.9101123809814453,\n",
       "  0.8202247023582458,\n",
       "  0.8876404762268066,\n",
       "  0.9044944047927856,\n",
       "  0.915730357170105,\n",
       "  0.8258426785469055,\n",
       "  0.898876428604126,\n",
       "  0.932584285736084,\n",
       "  0.8876404762268066,\n",
       "  0.8876404762268066,\n",
       "  0.9044944047927856,\n",
       "  0.882022500038147,\n",
       "  0.8146067261695862,\n",
       "  0.8539325594902039,\n",
       "  0.9269663095474243,\n",
       "  0.9044944047927856,\n",
       "  0.8764045238494873,\n",
       "  0.7977527976036072,\n",
       "  0.932584285736084,\n",
       "  0.882022500038147,\n",
       "  0.9213483333587646,\n",
       "  0.915730357170105,\n",
       "  0.8651685118675232,\n",
       "  0.8595505356788635,\n",
       "  0.8426966071128845,\n",
       "  0.9382022619247437,\n",
       "  0.9213483333587646,\n",
       "  0.7191011309623718,\n",
       "  0.932584285736084,\n",
       "  0.9382022619247437,\n",
       "  0.9213483333587646,\n",
       "  0.9213483333587646,\n",
       "  0.9382022619247437,\n",
       "  0.8595505356788635,\n",
       "  0.9269663095474243,\n",
       "  0.8539325594902039,\n",
       "  0.932584285736084,\n",
       "  0.8426966071128845,\n",
       "  0.9044944047927856,\n",
       "  0.915730357170105,\n",
       "  0.8707864880561829,\n",
       "  0.8932584524154663,\n",
       "  0.9382022619247437,\n",
       "  0.8202247023582458,\n",
       "  0.9213483333587646,\n",
       "  0.9438202381134033,\n",
       "  0.7865168452262878,\n",
       "  0.915730357170105,\n",
       "  0.9044944047927856,\n",
       "  0.8595505356788635,\n",
       "  0.915730357170105,\n",
       "  0.9269663095474243,\n",
       "  0.898876428604126,\n",
       "  0.8876404762268066,\n",
       "  0.949438214302063,\n",
       "  0.915730357170105,\n",
       "  0.8539325594902039,\n",
       "  0.9101123809814453,\n",
       "  0.9269663095474243,\n",
       "  0.9438202381134033,\n",
       "  0.7303370833396912,\n",
       "  0.8483145833015442,\n",
       "  0.9213483333587646,\n",
       "  0.9269663095474243,\n",
       "  0.9382022619247437,\n",
       "  0.8707864880561829,\n",
       "  0.9382022619247437,\n",
       "  0.898876428604126,\n",
       "  0.9213483333587646,\n",
       "  0.915730357170105,\n",
       "  0.9101123809814453,\n",
       "  0.8932584524154663,\n",
       "  0.915730357170105,\n",
       "  0.898876428604126,\n",
       "  0.932584285736084,\n",
       "  0.9213483333587646,\n",
       "  0.882022500038147,\n",
       "  0.9044944047927856,\n",
       "  0.9269663095474243,\n",
       "  0.898876428604126,\n",
       "  0.898876428604126,\n",
       "  0.9213483333587646,\n",
       "  0.9101123809814453,\n",
       "  0.9213483333587646,\n",
       "  0.9382022619247437,\n",
       "  0.7921348214149475,\n",
       "  0.8651685118675232,\n",
       "  0.949438214302063,\n",
       "  0.9269663095474243,\n",
       "  0.9269663095474243]}"
      ]
     },
     "execution_count": 46,
     "metadata": {},
     "output_type": "execute_result"
    }
   ],
   "source": [
    "model.history.history"
   ]
  },
  {
   "cell_type": "code",
   "execution_count": 47,
   "id": "66fd0429",
   "metadata": {},
   "outputs": [],
   "source": [
    "loss=model.history.history['loss']"
   ]
  },
  {
   "cell_type": "code",
   "execution_count": 48,
   "id": "6da648f1",
   "metadata": {},
   "outputs": [
    {
     "data": {
      "text/plain": [
       "list"
      ]
     },
     "execution_count": 48,
     "metadata": {},
     "output_type": "execute_result"
    }
   ],
   "source": [
    "type(loss)"
   ]
  },
  {
   "cell_type": "code",
   "execution_count": 49,
   "id": "8eb316b5",
   "metadata": {},
   "outputs": [],
   "source": [
    "#convert to pandas datatype: DataFrame\n",
    "loss= pd.DataFrame(loss)"
   ]
  },
  {
   "cell_type": "code",
   "execution_count": 50,
   "id": "920ef412",
   "metadata": {},
   "outputs": [
    {
     "data": {
      "text/plain": [
       "pandas.core.frame.DataFrame"
      ]
     },
     "execution_count": 50,
     "metadata": {},
     "output_type": "execute_result"
    }
   ],
   "source": [
    "type(loss)"
   ]
  },
  {
   "cell_type": "code",
   "execution_count": 51,
   "id": "6014f84f",
   "metadata": {},
   "outputs": [
    {
     "data": {
      "text/plain": [
       "<AxesSubplot:>"
      ]
     },
     "execution_count": 51,
     "metadata": {},
     "output_type": "execute_result"
    },
    {
     "data": {
      "image/png": "[encoded data removed]",
      "text/plain": [
       "<Figure size 432x288 with 1 Axes>"
      ]
     },
     "metadata": {
      "needs_background": "light"
     },
     "output_type": "display_data"
    }
   ],
   "source": [
    "loss.plot()"
   ]
  },
  {
   "cell_type": "code",
   "execution_count": 52,
   "id": "e9e52bca",
   "metadata": {},
   "outputs": [],
   "source": [
    "accuracy=model.history.history['accuracy']"
   ]
  },
  {
   "cell_type": "code",
   "execution_count": 53,
   "id": "fbb5fbd6",
   "metadata": {},
   "outputs": [],
   "source": [
    "accuracy = pd.DataFrame(accuracy)"
   ]
  },
  {
   "cell_type": "code",
   "execution_count": 54,
   "id": "d0cc5b40",
   "metadata": {},
   "outputs": [
    {
     "data": {
      "text/plain": [
       "<AxesSubplot:>"
      ]
     },
     "execution_count": 54,
     "metadata": {},
     "output_type": "execute_result"
    },
    {
     "data": {
      "image/png": "[encoded data removed]",
      "text/plain": [
       "<Figure size 432x288 with 1 Axes>"
      ]
     },
     "metadata": {
      "needs_background": "light"
     },
     "output_type": "display_data"
    }
   ],
   "source": [
    "accuracy.plot()"
   ]
  },
  {
   "cell_type": "code",
   "execution_count": 55,
   "id": "b5e8e39d",
   "metadata": {},
   "outputs": [],
   "source": [
    "#model.reset_states()"
   ]
  },
  {
   "cell_type": "code",
   "execution_count": 58,
   "id": "c4236c80",
   "metadata": {},
   "outputs": [],
   "source": [
    "#model.save(\"model_96_percent_accuracy.h5\")"
   ]
  },
  {
   "cell_type": "code",
   "execution_count": 64,
   "id": "ba4b4aeb",
   "metadata": {},
   "outputs": [
    {
     "data": {
      "text/plain": [
       "array([1.22e+01, 3.03e+00, 1.90e+01, 1.25e+00, 4.90e-01, 7.30e-01,\n",
       "       5.50e+00, 6.60e-01, 1.83e+00, 5.10e+02])"
      ]
     },
     "execution_count": 64,
     "metadata": {},
     "output_type": "execute_result"
    }
   ],
   "source": [
    "x.iloc[170].values"
   ]
  },
  {
   "cell_type": "code",
   "execution_count": null,
   "id": "24e2a85d",
   "metadata": {},
   "outputs": [],
   "source": []
  },
  {
   "cell_type": "code",
   "execution_count": 65,
   "id": "8a2ecc7b",
   "metadata": {},
   "outputs": [
    {
     "data": {
      "text/plain": [
       "array([[4.0569990e-05, 1.4012232e-01, 8.5983711e-01]], dtype=float32)"
      ]
     },
     "execution_count": 65,
     "metadata": {},
     "output_type": "execute_result"
    }
   ],
   "source": [
    "model.predict([[1.22e+01, 3.03e+00, 1.90e+01, 1.25e+00, 4.90e-01, 7.30e-01,\n",
    "       5.50e+00, 6.60e-01, 1.83e+00, 5.10e+02]])"
   ]
  },
  {
   "cell_type": "code",
   "execution_count": null,
   "id": "07f5e626",
   "metadata": {},
   "outputs": [],
   "source": []
  },
  {
   "cell_type": "code",
   "execution_count": null,
   "id": "546cdeed",
   "metadata": {},
   "outputs": [],
   "source": []
  },
  {
   "cell_type": "code",
   "execution_count": null,
   "id": "58a6dd93",
   "metadata": {},
   "outputs": [],
   "source": []
  },
  {
   "cell_type": "code",
   "execution_count": null,
   "id": "d5f33c1f",
   "metadata": {},
   "outputs": [],
   "source": []
  },
  {
   "cell_type": "code",
   "execution_count": null,
   "id": "290efce2",
   "metadata": {},
   "outputs": [],
   "source": []
  }
 ],
 "metadata": {
  "kernelspec": {
   "display_name": "Python 3",
   "language": "python",
   "name": "python3"
  },
  "language_info": {
   "codemirror_mode": {
    "name": "ipython",
    "version": 3
   },
   "file_extension": ".py",
   "mimetype": "text/x-python",
   "name": "python",
   "nbconvert_exporter": "python",
   "pygments_lexer": "ipython3",
   "version": "3.7.10"
  }
 },
 "nbformat": 4,
 "nbformat_minor": 5
}

{
 "cells": [
  {
   "cell_type": "code",
   "execution_count": 1,
   "id": "a95bb244",
   "metadata": {},
   "outputs": [],
   "source": [
    "import pandas as pd"
   ]
  },
  {
   "cell_type": "code",
   "execution_count": 3,
   "id": "1f52a7e2",
   "metadata": {},
   "outputs": [],
   "source": [
    "dataset = pd.read_csv(\"/media/usb/Artificial-Neural-Network-Datasets/Multi-Class-Classification/Wines-Dataset/wine.data\")"
   ]
  },
  {
   "cell_type": "code",
   "execution_count": 4,
   "id": "b19623d7",
   "metadata": {},
   "outputs": [
    {
     "data": {
      "text/plain": [
       "(178, 14)"
      ]
     },
     "execution_count": 4,
     "metadata": {},
     "output_type": "execute_result"
    }
   ],
   "source": [
    "dataset.shape"
   ]
  },
  {
   "cell_type": "code",
   "execution_count": 5,
   "id": "7cfc107e",
   "metadata": {},
   "outputs": [
    {
     "data": {
      "text/plain": [
       "Index(['Classes', 'Alcohol', 'Malic acid', 'Ash', 'Alcalinity of ash',\n",
       "       'Magnesium', 'Total phenols', 'Flavanoids', 'Nonflavanoid phenols',\n",
       "       'Proanthocyanins', 'Color intensity', 'Hue',\n",
       "       'OD280/OD315 of diluted wines', 'Proline            '],\n",
       "      dtype='object')"
      ]
     },
     "execution_count": 5,
     "metadata": {},
     "output_type": "execute_result"
    }
   ],
   "source": [
    "dataset.columns"
   ]
  },
  {
   "cell_type": "code",
   "execution_count": 5,
   "id": "a09fd727",
   "metadata": {},
   "outputs": [
    {
     "data": {
      "text/html": [
       "<div>\n",
       "<style scoped>\n",
       "    .dataframe tbody tr th:only-of-type {\n",
       "        vertical-align: middle;\n",
       "    }\n",
       "\n",
       "    .dataframe tbody tr th {\n",
       "        vertical-align: top;\n",
       "    }\n",
       "\n",
       "    .dataframe thead th {\n",
       "        text-align: right;\n",
       "    }\n",
       "</style>\n",
       "<table border=\"1\" class=\"dataframe\">\n",
       "  <thead>\n",
       "    <tr style=\"text-align: right;\">\n",
       "      <th></th>\n",
       "      <th>Classes</th>\n",
       "      <th>Alcohol</th>\n",
       "      <th>Malic acid</th>\n",
       "      <th>Ash</th>\n",
       "      <th>Alcalinity of ash</th>\n",
       "      <th>Magnesium</th>\n",
       "      <th>Total phenols</th>\n",
       "      <th>Flavanoids</th>\n",
       "      <th>Nonflavanoid phenols</th>\n",
       "      <th>Proanthocyanins</th>\n",
       "      <th>Color intensity</th>\n",
       "      <th>Hue</th>\n",
       "      <th>OD280/OD315 of diluted wines</th>\n",
       "      <th>Proline</th>\n",
       "    </tr>\n",
       "  </thead>\n",
       "  <tbody>\n",
       "    <tr>\n",
       "      <th>0</th>\n",
       "      <td>1</td>\n",
       "      <td>14.23</td>\n",
       "      <td>1.71</td>\n",
       "      <td>2.43</td>\n",
       "      <td>15.6</td>\n",
       "      <td>127</td>\n",
       "      <td>2.80</td>\n",
       "      <td>3.06</td>\n",
       "      <td>0.28</td>\n",
       "      <td>2.29</td>\n",
       "      <td>5.64</td>\n",
       "      <td>1.04</td>\n",
       "      <td>3.92</td>\n",
       "      <td>1065</td>\n",
       "    </tr>\n",
       "    <tr>\n",
       "      <th>1</th>\n",
       "      <td>1</td>\n",
       "      <td>13.20</td>\n",
       "      <td>1.78</td>\n",
       "      <td>2.14</td>\n",
       "      <td>11.2</td>\n",
       "      <td>100</td>\n",
       "      <td>2.65</td>\n",
       "      <td>2.76</td>\n",
       "      <td>0.26</td>\n",
       "      <td>1.28</td>\n",
       "      <td>4.38</td>\n",
       "      <td>1.05</td>\n",
       "      <td>3.40</td>\n",
       "      <td>1050</td>\n",
       "    </tr>\n",
       "    <tr>\n",
       "      <th>2</th>\n",
       "      <td>1</td>\n",
       "      <td>13.16</td>\n",
       "      <td>2.36</td>\n",
       "      <td>2.67</td>\n",
       "      <td>18.6</td>\n",
       "      <td>101</td>\n",
       "      <td>2.80</td>\n",
       "      <td>3.24</td>\n",
       "      <td>0.30</td>\n",
       "      <td>2.81</td>\n",
       "      <td>5.68</td>\n",
       "      <td>1.03</td>\n",
       "      <td>3.17</td>\n",
       "      <td>1185</td>\n",
       "    </tr>\n",
       "    <tr>\n",
       "      <th>3</th>\n",
       "      <td>1</td>\n",
       "      <td>14.37</td>\n",
       "      <td>1.95</td>\n",
       "      <td>2.50</td>\n",
       "      <td>16.8</td>\n",
       "      <td>113</td>\n",
       "      <td>3.85</td>\n",
       "      <td>3.49</td>\n",
       "      <td>0.24</td>\n",
       "      <td>2.18</td>\n",
       "      <td>7.80</td>\n",
       "      <td>0.86</td>\n",
       "      <td>3.45</td>\n",
       "      <td>1480</td>\n",
       "    </tr>\n",
       "    <tr>\n",
       "      <th>4</th>\n",
       "      <td>1</td>\n",
       "      <td>13.24</td>\n",
       "      <td>2.59</td>\n",
       "      <td>2.87</td>\n",
       "      <td>21.0</td>\n",
       "      <td>118</td>\n",
       "      <td>2.80</td>\n",
       "      <td>2.69</td>\n",
       "      <td>0.39</td>\n",
       "      <td>1.82</td>\n",
       "      <td>4.32</td>\n",
       "      <td>1.04</td>\n",
       "      <td>2.93</td>\n",
       "      <td>735</td>\n",
       "    </tr>\n",
       "  </tbody>\n",
       "</table>\n",
       "</div>"
      ],
      "text/plain": [
       "   Classes  Alcohol  Malic acid   Ash  Alcalinity of ash  Magnesium  \\\n",
       "0        1    14.23        1.71  2.43               15.6        127   \n",
       "1        1    13.20        1.78  2.14               11.2        100   \n",
       "2        1    13.16        2.36  2.67               18.6        101   \n",
       "3        1    14.37        1.95  2.50               16.8        113   \n",
       "4        1    13.24        2.59  2.87               21.0        118   \n",
       "\n",
       "   Total phenols  Flavanoids  Nonflavanoid phenols  Proanthocyanins  \\\n",
       "0           2.80        3.06                  0.28             2.29   \n",
       "1           2.65        2.76                  0.26             1.28   \n",
       "2           2.80        3.24                  0.30             2.81   \n",
       "3           3.85        3.49                  0.24             2.18   \n",
       "4           2.80        2.69                  0.39             1.82   \n",
       "\n",
       "   Color intensity   Hue  OD280/OD315 of diluted wines  Proline              \n",
       "0             5.64  1.04                          3.92                 1065  \n",
       "1             4.38  1.05                          3.40                 1050  \n",
       "2             5.68  1.03                          3.17                 1185  \n",
       "3             7.80  0.86                          3.45                 1480  \n",
       "4             4.32  1.04                          2.93                  735  "
      ]
     },
     "execution_count": 5,
     "metadata": {},
     "output_type": "execute_result"
    }
   ],
   "source": [
    "dataset.head()"
   ]
  },
  {
   "cell_type": "code",
   "execution_count": 6,
   "id": "92e81798",
   "metadata": {},
   "outputs": [],
   "source": [
    "y = dataset['Classes']"
   ]
  },
  {
   "cell_type": "code",
   "execution_count": 7,
   "id": "3c46c960",
   "metadata": {},
   "outputs": [
    {
     "data": {
      "text/plain": [
       "(178,)"
      ]
     },
     "execution_count": 7,
     "metadata": {},
     "output_type": "execute_result"
    }
   ],
   "source": [
    "y.shape"
   ]
  },
  {
   "cell_type": "code",
   "execution_count": 8,
   "id": "118678fb",
   "metadata": {},
   "outputs": [
    {
     "data": {
      "text/plain": [
       "pandas.core.series.Series"
      ]
     },
     "execution_count": 8,
     "metadata": {},
     "output_type": "execute_result"
    }
   ],
   "source": [
    "type(y)"
   ]
  },
  {
   "cell_type": "code",
   "execution_count": 9,
   "id": "c4049b36",
   "metadata": {},
   "outputs": [
    {
     "data": {
      "text/plain": [
       "2    71\n",
       "1    59\n",
       "3    48\n",
       "Name: Classes, dtype: int64"
      ]
     },
     "execution_count": 9,
     "metadata": {},
     "output_type": "execute_result"
    }
   ],
   "source": [
    "y.value_counts()"
   ]
  },
  {
   "cell_type": "code",
   "execution_count": 10,
   "id": "79236c2d",
   "metadata": {},
   "outputs": [
    {
     "data": {
      "text/html": [
       "<div>\n",
       "<style scoped>\n",
       "    .dataframe tbody tr th:only-of-type {\n",
       "        vertical-align: middle;\n",
       "    }\n",
       "\n",
       "    .dataframe tbody tr th {\n",
       "        vertical-align: top;\n",
       "    }\n",
       "\n",
       "    .dataframe thead th {\n",
       "        text-align: right;\n",
       "    }\n",
       "</style>\n",
       "<table border=\"1\" class=\"dataframe\">\n",
       "  <thead>\n",
       "    <tr style=\"text-align: right;\">\n",
       "      <th></th>\n",
       "      <th>1</th>\n",
       "      <th>2</th>\n",
       "      <th>3</th>\n",
       "    </tr>\n",
       "  </thead>\n",
       "  <tbody>\n",
       "    <tr>\n",
       "      <th>0</th>\n",
       "      <td>1</td>\n",
       "      <td>0</td>\n",
       "      <td>0</td>\n",
       "    </tr>\n",
       "    <tr>\n",
       "      <th>1</th>\n",
       "      <td>1</td>\n",
       "      <td>0</td>\n",
       "      <td>0</td>\n",
       "    </tr>\n",
       "    <tr>\n",
       "      <th>2</th>\n",
       "      <td>1</td>\n",
       "      <td>0</td>\n",
       "      <td>0</td>\n",
       "    </tr>\n",
       "    <tr>\n",
       "      <th>3</th>\n",
       "      <td>1</td>\n",
       "      <td>0</td>\n",
       "      <td>0</td>\n",
       "    </tr>\n",
       "    <tr>\n",
       "      <th>4</th>\n",
       "      <td>1</td>\n",
       "      <td>0</td>\n",
       "      <td>0</td>\n",
       "    </tr>\n",
       "    <tr>\n",
       "      <th>...</th>\n",
       "      <td>...</td>\n",
       "      <td>...</td>\n",
       "      <td>...</td>\n",
       "    </tr>\n",
       "    <tr>\n",
       "      <th>173</th>\n",
       "      <td>0</td>\n",
       "      <td>0</td>\n",
       "      <td>1</td>\n",
       "    </tr>\n",
       "    <tr>\n",
       "      <th>174</th>\n",
       "      <td>0</td>\n",
       "      <td>0</td>\n",
       "      <td>1</td>\n",
       "    </tr>\n",
       "    <tr>\n",
       "      <th>175</th>\n",
       "      <td>0</td>\n",
       "      <td>0</td>\n",
       "      <td>1</td>\n",
       "    </tr>\n",
       "    <tr>\n",
       "      <th>176</th>\n",
       "      <td>0</td>\n",
       "      <td>0</td>\n",
       "      <td>1</td>\n",
       "    </tr>\n",
       "    <tr>\n",
       "      <th>177</th>\n",
       "      <td>0</td>\n",
       "      <td>0</td>\n",
       "      <td>1</td>\n",
       "    </tr>\n",
       "  </tbody>\n",
       "</table>\n",
       "<p>178 rows × 3 columns</p>\n",
       "</div>"
      ],
      "text/plain": [
       "     1  2  3\n",
       "0    1  0  0\n",
       "1    1  0  0\n",
       "2    1  0  0\n",
       "3    1  0  0\n",
       "4    1  0  0\n",
       "..  .. .. ..\n",
       "173  0  0  1\n",
       "174  0  0  1\n",
       "175  0  0  1\n",
       "176  0  0  1\n",
       "177  0  0  1\n",
       "\n",
       "[178 rows x 3 columns]"
      ]
     },
     "execution_count": 10,
     "metadata": {},
     "output_type": "execute_result"
    }
   ],
   "source": [
    "pd.get_dummies(y)"
   ]
  },
  {
   "cell_type": "code",
   "execution_count": 11,
   "id": "b5830a04",
   "metadata": {},
   "outputs": [],
   "source": [
    "y_cat = pd.get_dummies(y)"
   ]
  },
  {
   "cell_type": "code",
   "execution_count": 12,
   "id": "9662633a",
   "metadata": {},
   "outputs": [
    {
     "data": {
      "text/plain": [
       "(178, 3)"
      ]
     },
     "execution_count": 12,
     "metadata": {},
     "output_type": "execute_result"
    }
   ],
   "source": [
    "y_cat.shape"
   ]
  },
  {
   "cell_type": "code",
   "execution_count": 13,
   "id": "82ac80a4",
   "metadata": {},
   "outputs": [
    {
     "data": {
      "text/html": [
       "<div>\n",
       "<style scoped>\n",
       "    .dataframe tbody tr th:only-of-type {\n",
       "        vertical-align: middle;\n",
       "    }\n",
       "\n",
       "    .dataframe tbody tr th {\n",
       "        vertical-align: top;\n",
       "    }\n",
       "\n",
       "    .dataframe thead th {\n",
       "        text-align: right;\n",
       "    }\n",
       "</style>\n",
       "<table border=\"1\" class=\"dataframe\">\n",
       "  <thead>\n",
       "    <tr style=\"text-align: right;\">\n",
       "      <th></th>\n",
       "      <th>Classes</th>\n",
       "      <th>Alcohol</th>\n",
       "      <th>Malic acid</th>\n",
       "      <th>Ash</th>\n",
       "      <th>Alcalinity of ash</th>\n",
       "      <th>Magnesium</th>\n",
       "      <th>Total phenols</th>\n",
       "      <th>Flavanoids</th>\n",
       "      <th>Nonflavanoid phenols</th>\n",
       "      <th>Proanthocyanins</th>\n",
       "      <th>Color intensity</th>\n",
       "      <th>Hue</th>\n",
       "      <th>OD280/OD315 of diluted wines</th>\n",
       "      <th>Proline</th>\n",
       "    </tr>\n",
       "  </thead>\n",
       "  <tbody>\n",
       "    <tr>\n",
       "      <th>0</th>\n",
       "      <td>1</td>\n",
       "      <td>14.23</td>\n",
       "      <td>1.71</td>\n",
       "      <td>2.43</td>\n",
       "      <td>15.6</td>\n",
       "      <td>127</td>\n",
       "      <td>2.80</td>\n",
       "      <td>3.06</td>\n",
       "      <td>0.28</td>\n",
       "      <td>2.29</td>\n",
       "      <td>5.64</td>\n",
       "      <td>1.04</td>\n",
       "      <td>3.92</td>\n",
       "      <td>1065</td>\n",
       "    </tr>\n",
       "    <tr>\n",
       "      <th>1</th>\n",
       "      <td>1</td>\n",
       "      <td>13.20</td>\n",
       "      <td>1.78</td>\n",
       "      <td>2.14</td>\n",
       "      <td>11.2</td>\n",
       "      <td>100</td>\n",
       "      <td>2.65</td>\n",
       "      <td>2.76</td>\n",
       "      <td>0.26</td>\n",
       "      <td>1.28</td>\n",
       "      <td>4.38</td>\n",
       "      <td>1.05</td>\n",
       "      <td>3.40</td>\n",
       "      <td>1050</td>\n",
       "    </tr>\n",
       "    <tr>\n",
       "      <th>2</th>\n",
       "      <td>1</td>\n",
       "      <td>13.16</td>\n",
       "      <td>2.36</td>\n",
       "      <td>2.67</td>\n",
       "      <td>18.6</td>\n",
       "      <td>101</td>\n",
       "      <td>2.80</td>\n",
       "      <td>3.24</td>\n",
       "      <td>0.30</td>\n",
       "      <td>2.81</td>\n",
       "      <td>5.68</td>\n",
       "      <td>1.03</td>\n",
       "      <td>3.17</td>\n",
       "      <td>1185</td>\n",
       "    </tr>\n",
       "    <tr>\n",
       "      <th>3</th>\n",
       "      <td>1</td>\n",
       "      <td>14.37</td>\n",
       "      <td>1.95</td>\n",
       "      <td>2.50</td>\n",
       "      <td>16.8</td>\n",
       "      <td>113</td>\n",
       "      <td>3.85</td>\n",
       "      <td>3.49</td>\n",
       "      <td>0.24</td>\n",
       "      <td>2.18</td>\n",
       "      <td>7.80</td>\n",
       "      <td>0.86</td>\n",
       "      <td>3.45</td>\n",
       "      <td>1480</td>\n",
       "    </tr>\n",
       "    <tr>\n",
       "      <th>4</th>\n",
       "      <td>1</td>\n",
       "      <td>13.24</td>\n",
       "      <td>2.59</td>\n",
       "      <td>2.87</td>\n",
       "      <td>21.0</td>\n",
       "      <td>118</td>\n",
       "      <td>2.80</td>\n",
       "      <td>2.69</td>\n",
       "      <td>0.39</td>\n",
       "      <td>1.82</td>\n",
       "      <td>4.32</td>\n",
       "      <td>1.04</td>\n",
       "      <td>2.93</td>\n",
       "      <td>735</td>\n",
       "    </tr>\n",
       "    <tr>\n",
       "      <th>...</th>\n",
       "      <td>...</td>\n",
       "      <td>...</td>\n",
       "      <td>...</td>\n",
       "      <td>...</td>\n",
       "      <td>...</td>\n",
       "      <td>...</td>\n",
       "      <td>...</td>\n",
       "      <td>...</td>\n",
       "      <td>...</td>\n",
       "      <td>...</td>\n",
       "      <td>...</td>\n",
       "      <td>...</td>\n",
       "      <td>...</td>\n",
       "      <td>...</td>\n",
       "    </tr>\n",
       "    <tr>\n",
       "      <th>173</th>\n",
       "      <td>3</td>\n",
       "      <td>13.71</td>\n",
       "      <td>5.65</td>\n",
       "      <td>2.45</td>\n",
       "      <td>20.5</td>\n",
       "      <td>95</td>\n",
       "      <td>1.68</td>\n",
       "      <td>0.61</td>\n",
       "      <td>0.52</td>\n",
       "      <td>1.06</td>\n",
       "      <td>7.70</td>\n",
       "      <td>0.64</td>\n",
       "      <td>1.74</td>\n",
       "      <td>740</td>\n",
       "    </tr>\n",
       "    <tr>\n",
       "      <th>174</th>\n",
       "      <td>3</td>\n",
       "      <td>13.40</td>\n",
       "      <td>3.91</td>\n",
       "      <td>2.48</td>\n",
       "      <td>23.0</td>\n",
       "      <td>102</td>\n",
       "      <td>1.80</td>\n",
       "      <td>0.75</td>\n",
       "      <td>0.43</td>\n",
       "      <td>1.41</td>\n",
       "      <td>7.30</td>\n",
       "      <td>0.70</td>\n",
       "      <td>1.56</td>\n",
       "      <td>750</td>\n",
       "    </tr>\n",
       "    <tr>\n",
       "      <th>175</th>\n",
       "      <td>3</td>\n",
       "      <td>13.27</td>\n",
       "      <td>4.28</td>\n",
       "      <td>2.26</td>\n",
       "      <td>20.0</td>\n",
       "      <td>120</td>\n",
       "      <td>1.59</td>\n",
       "      <td>0.69</td>\n",
       "      <td>0.43</td>\n",
       "      <td>1.35</td>\n",
       "      <td>10.20</td>\n",
       "      <td>0.59</td>\n",
       "      <td>1.56</td>\n",
       "      <td>835</td>\n",
       "    </tr>\n",
       "    <tr>\n",
       "      <th>176</th>\n",
       "      <td>3</td>\n",
       "      <td>13.17</td>\n",
       "      <td>2.59</td>\n",
       "      <td>2.37</td>\n",
       "      <td>20.0</td>\n",
       "      <td>120</td>\n",
       "      <td>1.65</td>\n",
       "      <td>0.68</td>\n",
       "      <td>0.53</td>\n",
       "      <td>1.46</td>\n",
       "      <td>9.30</td>\n",
       "      <td>0.60</td>\n",
       "      <td>1.62</td>\n",
       "      <td>840</td>\n",
       "    </tr>\n",
       "    <tr>\n",
       "      <th>177</th>\n",
       "      <td>3</td>\n",
       "      <td>14.13</td>\n",
       "      <td>4.10</td>\n",
       "      <td>2.74</td>\n",
       "      <td>24.5</td>\n",
       "      <td>96</td>\n",
       "      <td>2.05</td>\n",
       "      <td>0.76</td>\n",
       "      <td>0.56</td>\n",
       "      <td>1.35</td>\n",
       "      <td>9.20</td>\n",
       "      <td>0.61</td>\n",
       "      <td>1.60</td>\n",
       "      <td>560</td>\n",
       "    </tr>\n",
       "  </tbody>\n",
       "</table>\n",
       "<p>178 rows × 14 columns</p>\n",
       "</div>"
      ],
      "text/plain": [
       "     Classes  Alcohol  Malic acid   Ash  Alcalinity of ash  Magnesium  \\\n",
       "0          1    14.23        1.71  2.43               15.6        127   \n",
       "1          1    13.20        1.78  2.14               11.2        100   \n",
       "2          1    13.16        2.36  2.67               18.6        101   \n",
       "3          1    14.37        1.95  2.50               16.8        113   \n",
       "4          1    13.24        2.59  2.87               21.0        118   \n",
       "..       ...      ...         ...   ...                ...        ...   \n",
       "173        3    13.71        5.65  2.45               20.5         95   \n",
       "174        3    13.40        3.91  2.48               23.0        102   \n",
       "175        3    13.27        4.28  2.26               20.0        120   \n",
       "176        3    13.17        2.59  2.37               20.0        120   \n",
       "177        3    14.13        4.10  2.74               24.5         96   \n",
       "\n",
       "     Total phenols  Flavanoids  Nonflavanoid phenols  Proanthocyanins  \\\n",
       "0             2.80        3.06                  0.28             2.29   \n",
       "1             2.65        2.76                  0.26             1.28   \n",
       "2             2.80        3.24                  0.30             2.81   \n",
       "3             3.85        3.49                  0.24             2.18   \n",
       "4             2.80        2.69                  0.39             1.82   \n",
       "..             ...         ...                   ...              ...   \n",
       "173           1.68        0.61                  0.52             1.06   \n",
       "174           1.80        0.75                  0.43             1.41   \n",
       "175           1.59        0.69                  0.43             1.35   \n",
       "176           1.65        0.68                  0.53             1.46   \n",
       "177           2.05        0.76                  0.56             1.35   \n",
       "\n",
       "     Color intensity   Hue  OD280/OD315 of diluted wines  Proline              \n",
       "0               5.64  1.04                          3.92                 1065  \n",
       "1               4.38  1.05                          3.40                 1050  \n",
       "2               5.68  1.03                          3.17                 1185  \n",
       "3               7.80  0.86                          3.45                 1480  \n",
       "4               4.32  1.04                          2.93                  735  \n",
       "..               ...   ...                           ...                  ...  \n",
       "173             7.70  0.64                          1.74                  740  \n",
       "174             7.30  0.70                          1.56                  750  \n",
       "175            10.20  0.59                          1.56                  835  \n",
       "176             9.30  0.60                          1.62                  840  \n",
       "177             9.20  0.61                          1.60                  560  \n",
       "\n",
       "[178 rows x 14 columns]"
      ]
     },
     "execution_count": 13,
     "metadata": {},
     "output_type": "execute_result"
    }
   ],
   "source": [
    "dataset"
   ]
  },
  {
   "cell_type": "code",
   "execution_count": 14,
   "id": "3d980ea6",
   "metadata": {},
   "outputs": [],
   "source": [
    "x = dataset.drop('Classes',axis=1)"
   ]
  },
  {
   "cell_type": "code",
   "execution_count": 15,
   "id": "cb1413e5",
   "metadata": {},
   "outputs": [
    {
     "name": "stdout",
     "output_type": "stream",
     "text": [
      "<class 'pandas.core.frame.DataFrame'>\n",
      "RangeIndex: 178 entries, 0 to 177\n",
      "Data columns (total 13 columns):\n",
      " #   Column                        Non-Null Count  Dtype  \n",
      "---  ------                        --------------  -----  \n",
      " 0   Alcohol                       178 non-null    float64\n",
      " 1   Malic acid                    178 non-null    float64\n",
      " 2   Ash                           178 non-null    float64\n",
      " 3   Alcalinity of ash             178 non-null    float64\n",
      " 4   Magnesium                     178 non-null    int64  \n",
      " 5   Total phenols                 178 non-null    float64\n",
      " 6   Flavanoids                    178 non-null    float64\n",
      " 7   Nonflavanoid phenols          178 non-null    float64\n",
      " 8   Proanthocyanins               178 non-null    float64\n",
      " 9   Color intensity               178 non-null    float64\n",
      " 10  Hue                           178 non-null    float64\n",
      " 11  OD280/OD315 of diluted wines  178 non-null    float64\n",
      " 12  Proline                       178 non-null    int64  \n",
      "dtypes: float64(11), int64(2)\n",
      "memory usage: 18.2 KB\n"
     ]
    }
   ],
   "source": [
    "x.info()"
   ]
  },
  {
   "cell_type": "code",
   "execution_count": 16,
   "id": "047b4319",
   "metadata": {},
   "outputs": [],
   "source": [
    "import seaborn as sns"
   ]
  },
  {
   "cell_type": "code",
   "execution_count": 17,
   "id": "117bce84",
   "metadata": {},
   "outputs": [
    {
     "data": {
      "text/plain": [
       "<AxesSubplot:xlabel='Alcohol', ylabel='Classes'>"
      ]
     },
     "execution_count": 17,
     "metadata": {},
     "output_type": "execute_result"
    },
    {
     "data": {
      "image/png": "[encoded data removed]",
      "text/plain": [
       "<Figure size 432x288 with 1 Axes>"
      ]
     },
     "metadata": {
      "needs_background": "light"
     },
     "output_type": "display_data"
    }
   ],
   "source": [
    "sns.scatterplot(x=\"Alcohol\",y=\"Classes\",data=dataset)"
   ]
  },
  {
   "cell_type": "code",
   "execution_count": 114,
   "id": "8dfbbd61",
   "metadata": {},
   "outputs": [],
   "source": [
    "from keras.models import Sequential"
   ]
  },
  {
   "cell_type": "code",
   "execution_count": 115,
   "id": "0ea7b5cd",
   "metadata": {},
   "outputs": [],
   "source": [
    "model = Sequential()"
   ]
  },
  {
   "cell_type": "code",
   "execution_count": 116,
   "id": "0c3c08d2",
   "metadata": {},
   "outputs": [],
   "source": [
    "from keras.layers import Dense"
   ]
  },
  {
   "cell_type": "code",
   "execution_count": 118,
   "id": "9176fcb0",
   "metadata": {},
   "outputs": [],
   "source": [
    "model.add(\n",
    "    Dense(\n",
    "        units = 100,\n",
    "        input_shape=(13,),\n",
    "        activation=\"relu\",\n",
    "        kernel_initializer=\"he_normal\"\n",
    "    )\n",
    ")"
   ]
  },
  {
   "cell_type": "code",
   "execution_count": 119,
   "id": "626deb05",
   "metadata": {},
   "outputs": [
    {
     "name": "stdout",
     "output_type": "stream",
     "text": [
      "Model: \"sequential_1\"\n",
      "_________________________________________________________________\n",
      "Layer (type)                 Output Shape              Param #   \n",
      "=================================================================\n",
      "dense_3 (Dense)              (None, 8)                 112       \n",
      "_________________________________________________________________\n",
      "dense_4 (Dense)              (None, 100)               900       \n",
      "=================================================================\n",
      "Total params: 1,012\n",
      "Trainable params: 1,012\n",
      "Non-trainable params: 0\n",
      "_________________________________________________________________\n"
     ]
    }
   ],
   "source": [
    "model.summary()"
   ]
  },
  {
   "cell_type": "code",
   "execution_count": 120,
   "id": "d7d39c06",
   "metadata": {},
   "outputs": [],
   "source": [
    "model.add(\n",
    "    Dense(\n",
    "        units=8,\n",
    "        activation='relu',\n",
    "        kernel_initializer='he_normal'\n",
    "    )\n",
    ")"
   ]
  },
  {
   "cell_type": "code",
   "execution_count": 121,
   "id": "54330dc5",
   "metadata": {},
   "outputs": [
    {
     "name": "stdout",
     "output_type": "stream",
     "text": [
      "Model: \"sequential_1\"\n",
      "_________________________________________________________________\n",
      "Layer (type)                 Output Shape              Param #   \n",
      "=================================================================\n",
      "dense_3 (Dense)              (None, 8)                 112       \n",
      "_________________________________________________________________\n",
      "dense_4 (Dense)              (None, 100)               900       \n",
      "_________________________________________________________________\n",
      "dense_5 (Dense)              (None, 8)                 808       \n",
      "=================================================================\n",
      "Total params: 1,820\n",
      "Trainable params: 1,820\n",
      "Non-trainable params: 0\n",
      "_________________________________________________________________\n"
     ]
    }
   ],
   "source": [
    "model.summary()"
   ]
  },
  {
   "cell_type": "code",
   "execution_count": 122,
   "id": "bfe9cca1",
   "metadata": {},
   "outputs": [
    {
     "name": "stdout",
     "output_type": "stream",
     "text": [
      "Model: \"sequential_1\"\n",
      "_________________________________________________________________\n",
      "Layer (type)                 Output Shape              Param #   \n",
      "=================================================================\n",
      "dense_3 (Dense)              (None, 8)                 112       \n",
      "_________________________________________________________________\n",
      "dense_4 (Dense)              (None, 100)               900       \n",
      "_________________________________________________________________\n",
      "dense_5 (Dense)              (None, 8)                 808       \n",
      "=================================================================\n",
      "Total params: 1,820\n",
      "Trainable params: 1,820\n",
      "Non-trainable params: 0\n",
      "_________________________________________________________________\n"
     ]
    }
   ],
   "source": [
    "model.summary()"
   ]
  },
  {
   "cell_type": "code",
   "execution_count": 123,
   "id": "9b49027f",
   "metadata": {},
   "outputs": [],
   "source": [
    "model.add(\n",
    "    Dense(\n",
    "        units=3,\n",
    "        activation=\"softmax\"\n",
    "    )\n",
    ")"
   ]
  },
  {
   "cell_type": "code",
   "execution_count": 124,
   "id": "5fb079ca",
   "metadata": {},
   "outputs": [
    {
     "name": "stdout",
     "output_type": "stream",
     "text": [
      "Model: \"sequential_1\"\n",
      "_________________________________________________________________\n",
      "Layer (type)                 Output Shape              Param #   \n",
      "=================================================================\n",
      "dense_3 (Dense)              (None, 8)                 112       \n",
      "_________________________________________________________________\n",
      "dense_4 (Dense)              (None, 100)               900       \n",
      "_________________________________________________________________\n",
      "dense_5 (Dense)              (None, 8)                 808       \n",
      "_________________________________________________________________\n",
      "dense_6 (Dense)              (None, 3)                 27        \n",
      "=================================================================\n",
      "Total params: 1,847\n",
      "Trainable params: 1,847\n",
      "Non-trainable params: 0\n",
      "_________________________________________________________________\n"
     ]
    }
   ],
   "source": [
    "model.summary()"
   ]
  },
  {
   "cell_type": "code",
   "execution_count": 125,
   "id": "bba2a1ba",
   "metadata": {},
   "outputs": [],
   "source": [
    "from keras.optimizers import Adam"
   ]
  },
  {
   "cell_type": "code",
   "execution_count": 126,
   "id": "d8193a25",
   "metadata": {},
   "outputs": [],
   "source": [
    "model.compile(optimizer=Adam(),loss='categorical_crossentropy',metrics=['accuracy'])"
   ]
  },
  {
   "cell_type": "code",
   "execution_count": 127,
   "id": "46324ef5",
   "metadata": {
    "scrolled": false
   },
   "outputs": [
    {
     "name": "stdout",
     "output_type": "stream",
     "text": [
      "Epoch 1/100\n",
      "6/6 [==============================] - 3s 8ms/step - loss: 69.4370 - accuracy: 0.5206\n",
      "Epoch 2/100\n",
      "6/6 [==============================] - 0s 5ms/step - loss: 33.2187 - accuracy: 0.5415\n",
      "Epoch 3/100\n",
      "6/6 [==============================] - 0s 4ms/step - loss: 23.8595 - accuracy: 0.6462\n",
      "Epoch 4/100\n",
      "6/6 [==============================] - 0s 5ms/step - loss: 15.5984 - accuracy: 0.5944\n",
      "Epoch 5/100\n",
      "6/6 [==============================] - 0s 5ms/step - loss: 7.4293 - accuracy: 0.5480\n",
      "Epoch 6/100\n",
      "6/6 [==============================] - 0s 3ms/step - loss: 0.9416 - accuracy: 0.5075\n",
      "Epoch 7/100\n",
      "6/6 [==============================] - 0s 8ms/step - loss: 1.1014 - accuracy: 0.2623\n",
      "Epoch 8/100\n",
      "6/6 [==============================] - 0s 6ms/step - loss: 1.1002 - accuracy: 0.2613\n",
      "Epoch 9/100\n",
      "6/6 [==============================] - 0s 8ms/step - loss: 1.1017 - accuracy: 0.2456\n",
      "Epoch 10/100\n",
      "6/6 [==============================] - 0s 3ms/step - loss: 1.0992 - accuracy: 0.2850\n",
      "Epoch 11/100\n",
      "6/6 [==============================] - 0s 6ms/step - loss: 1.0991 - accuracy: 0.2984\n",
      "Epoch 12/100\n",
      "6/6 [==============================] - 0s 3ms/step - loss: 1.0999 - accuracy: 0.2561\n",
      "Epoch 13/100\n",
      "6/6 [==============================] - 0s 7ms/step - loss: 1.0997 - accuracy: 0.2294\n",
      "Epoch 14/100\n",
      "6/6 [==============================] - 0s 6ms/step - loss: 1.1006 - accuracy: 0.2660\n",
      "Epoch 15/100\n",
      "6/6 [==============================] - 0s 5ms/step - loss: 1.0974 - accuracy: 0.4346\n",
      "Epoch 16/100\n",
      "6/6 [==============================] - 0s 5ms/step - loss: 1.0967 - accuracy: 0.4265\n",
      "Epoch 17/100\n",
      "6/6 [==============================] - 0s 6ms/step - loss: 1.0981 - accuracy: 0.3877\n",
      "Epoch 18/100\n",
      "6/6 [==============================] - 0s 6ms/step - loss: 1.0963 - accuracy: 0.4155\n",
      "Epoch 19/100\n",
      "6/6 [==============================] - 0s 10ms/step - loss: 1.0973 - accuracy: 0.4160\n",
      "Epoch 20/100\n",
      "6/6 [==============================] - 0s 5ms/step - loss: 1.0941 - accuracy: 0.4474\n",
      "Epoch 21/100\n",
      "6/6 [==============================] - 0s 5ms/step - loss: 1.0968 - accuracy: 0.3823\n",
      "Epoch 22/100\n",
      "6/6 [==============================] - 0s 4ms/step - loss: 1.0953 - accuracy: 0.4191\n",
      "Epoch 23/100\n",
      "6/6 [==============================] - 0s 3ms/step - loss: 1.0951 - accuracy: 0.3991\n",
      "Epoch 24/100\n",
      "6/6 [==============================] - 0s 8ms/step - loss: 1.0987 - accuracy: 0.3494\n",
      "Epoch 25/100\n",
      "6/6 [==============================] - 0s 9ms/step - loss: 1.0954 - accuracy: 0.3996\n",
      "Epoch 26/100\n",
      "6/6 [==============================] - 0s 9ms/step - loss: 1.0945 - accuracy: 0.4152\n",
      "Epoch 27/100\n",
      "6/6 [==============================] - 0s 6ms/step - loss: 1.0953 - accuracy: 0.3979\n",
      "Epoch 28/100\n",
      "6/6 [==============================] - 0s 9ms/step - loss: 1.0960 - accuracy: 0.3899\n",
      "Epoch 29/100\n",
      "6/6 [==============================] - 0s 3ms/step - loss: 1.0952 - accuracy: 0.3928\n",
      "Epoch 30/100\n",
      "6/6 [==============================] - 0s 7ms/step - loss: 1.0938 - accuracy: 0.4032\n",
      "Epoch 31/100\n",
      "6/6 [==============================] - 0s 3ms/step - loss: 1.0916 - accuracy: 0.4252\n",
      "Epoch 32/100\n",
      "6/6 [==============================] - 0s 4ms/step - loss: 1.0944 - accuracy: 0.3904\n",
      "Epoch 33/100\n",
      "6/6 [==============================] - 0s 9ms/step - loss: 1.0914 - accuracy: 0.4191\n",
      "Epoch 34/100\n",
      "6/6 [==============================] - 0s 10ms/step - loss: 1.0951 - accuracy: 0.3787\n",
      "Epoch 35/100\n",
      "6/6 [==============================] - 0s 12ms/step - loss: 1.0937 - accuracy: 0.3893\n",
      "Epoch 36/100\n",
      "6/6 [==============================] - 0s 5ms/step - loss: 1.0952 - accuracy: 0.3769\n",
      "Epoch 37/100\n",
      "6/6 [==============================] - 0s 5ms/step - loss: 1.0917 - accuracy: 0.4083\n",
      "Epoch 38/100\n",
      "6/6 [==============================] - 0s 8ms/step - loss: 1.0904 - accuracy: 0.4124\n",
      "Epoch 39/100\n",
      "6/6 [==============================] - 0s 7ms/step - loss: 1.0936 - accuracy: 0.3840\n",
      "Epoch 40/100\n",
      "6/6 [==============================] - 0s 4ms/step - loss: 1.0927 - accuracy: 0.3965\n",
      "Epoch 41/100\n",
      "6/6 [==============================] - 0s 3ms/step - loss: 1.0935 - accuracy: 0.3886\n",
      "Epoch 42/100\n",
      "6/6 [==============================] - 0s 14ms/step - loss: 1.0954 - accuracy: 0.3575\n",
      "Epoch 43/100\n",
      "6/6 [==============================] - 0s 8ms/step - loss: 1.0921 - accuracy: 0.3932\n",
      "Epoch 44/100\n",
      "6/6 [==============================] - 0s 4ms/step - loss: 1.0933 - accuracy: 0.3804\n",
      "Epoch 45/100\n",
      "6/6 [==============================] - 0s 8ms/step - loss: 1.0921 - accuracy: 0.3867\n",
      "Epoch 46/100\n",
      "6/6 [==============================] - 0s 5ms/step - loss: 1.0881 - accuracy: 0.4117\n",
      "Epoch 47/100\n",
      "6/6 [==============================] - 0s 9ms/step - loss: 1.0845 - accuracy: 0.4376\n",
      "Epoch 48/100\n",
      "6/6 [==============================] - 0s 3ms/step - loss: 1.0916 - accuracy: 0.3907\n",
      "Epoch 49/100\n",
      "6/6 [==============================] - 0s 4ms/step - loss: 1.0865 - accuracy: 0.4241\n",
      "Epoch 50/100\n",
      "6/6 [==============================] - 0s 8ms/step - loss: 1.0970 - accuracy: 0.3469\n",
      "Epoch 51/100\n",
      "6/6 [==============================] - 0s 12ms/step - loss: 1.0940 - accuracy: 0.3728\n",
      "Epoch 52/100\n",
      "6/6 [==============================] - 0s 9ms/step - loss: 1.0871 - accuracy: 0.4189\n",
      "Epoch 53/100\n",
      "6/6 [==============================] - 0s 12ms/step - loss: 1.0911 - accuracy: 0.3988\n",
      "Epoch 54/100\n",
      "6/6 [==============================] - 0s 9ms/step - loss: 1.0909 - accuracy: 0.3899\n",
      "Epoch 55/100\n",
      "6/6 [==============================] - 0s 15ms/step - loss: 1.0912 - accuracy: 0.3861\n",
      "Epoch 56/100\n",
      "6/6 [==============================] - 0s 5ms/step - loss: 1.0928 - accuracy: 0.3812\n",
      "Epoch 57/100\n",
      "6/6 [==============================] - 0s 12ms/step - loss: 1.0901 - accuracy: 0.3990\n",
      "Epoch 58/100\n",
      "6/6 [==============================] - 0s 8ms/step - loss: 1.0923 - accuracy: 0.3755\n",
      "Epoch 59/100\n",
      "6/6 [==============================] - 0s 6ms/step - loss: 1.0852 - accuracy: 0.4298\n",
      "Epoch 60/100\n",
      "6/6 [==============================] - 0s 6ms/step - loss: 1.0811 - accuracy: 0.4412\n",
      "Epoch 61/100\n",
      "6/6 [==============================] - 0s 6ms/step - loss: 1.0852 - accuracy: 0.4162\n",
      "Epoch 62/100\n",
      "6/6 [==============================] - 0s 7ms/step - loss: 1.0901 - accuracy: 0.3840\n",
      "Epoch 63/100\n",
      "6/6 [==============================] - 0s 4ms/step - loss: 1.0834 - accuracy: 0.4225\n",
      "Epoch 64/100\n",
      "6/6 [==============================] - 0s 6ms/step - loss: 1.0905 - accuracy: 0.3899\n",
      "Epoch 65/100\n",
      "6/6 [==============================] - 0s 3ms/step - loss: 1.0913 - accuracy: 0.3796\n",
      "Epoch 66/100\n",
      "6/6 [==============================] - 0s 8ms/step - loss: 1.0868 - accuracy: 0.4066\n",
      "Epoch 67/100\n",
      "6/6 [==============================] - 0s 6ms/step - loss: 1.0890 - accuracy: 0.4010\n",
      "Epoch 68/100\n",
      "6/6 [==============================] - 0s 3ms/step - loss: 1.0877 - accuracy: 0.4059\n",
      "Epoch 69/100\n",
      "6/6 [==============================] - 0s 4ms/step - loss: 1.0838 - accuracy: 0.4126\n",
      "Epoch 70/100\n",
      "6/6 [==============================] - 0s 4ms/step - loss: 1.0878 - accuracy: 0.4012\n",
      "Epoch 71/100\n",
      "6/6 [==============================] - 0s 8ms/step - loss: 1.0889 - accuracy: 0.3952\n",
      "Epoch 72/100\n",
      "6/6 [==============================] - 0s 7ms/step - loss: 1.0844 - accuracy: 0.4230\n",
      "Epoch 73/100\n",
      "6/6 [==============================] - 0s 5ms/step - loss: 1.0932 - accuracy: 0.3725\n",
      "Epoch 74/100\n",
      "6/6 [==============================] - 0s 4ms/step - loss: 1.0912 - accuracy: 0.3841\n",
      "Epoch 75/100\n",
      "6/6 [==============================] - 0s 6ms/step - loss: 1.0845 - accuracy: 0.4033\n",
      "Epoch 76/100\n",
      "6/6 [==============================] - 0s 5ms/step - loss: 1.0968 - accuracy: 0.3477\n",
      "Epoch 77/100\n",
      "6/6 [==============================] - 0s 6ms/step - loss: 1.0897 - accuracy: 0.3835\n",
      "Epoch 78/100\n",
      "6/6 [==============================] - 0s 8ms/step - loss: 1.0929 - accuracy: 0.3873\n",
      "Epoch 79/100\n",
      "6/6 [==============================] - 0s 6ms/step - loss: 1.0709 - accuracy: 0.4748\n",
      "Epoch 80/100\n",
      "6/6 [==============================] - 0s 3ms/step - loss: 1.0911 - accuracy: 0.3817\n",
      "Epoch 81/100\n",
      "6/6 [==============================] - 0s 5ms/step - loss: 1.0886 - accuracy: 0.3897\n",
      "Epoch 82/100\n",
      "6/6 [==============================] - 0s 10ms/step - loss: 1.0902 - accuracy: 0.3946\n",
      "Epoch 83/100\n",
      "6/6 [==============================] - 0s 3ms/step - loss: 1.0920 - accuracy: 0.3872\n",
      "Epoch 84/100\n",
      "6/6 [==============================] - 0s 7ms/step - loss: 1.0935 - accuracy: 0.3590\n",
      "Epoch 85/100\n",
      "6/6 [==============================] - 0s 8ms/step - loss: 1.0829 - accuracy: 0.4245\n",
      "Epoch 86/100\n",
      "6/6 [==============================] - 0s 4ms/step - loss: 1.0904 - accuracy: 0.3870\n",
      "Epoch 87/100\n",
      "6/6 [==============================] - 0s 6ms/step - loss: 1.0820 - accuracy: 0.4341\n",
      "Epoch 88/100\n",
      "6/6 [==============================] - 0s 6ms/step - loss: 1.0932 - accuracy: 0.3869\n",
      "Epoch 89/100\n",
      "6/6 [==============================] - 0s 3ms/step - loss: 1.0813 - accuracy: 0.4102\n",
      "Epoch 90/100\n",
      "6/6 [==============================] - 0s 3ms/step - loss: 1.0876 - accuracy: 0.4012\n",
      "Epoch 91/100\n",
      "6/6 [==============================] - 0s 4ms/step - loss: 1.0912 - accuracy: 0.3831\n",
      "Epoch 92/100\n",
      "6/6 [==============================] - 0s 9ms/step - loss: 1.0871 - accuracy: 0.3902\n",
      "Epoch 93/100\n",
      "6/6 [==============================] - 0s 3ms/step - loss: 1.0957 - accuracy: 0.3695\n",
      "Epoch 94/100\n",
      "6/6 [==============================] - 0s 12ms/step - loss: 1.0945 - accuracy: 0.3999\n",
      "Epoch 95/100\n",
      "6/6 [==============================] - 0s 5ms/step - loss: 1.0878 - accuracy: 0.3925\n",
      "Epoch 96/100\n",
      "6/6 [==============================] - 0s 9ms/step - loss: 1.0910 - accuracy: 0.3791\n",
      "Epoch 97/100\n",
      "6/6 [==============================] - 0s 7ms/step - loss: 1.0935 - accuracy: 0.3739\n",
      "Epoch 98/100\n",
      "6/6 [==============================] - 0s 7ms/step - loss: 1.1004 - accuracy: 0.3548\n",
      "Epoch 99/100\n",
      "6/6 [==============================] - 0s 7ms/step - loss: 1.0864 - accuracy: 0.3892\n",
      "Epoch 100/100\n",
      "6/6 [==============================] - 0s 13ms/step - loss: 1.0790 - accuracy: 0.4263\n"
     ]
    },
    {
     "data": {
      "text/plain": [
       "<tensorflow.python.keras.callbacks.History at 0x7f392771ee50>"
      ]
     },
     "execution_count": 127,
     "metadata": {},
     "output_type": "execute_result"
    }
   ],
   "source": [
    "model.fit(x,y_cat,epochs=100)"
   ]
  },
  {
   "cell_type": "code",
   "execution_count": 128,
   "id": "8df8d0a7",
   "metadata": {},
   "outputs": [
    {
     "data": {
      "text/plain": [
       "{'loss': [64.21613311767578,\n",
       "  34.256248474121094,\n",
       "  23.932804107666016,\n",
       "  14.260065078735352,\n",
       "  5.4265522956848145,\n",
       "  1.0101646184921265,\n",
       "  1.1007723808288574,\n",
       "  1.1007413864135742,\n",
       "  1.1004972457885742,\n",
       "  1.1002079248428345,\n",
       "  1.0999178886413574,\n",
       "  1.0996659994125366,\n",
       "  1.0993638038635254,\n",
       "  1.0989408493041992,\n",
       "  1.09867525100708,\n",
       "  1.0983383655548096,\n",
       "  1.0979313850402832,\n",
       "  1.0976386070251465,\n",
       "  1.0973453521728516,\n",
       "  1.097041130065918,\n",
       "  1.0966949462890625,\n",
       "  1.0964515209197998,\n",
       "  1.0961166620254517,\n",
       "  1.0958281755447388,\n",
       "  1.0955822467803955,\n",
       "  1.0953105688095093,\n",
       "  1.0949746370315552,\n",
       "  1.0947390794754028,\n",
       "  1.0943989753723145,\n",
       "  1.0941157341003418,\n",
       "  1.093866229057312,\n",
       "  1.0935791730880737,\n",
       "  1.093355417251587,\n",
       "  1.0930507183074951,\n",
       "  1.0928608179092407,\n",
       "  1.0925984382629395,\n",
       "  1.0924139022827148,\n",
       "  1.092246413230896,\n",
       "  1.0919599533081055,\n",
       "  1.091752529144287,\n",
       "  1.0915367603302002,\n",
       "  1.0913605690002441,\n",
       "  1.0911316871643066,\n",
       "  1.0909407138824463,\n",
       "  1.090783715248108,\n",
       "  1.0906296968460083,\n",
       "  1.0905048847198486,\n",
       "  1.090267539024353,\n",
       "  1.090172529220581,\n",
       "  1.0900062322616577,\n",
       "  1.0898582935333252,\n",
       "  1.0898011922836304,\n",
       "  1.0896165370941162,\n",
       "  1.0894972085952759,\n",
       "  1.0893782377243042,\n",
       "  1.0892518758773804,\n",
       "  1.0891464948654175,\n",
       "  1.0890376567840576,\n",
       "  1.0889467000961304,\n",
       "  1.088860273361206,\n",
       "  1.088727593421936,\n",
       "  1.0886372327804565,\n",
       "  1.0885640382766724,\n",
       "  1.0884382724761963,\n",
       "  1.0883761644363403,\n",
       "  1.0882925987243652,\n",
       "  1.088228464126587,\n",
       "  1.0881766080856323,\n",
       "  1.088121771812439,\n",
       "  1.0880316495895386,\n",
       "  1.0879731178283691,\n",
       "  1.087931513786316,\n",
       "  1.0878305435180664,\n",
       "  1.0877543687820435,\n",
       "  1.0877256393432617,\n",
       "  1.0876283645629883,\n",
       "  1.0875799655914307,\n",
       "  1.0875190496444702,\n",
       "  1.0875896215438843,\n",
       "  1.0873985290527344,\n",
       "  1.0873559713363647,\n",
       "  1.0872851610183716,\n",
       "  1.0872496366500854,\n",
       "  1.0872200727462769,\n",
       "  1.0872070789337158,\n",
       "  1.0871241092681885,\n",
       "  1.0871214866638184,\n",
       "  1.0870517492294312,\n",
       "  1.087080478668213,\n",
       "  1.086970329284668,\n",
       "  1.0869369506835938,\n",
       "  1.0869145393371582,\n",
       "  1.086867332458496,\n",
       "  1.0868326425552368,\n",
       "  1.0868051052093506,\n",
       "  1.0867762565612793,\n",
       "  1.0867232084274292,\n",
       "  1.0866942405700684,\n",
       "  1.0867112874984741,\n",
       "  1.0866721868515015],\n",
       " 'accuracy': [0.5393258333206177,\n",
       "  0.5449438095092773,\n",
       "  0.6292135119438171,\n",
       "  0.5786516666412354,\n",
       "  0.6123595237731934,\n",
       "  0.4157303273677826,\n",
       "  0.26966291666030884,\n",
       "  0.26966291666030884,\n",
       "  0.26966291666030884,\n",
       "  0.26966291666030884,\n",
       "  0.26966291666030884,\n",
       "  0.26966291666030884,\n",
       "  0.26966291666030884,\n",
       "  0.26966291666030884,\n",
       "  0.3988763988018036,\n",
       "  0.3988763988018036,\n",
       "  0.3988763988018036,\n",
       "  0.3988763988018036,\n",
       "  0.3988763988018036,\n",
       "  0.3988763988018036,\n",
       "  0.3988763988018036,\n",
       "  0.3988763988018036,\n",
       "  0.3988763988018036,\n",
       "  0.3988763988018036,\n",
       "  0.3988763988018036,\n",
       "  0.3988763988018036,\n",
       "  0.3988763988018036,\n",
       "  0.3988763988018036,\n",
       "  0.3988763988018036,\n",
       "  0.3988763988018036,\n",
       "  0.3988763988018036,\n",
       "  0.3988763988018036,\n",
       "  0.3988763988018036,\n",
       "  0.3988763988018036,\n",
       "  0.3988763988018036,\n",
       "  0.3988763988018036,\n",
       "  0.3988763988018036,\n",
       "  0.3988763988018036,\n",
       "  0.3988763988018036,\n",
       "  0.3988763988018036,\n",
       "  0.3988763988018036,\n",
       "  0.3988763988018036,\n",
       "  0.3988763988018036,\n",
       "  0.3988763988018036,\n",
       "  0.3988763988018036,\n",
       "  0.3988763988018036,\n",
       "  0.3988763988018036,\n",
       "  0.3988763988018036,\n",
       "  0.3988763988018036,\n",
       "  0.3988763988018036,\n",
       "  0.3988763988018036,\n",
       "  0.3988763988018036,\n",
       "  0.3988763988018036,\n",
       "  0.3988763988018036,\n",
       "  0.3988763988018036,\n",
       "  0.3988763988018036,\n",
       "  0.3988763988018036,\n",
       "  0.3988763988018036,\n",
       "  0.3988763988018036,\n",
       "  0.3988763988018036,\n",
       "  0.3988763988018036,\n",
       "  0.3988763988018036,\n",
       "  0.3988763988018036,\n",
       "  0.3988763988018036,\n",
       "  0.3988763988018036,\n",
       "  0.3988763988018036,\n",
       "  0.3988763988018036,\n",
       "  0.3988763988018036,\n",
       "  0.3988763988018036,\n",
       "  0.3988763988018036,\n",
       "  0.3988763988018036,\n",
       "  0.3988763988018036,\n",
       "  0.3988763988018036,\n",
       "  0.3988763988018036,\n",
       "  0.3988763988018036,\n",
       "  0.3988763988018036,\n",
       "  0.3988763988018036,\n",
       "  0.3988763988018036,\n",
       "  0.3988763988018036,\n",
       "  0.3988763988018036,\n",
       "  0.3988763988018036,\n",
       "  0.3988763988018036,\n",
       "  0.3988763988018036,\n",
       "  0.3988763988018036,\n",
       "  0.3988763988018036,\n",
       "  0.3988763988018036,\n",
       "  0.3988763988018036,\n",
       "  0.3988763988018036,\n",
       "  0.3988763988018036,\n",
       "  0.3988763988018036,\n",
       "  0.3988763988018036,\n",
       "  0.3988763988018036,\n",
       "  0.3988763988018036,\n",
       "  0.3988763988018036,\n",
       "  0.3988763988018036,\n",
       "  0.3988763988018036,\n",
       "  0.3988763988018036,\n",
       "  0.3988763988018036,\n",
       "  0.3988763988018036,\n",
       "  0.3988763988018036]}"
      ]
     },
     "execution_count": 128,
     "metadata": {},
     "output_type": "execute_result"
    }
   ],
   "source": [
    "model.history.history"
   ]
  },
  {
   "cell_type": "code",
   "execution_count": 129,
   "id": "66fd0429",
   "metadata": {},
   "outputs": [],
   "source": [
    "loss=model.history.history['loss']"
   ]
  },
  {
   "cell_type": "code",
   "execution_count": 130,
   "id": "6da648f1",
   "metadata": {},
   "outputs": [
    {
     "data": {
      "text/plain": [
       "list"
      ]
     },
     "execution_count": 130,
     "metadata": {},
     "output_type": "execute_result"
    }
   ],
   "source": [
    "type(loss)"
   ]
  },
  {
   "cell_type": "code",
   "execution_count": 131,
   "id": "8eb316b5",
   "metadata": {},
   "outputs": [],
   "source": [
    "loss= pd.DataFrame(loss)"
   ]
  },
  {
   "cell_type": "code",
   "execution_count": 132,
   "id": "920ef412",
   "metadata": {},
   "outputs": [
    {
     "data": {
      "text/plain": [
       "pandas.core.frame.DataFrame"
      ]
     },
     "execution_count": 132,
     "metadata": {},
     "output_type": "execute_result"
    }
   ],
   "source": [
    "type(loss)"
   ]
  },
  {
   "cell_type": "code",
   "execution_count": 133,
   "id": "6014f84f",
   "metadata": {},
   "outputs": [
    {
     "data": {
      "text/plain": [
       "<AxesSubplot:>"
      ]
     },
     "execution_count": 133,
     "metadata": {},
     "output_type": "execute_result"
    },
    {
     "data": {
      "image/png": "[encoded data removed]",
      "text/plain": [
       "<Figure size 432x288 with 1 Axes>"
      ]
     },
     "metadata": {
      "needs_background": "light"
     },
     "output_type": "display_data"
    }
   ],
   "source": [
    "loss.plot()"
   ]
  },
  {
   "cell_type": "code",
   "execution_count": 134,
   "id": "e9e52bca",
   "metadata": {},
   "outputs": [],
   "source": [
    "accuracy=model.history.history['accuracy']"
   ]
  },
  {
   "cell_type": "code",
   "execution_count": 135,
   "id": "fbb5fbd6",
   "metadata": {},
   "outputs": [],
   "source": [
    "accuracy = pd.DataFrame(accuracy)"
   ]
  },
  {
   "cell_type": "code",
   "execution_count": 136,
   "id": "d0cc5b40",
   "metadata": {},
   "outputs": [
    {
     "data": {
      "text/plain": [
       "<AxesSubplot:>"
      ]
     },
     "execution_count": 136,
     "metadata": {},
     "output_type": "execute_result"
    },
    {
     "data": {
      "image/png": "[encoded data removed]",
      "text/plain": [
       "<Figure size 432x288 with 1 Axes>"
      ]
     },
     "metadata": {
      "needs_background": "light"
     },
     "output_type": "display_data"
    }
   ],
   "source": [
    "accuracy.plot()"
   ]
  },
  {
   "cell_type": "code",
   "execution_count": 137,
   "id": "b5e8e39d",
   "metadata": {},
   "outputs": [],
   "source": [
    "model.reset_states()"
   ]
  },
  {
   "cell_type": "code",
   "execution_count": null,
   "id": "c4236c80",
   "metadata": {},
   "outputs": [],
   "source": []
  },
  {
   "cell_type": "code",
   "execution_count": null,
   "id": "8a2ecc7b",
   "metadata": {},
   "outputs": [],
   "source": []
  },
  {
   "cell_type": "code",
   "execution_count": null,
   "id": "07f5e626",
   "metadata": {},
   "outputs": [],
   "source": []
  },
  {
   "cell_type": "code",
   "execution_count": null,
   "id": "546cdeed",
   "metadata": {},
   "outputs": [],
   "source": []
  },
  {
   "cell_type": "code",
   "execution_count": null,
   "id": "58a6dd93",
   "metadata": {},
   "outputs": [],
   "source": []
  },
  {
   "cell_type": "code",
   "execution_count": null,
   "id": "d5f33c1f",
   "metadata": {},
   "outputs": [],
   "source": []
  },
  {
   "cell_type": "code",
   "execution_count": null,
   "id": "290efce2",
   "metadata": {},
   "outputs": [],
   "source": []
  }
 ],
 "metadata": {
  "kernelspec": {
   "display_name": "Python 3",
   "language": "python",
   "name": "python3"
  },
  "language_info": {
   "codemirror_mode": {
    "name": "ipython",
    "version": 3
   },
   "file_extension": ".py",
   "mimetype": "text/x-python",
   "name": "python",
   "nbconvert_exporter": "python",
   "pygments_lexer": "ipython3",
   "version": "3.7.10"
  }
 },
 "nbformat": 4,
 "nbformat_minor": 5
}

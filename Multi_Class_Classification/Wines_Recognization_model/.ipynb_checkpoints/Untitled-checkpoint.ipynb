{
 "cells": [
  {
   "cell_type": "code",
   "execution_count": 1,
   "id": "a95bb244",
   "metadata": {},
   "outputs": [],
   "source": [
    "import pandas as pd"
   ]
  },
  {
   "cell_type": "code",
   "execution_count": 2,
   "id": "1f52a7e2",
   "metadata": {},
   "outputs": [],
   "source": [
    "dataset = pd.read_csv(\"./Dataset/wine.data\")"
   ]
  },
  {
   "cell_type": "code",
   "execution_count": 3,
   "id": "b19623d7",
   "metadata": {},
   "outputs": [
    {
     "data": {
      "text/plain": [
       "(178, 14)"
      ]
     },
     "execution_count": 3,
     "metadata": {},
     "output_type": "execute_result"
    }
   ],
   "source": [
    "dataset.shape"
   ]
  },
  {
   "cell_type": "code",
   "execution_count": 4,
   "id": "7cfc107e",
   "metadata": {},
   "outputs": [
    {
     "data": {
      "text/plain": [
       "Index(['Classes', 'Alcohol', 'Malic acid', 'Ash', 'Alcalinity of ash',\n",
       "       'Magnesium', 'Total phenols', 'Flavanoids', 'Nonflavanoid phenols',\n",
       "       'Proanthocyanins', 'Color intensity', 'Hue',\n",
       "       'OD280/OD315 of diluted wines', 'Proline            '],\n",
       "      dtype='object')"
      ]
     },
     "execution_count": 4,
     "metadata": {},
     "output_type": "execute_result"
    }
   ],
   "source": [
    "dataset.columns"
   ]
  },
  {
   "cell_type": "code",
   "execution_count": 5,
   "id": "a09fd727",
   "metadata": {},
   "outputs": [
    {
     "data": {
      "text/html": [
       "<div>\n",
       "<style scoped>\n",
       "    .dataframe tbody tr th:only-of-type {\n",
       "        vertical-align: middle;\n",
       "    }\n",
       "\n",
       "    .dataframe tbody tr th {\n",
       "        vertical-align: top;\n",
       "    }\n",
       "\n",
       "    .dataframe thead th {\n",
       "        text-align: right;\n",
       "    }\n",
       "</style>\n",
       "<table border=\"1\" class=\"dataframe\">\n",
       "  <thead>\n",
       "    <tr style=\"text-align: right;\">\n",
       "      <th></th>\n",
       "      <th>Classes</th>\n",
       "      <th>Alcohol</th>\n",
       "      <th>Malic acid</th>\n",
       "      <th>Ash</th>\n",
       "      <th>Alcalinity of ash</th>\n",
       "      <th>Magnesium</th>\n",
       "      <th>Total phenols</th>\n",
       "      <th>Flavanoids</th>\n",
       "      <th>Nonflavanoid phenols</th>\n",
       "      <th>Proanthocyanins</th>\n",
       "      <th>Color intensity</th>\n",
       "      <th>Hue</th>\n",
       "      <th>OD280/OD315 of diluted wines</th>\n",
       "      <th>Proline</th>\n",
       "    </tr>\n",
       "  </thead>\n",
       "  <tbody>\n",
       "    <tr>\n",
       "      <th>0</th>\n",
       "      <td>1</td>\n",
       "      <td>14.23</td>\n",
       "      <td>1.71</td>\n",
       "      <td>2.43</td>\n",
       "      <td>15.6</td>\n",
       "      <td>127</td>\n",
       "      <td>2.80</td>\n",
       "      <td>3.06</td>\n",
       "      <td>0.28</td>\n",
       "      <td>2.29</td>\n",
       "      <td>5.64</td>\n",
       "      <td>1.04</td>\n",
       "      <td>3.92</td>\n",
       "      <td>1065</td>\n",
       "    </tr>\n",
       "    <tr>\n",
       "      <th>1</th>\n",
       "      <td>1</td>\n",
       "      <td>13.20</td>\n",
       "      <td>1.78</td>\n",
       "      <td>2.14</td>\n",
       "      <td>11.2</td>\n",
       "      <td>100</td>\n",
       "      <td>2.65</td>\n",
       "      <td>2.76</td>\n",
       "      <td>0.26</td>\n",
       "      <td>1.28</td>\n",
       "      <td>4.38</td>\n",
       "      <td>1.05</td>\n",
       "      <td>3.40</td>\n",
       "      <td>1050</td>\n",
       "    </tr>\n",
       "    <tr>\n",
       "      <th>2</th>\n",
       "      <td>1</td>\n",
       "      <td>13.16</td>\n",
       "      <td>2.36</td>\n",
       "      <td>2.67</td>\n",
       "      <td>18.6</td>\n",
       "      <td>101</td>\n",
       "      <td>2.80</td>\n",
       "      <td>3.24</td>\n",
       "      <td>0.30</td>\n",
       "      <td>2.81</td>\n",
       "      <td>5.68</td>\n",
       "      <td>1.03</td>\n",
       "      <td>3.17</td>\n",
       "      <td>1185</td>\n",
       "    </tr>\n",
       "    <tr>\n",
       "      <th>3</th>\n",
       "      <td>1</td>\n",
       "      <td>14.37</td>\n",
       "      <td>1.95</td>\n",
       "      <td>2.50</td>\n",
       "      <td>16.8</td>\n",
       "      <td>113</td>\n",
       "      <td>3.85</td>\n",
       "      <td>3.49</td>\n",
       "      <td>0.24</td>\n",
       "      <td>2.18</td>\n",
       "      <td>7.80</td>\n",
       "      <td>0.86</td>\n",
       "      <td>3.45</td>\n",
       "      <td>1480</td>\n",
       "    </tr>\n",
       "    <tr>\n",
       "      <th>4</th>\n",
       "      <td>1</td>\n",
       "      <td>13.24</td>\n",
       "      <td>2.59</td>\n",
       "      <td>2.87</td>\n",
       "      <td>21.0</td>\n",
       "      <td>118</td>\n",
       "      <td>2.80</td>\n",
       "      <td>2.69</td>\n",
       "      <td>0.39</td>\n",
       "      <td>1.82</td>\n",
       "      <td>4.32</td>\n",
       "      <td>1.04</td>\n",
       "      <td>2.93</td>\n",
       "      <td>735</td>\n",
       "    </tr>\n",
       "  </tbody>\n",
       "</table>\n",
       "</div>"
      ],
      "text/plain": [
       "   Classes  Alcohol  Malic acid   Ash  Alcalinity of ash  Magnesium  \\\n",
       "0        1    14.23        1.71  2.43               15.6        127   \n",
       "1        1    13.20        1.78  2.14               11.2        100   \n",
       "2        1    13.16        2.36  2.67               18.6        101   \n",
       "3        1    14.37        1.95  2.50               16.8        113   \n",
       "4        1    13.24        2.59  2.87               21.0        118   \n",
       "\n",
       "   Total phenols  Flavanoids  Nonflavanoid phenols  Proanthocyanins  \\\n",
       "0           2.80        3.06                  0.28             2.29   \n",
       "1           2.65        2.76                  0.26             1.28   \n",
       "2           2.80        3.24                  0.30             2.81   \n",
       "3           3.85        3.49                  0.24             2.18   \n",
       "4           2.80        2.69                  0.39             1.82   \n",
       "\n",
       "   Color intensity   Hue  OD280/OD315 of diluted wines  Proline              \n",
       "0             5.64  1.04                          3.92                 1065  \n",
       "1             4.38  1.05                          3.40                 1050  \n",
       "2             5.68  1.03                          3.17                 1185  \n",
       "3             7.80  0.86                          3.45                 1480  \n",
       "4             4.32  1.04                          2.93                  735  "
      ]
     },
     "execution_count": 5,
     "metadata": {},
     "output_type": "execute_result"
    }
   ],
   "source": [
    "dataset.head()"
   ]
  },
  {
   "cell_type": "code",
   "execution_count": 6,
   "id": "92e81798",
   "metadata": {},
   "outputs": [],
   "source": [
    "y = dataset['Classes']"
   ]
  },
  {
   "cell_type": "code",
   "execution_count": 7,
   "id": "3c46c960",
   "metadata": {},
   "outputs": [
    {
     "data": {
      "text/plain": [
       "(178,)"
      ]
     },
     "execution_count": 7,
     "metadata": {},
     "output_type": "execute_result"
    }
   ],
   "source": [
    "y.shape"
   ]
  },
  {
   "cell_type": "code",
   "execution_count": 8,
   "id": "118678fb",
   "metadata": {},
   "outputs": [
    {
     "data": {
      "text/plain": [
       "pandas.core.series.Series"
      ]
     },
     "execution_count": 8,
     "metadata": {},
     "output_type": "execute_result"
    }
   ],
   "source": [
    "type(y)"
   ]
  },
  {
   "cell_type": "code",
   "execution_count": 9,
   "id": "c4049b36",
   "metadata": {},
   "outputs": [
    {
     "data": {
      "text/plain": [
       "2    71\n",
       "1    59\n",
       "3    48\n",
       "Name: Classes, dtype: int64"
      ]
     },
     "execution_count": 9,
     "metadata": {},
     "output_type": "execute_result"
    }
   ],
   "source": [
    "y.value_counts()"
   ]
  },
  {
   "cell_type": "code",
   "execution_count": 10,
   "id": "79236c2d",
   "metadata": {},
   "outputs": [
    {
     "data": {
      "text/html": [
       "<div>\n",
       "<style scoped>\n",
       "    .dataframe tbody tr th:only-of-type {\n",
       "        vertical-align: middle;\n",
       "    }\n",
       "\n",
       "    .dataframe tbody tr th {\n",
       "        vertical-align: top;\n",
       "    }\n",
       "\n",
       "    .dataframe thead th {\n",
       "        text-align: right;\n",
       "    }\n",
       "</style>\n",
       "<table border=\"1\" class=\"dataframe\">\n",
       "  <thead>\n",
       "    <tr style=\"text-align: right;\">\n",
       "      <th></th>\n",
       "      <th>1</th>\n",
       "      <th>2</th>\n",
       "      <th>3</th>\n",
       "    </tr>\n",
       "  </thead>\n",
       "  <tbody>\n",
       "    <tr>\n",
       "      <th>0</th>\n",
       "      <td>1</td>\n",
       "      <td>0</td>\n",
       "      <td>0</td>\n",
       "    </tr>\n",
       "    <tr>\n",
       "      <th>1</th>\n",
       "      <td>1</td>\n",
       "      <td>0</td>\n",
       "      <td>0</td>\n",
       "    </tr>\n",
       "    <tr>\n",
       "      <th>2</th>\n",
       "      <td>1</td>\n",
       "      <td>0</td>\n",
       "      <td>0</td>\n",
       "    </tr>\n",
       "    <tr>\n",
       "      <th>3</th>\n",
       "      <td>1</td>\n",
       "      <td>0</td>\n",
       "      <td>0</td>\n",
       "    </tr>\n",
       "    <tr>\n",
       "      <th>4</th>\n",
       "      <td>1</td>\n",
       "      <td>0</td>\n",
       "      <td>0</td>\n",
       "    </tr>\n",
       "    <tr>\n",
       "      <th>...</th>\n",
       "      <td>...</td>\n",
       "      <td>...</td>\n",
       "      <td>...</td>\n",
       "    </tr>\n",
       "    <tr>\n",
       "      <th>173</th>\n",
       "      <td>0</td>\n",
       "      <td>0</td>\n",
       "      <td>1</td>\n",
       "    </tr>\n",
       "    <tr>\n",
       "      <th>174</th>\n",
       "      <td>0</td>\n",
       "      <td>0</td>\n",
       "      <td>1</td>\n",
       "    </tr>\n",
       "    <tr>\n",
       "      <th>175</th>\n",
       "      <td>0</td>\n",
       "      <td>0</td>\n",
       "      <td>1</td>\n",
       "    </tr>\n",
       "    <tr>\n",
       "      <th>176</th>\n",
       "      <td>0</td>\n",
       "      <td>0</td>\n",
       "      <td>1</td>\n",
       "    </tr>\n",
       "    <tr>\n",
       "      <th>177</th>\n",
       "      <td>0</td>\n",
       "      <td>0</td>\n",
       "      <td>1</td>\n",
       "    </tr>\n",
       "  </tbody>\n",
       "</table>\n",
       "<p>178 rows × 3 columns</p>\n",
       "</div>"
      ],
      "text/plain": [
       "     1  2  3\n",
       "0    1  0  0\n",
       "1    1  0  0\n",
       "2    1  0  0\n",
       "3    1  0  0\n",
       "4    1  0  0\n",
       "..  .. .. ..\n",
       "173  0  0  1\n",
       "174  0  0  1\n",
       "175  0  0  1\n",
       "176  0  0  1\n",
       "177  0  0  1\n",
       "\n",
       "[178 rows x 3 columns]"
      ]
     },
     "execution_count": 10,
     "metadata": {},
     "output_type": "execute_result"
    }
   ],
   "source": [
    "pd.get_dummies(y)"
   ]
  },
  {
   "cell_type": "code",
   "execution_count": 11,
   "id": "b5830a04",
   "metadata": {},
   "outputs": [],
   "source": [
    "y_cat = pd.get_dummies(y)"
   ]
  },
  {
   "cell_type": "code",
   "execution_count": 12,
   "id": "9662633a",
   "metadata": {},
   "outputs": [
    {
     "data": {
      "text/plain": [
       "(178, 3)"
      ]
     },
     "execution_count": 12,
     "metadata": {},
     "output_type": "execute_result"
    }
   ],
   "source": [
    "y_cat.shape"
   ]
  },
  {
   "cell_type": "code",
   "execution_count": 13,
   "id": "82ac80a4",
   "metadata": {},
   "outputs": [
    {
     "data": {
      "text/html": [
       "<div>\n",
       "<style scoped>\n",
       "    .dataframe tbody tr th:only-of-type {\n",
       "        vertical-align: middle;\n",
       "    }\n",
       "\n",
       "    .dataframe tbody tr th {\n",
       "        vertical-align: top;\n",
       "    }\n",
       "\n",
       "    .dataframe thead th {\n",
       "        text-align: right;\n",
       "    }\n",
       "</style>\n",
       "<table border=\"1\" class=\"dataframe\">\n",
       "  <thead>\n",
       "    <tr style=\"text-align: right;\">\n",
       "      <th></th>\n",
       "      <th>Classes</th>\n",
       "      <th>Alcohol</th>\n",
       "      <th>Malic acid</th>\n",
       "      <th>Ash</th>\n",
       "      <th>Alcalinity of ash</th>\n",
       "      <th>Magnesium</th>\n",
       "      <th>Total phenols</th>\n",
       "      <th>Flavanoids</th>\n",
       "      <th>Nonflavanoid phenols</th>\n",
       "      <th>Proanthocyanins</th>\n",
       "      <th>Color intensity</th>\n",
       "      <th>Hue</th>\n",
       "      <th>OD280/OD315 of diluted wines</th>\n",
       "      <th>Proline</th>\n",
       "    </tr>\n",
       "  </thead>\n",
       "  <tbody>\n",
       "    <tr>\n",
       "      <th>0</th>\n",
       "      <td>1</td>\n",
       "      <td>14.23</td>\n",
       "      <td>1.71</td>\n",
       "      <td>2.43</td>\n",
       "      <td>15.6</td>\n",
       "      <td>127</td>\n",
       "      <td>2.80</td>\n",
       "      <td>3.06</td>\n",
       "      <td>0.28</td>\n",
       "      <td>2.29</td>\n",
       "      <td>5.64</td>\n",
       "      <td>1.04</td>\n",
       "      <td>3.92</td>\n",
       "      <td>1065</td>\n",
       "    </tr>\n",
       "    <tr>\n",
       "      <th>1</th>\n",
       "      <td>1</td>\n",
       "      <td>13.20</td>\n",
       "      <td>1.78</td>\n",
       "      <td>2.14</td>\n",
       "      <td>11.2</td>\n",
       "      <td>100</td>\n",
       "      <td>2.65</td>\n",
       "      <td>2.76</td>\n",
       "      <td>0.26</td>\n",
       "      <td>1.28</td>\n",
       "      <td>4.38</td>\n",
       "      <td>1.05</td>\n",
       "      <td>3.40</td>\n",
       "      <td>1050</td>\n",
       "    </tr>\n",
       "    <tr>\n",
       "      <th>2</th>\n",
       "      <td>1</td>\n",
       "      <td>13.16</td>\n",
       "      <td>2.36</td>\n",
       "      <td>2.67</td>\n",
       "      <td>18.6</td>\n",
       "      <td>101</td>\n",
       "      <td>2.80</td>\n",
       "      <td>3.24</td>\n",
       "      <td>0.30</td>\n",
       "      <td>2.81</td>\n",
       "      <td>5.68</td>\n",
       "      <td>1.03</td>\n",
       "      <td>3.17</td>\n",
       "      <td>1185</td>\n",
       "    </tr>\n",
       "    <tr>\n",
       "      <th>3</th>\n",
       "      <td>1</td>\n",
       "      <td>14.37</td>\n",
       "      <td>1.95</td>\n",
       "      <td>2.50</td>\n",
       "      <td>16.8</td>\n",
       "      <td>113</td>\n",
       "      <td>3.85</td>\n",
       "      <td>3.49</td>\n",
       "      <td>0.24</td>\n",
       "      <td>2.18</td>\n",
       "      <td>7.80</td>\n",
       "      <td>0.86</td>\n",
       "      <td>3.45</td>\n",
       "      <td>1480</td>\n",
       "    </tr>\n",
       "    <tr>\n",
       "      <th>4</th>\n",
       "      <td>1</td>\n",
       "      <td>13.24</td>\n",
       "      <td>2.59</td>\n",
       "      <td>2.87</td>\n",
       "      <td>21.0</td>\n",
       "      <td>118</td>\n",
       "      <td>2.80</td>\n",
       "      <td>2.69</td>\n",
       "      <td>0.39</td>\n",
       "      <td>1.82</td>\n",
       "      <td>4.32</td>\n",
       "      <td>1.04</td>\n",
       "      <td>2.93</td>\n",
       "      <td>735</td>\n",
       "    </tr>\n",
       "    <tr>\n",
       "      <th>...</th>\n",
       "      <td>...</td>\n",
       "      <td>...</td>\n",
       "      <td>...</td>\n",
       "      <td>...</td>\n",
       "      <td>...</td>\n",
       "      <td>...</td>\n",
       "      <td>...</td>\n",
       "      <td>...</td>\n",
       "      <td>...</td>\n",
       "      <td>...</td>\n",
       "      <td>...</td>\n",
       "      <td>...</td>\n",
       "      <td>...</td>\n",
       "      <td>...</td>\n",
       "    </tr>\n",
       "    <tr>\n",
       "      <th>173</th>\n",
       "      <td>3</td>\n",
       "      <td>13.71</td>\n",
       "      <td>5.65</td>\n",
       "      <td>2.45</td>\n",
       "      <td>20.5</td>\n",
       "      <td>95</td>\n",
       "      <td>1.68</td>\n",
       "      <td>0.61</td>\n",
       "      <td>0.52</td>\n",
       "      <td>1.06</td>\n",
       "      <td>7.70</td>\n",
       "      <td>0.64</td>\n",
       "      <td>1.74</td>\n",
       "      <td>740</td>\n",
       "    </tr>\n",
       "    <tr>\n",
       "      <th>174</th>\n",
       "      <td>3</td>\n",
       "      <td>13.40</td>\n",
       "      <td>3.91</td>\n",
       "      <td>2.48</td>\n",
       "      <td>23.0</td>\n",
       "      <td>102</td>\n",
       "      <td>1.80</td>\n",
       "      <td>0.75</td>\n",
       "      <td>0.43</td>\n",
       "      <td>1.41</td>\n",
       "      <td>7.30</td>\n",
       "      <td>0.70</td>\n",
       "      <td>1.56</td>\n",
       "      <td>750</td>\n",
       "    </tr>\n",
       "    <tr>\n",
       "      <th>175</th>\n",
       "      <td>3</td>\n",
       "      <td>13.27</td>\n",
       "      <td>4.28</td>\n",
       "      <td>2.26</td>\n",
       "      <td>20.0</td>\n",
       "      <td>120</td>\n",
       "      <td>1.59</td>\n",
       "      <td>0.69</td>\n",
       "      <td>0.43</td>\n",
       "      <td>1.35</td>\n",
       "      <td>10.20</td>\n",
       "      <td>0.59</td>\n",
       "      <td>1.56</td>\n",
       "      <td>835</td>\n",
       "    </tr>\n",
       "    <tr>\n",
       "      <th>176</th>\n",
       "      <td>3</td>\n",
       "      <td>13.17</td>\n",
       "      <td>2.59</td>\n",
       "      <td>2.37</td>\n",
       "      <td>20.0</td>\n",
       "      <td>120</td>\n",
       "      <td>1.65</td>\n",
       "      <td>0.68</td>\n",
       "      <td>0.53</td>\n",
       "      <td>1.46</td>\n",
       "      <td>9.30</td>\n",
       "      <td>0.60</td>\n",
       "      <td>1.62</td>\n",
       "      <td>840</td>\n",
       "    </tr>\n",
       "    <tr>\n",
       "      <th>177</th>\n",
       "      <td>3</td>\n",
       "      <td>14.13</td>\n",
       "      <td>4.10</td>\n",
       "      <td>2.74</td>\n",
       "      <td>24.5</td>\n",
       "      <td>96</td>\n",
       "      <td>2.05</td>\n",
       "      <td>0.76</td>\n",
       "      <td>0.56</td>\n",
       "      <td>1.35</td>\n",
       "      <td>9.20</td>\n",
       "      <td>0.61</td>\n",
       "      <td>1.60</td>\n",
       "      <td>560</td>\n",
       "    </tr>\n",
       "  </tbody>\n",
       "</table>\n",
       "<p>178 rows × 14 columns</p>\n",
       "</div>"
      ],
      "text/plain": [
       "     Classes  Alcohol  Malic acid   Ash  Alcalinity of ash  Magnesium  \\\n",
       "0          1    14.23        1.71  2.43               15.6        127   \n",
       "1          1    13.20        1.78  2.14               11.2        100   \n",
       "2          1    13.16        2.36  2.67               18.6        101   \n",
       "3          1    14.37        1.95  2.50               16.8        113   \n",
       "4          1    13.24        2.59  2.87               21.0        118   \n",
       "..       ...      ...         ...   ...                ...        ...   \n",
       "173        3    13.71        5.65  2.45               20.5         95   \n",
       "174        3    13.40        3.91  2.48               23.0        102   \n",
       "175        3    13.27        4.28  2.26               20.0        120   \n",
       "176        3    13.17        2.59  2.37               20.0        120   \n",
       "177        3    14.13        4.10  2.74               24.5         96   \n",
       "\n",
       "     Total phenols  Flavanoids  Nonflavanoid phenols  Proanthocyanins  \\\n",
       "0             2.80        3.06                  0.28             2.29   \n",
       "1             2.65        2.76                  0.26             1.28   \n",
       "2             2.80        3.24                  0.30             2.81   \n",
       "3             3.85        3.49                  0.24             2.18   \n",
       "4             2.80        2.69                  0.39             1.82   \n",
       "..             ...         ...                   ...              ...   \n",
       "173           1.68        0.61                  0.52             1.06   \n",
       "174           1.80        0.75                  0.43             1.41   \n",
       "175           1.59        0.69                  0.43             1.35   \n",
       "176           1.65        0.68                  0.53             1.46   \n",
       "177           2.05        0.76                  0.56             1.35   \n",
       "\n",
       "     Color intensity   Hue  OD280/OD315 of diluted wines  Proline              \n",
       "0               5.64  1.04                          3.92                 1065  \n",
       "1               4.38  1.05                          3.40                 1050  \n",
       "2               5.68  1.03                          3.17                 1185  \n",
       "3               7.80  0.86                          3.45                 1480  \n",
       "4               4.32  1.04                          2.93                  735  \n",
       "..               ...   ...                           ...                  ...  \n",
       "173             7.70  0.64                          1.74                  740  \n",
       "174             7.30  0.70                          1.56                  750  \n",
       "175            10.20  0.59                          1.56                  835  \n",
       "176             9.30  0.60                          1.62                  840  \n",
       "177             9.20  0.61                          1.60                  560  \n",
       "\n",
       "[178 rows x 14 columns]"
      ]
     },
     "execution_count": 13,
     "metadata": {},
     "output_type": "execute_result"
    }
   ],
   "source": [
    "dataset"
   ]
  },
  {
   "cell_type": "code",
   "execution_count": 14,
   "id": "3d980ea6",
   "metadata": {},
   "outputs": [],
   "source": [
    "x = dataset.drop('Classes',axis=1)"
   ]
  },
  {
   "cell_type": "code",
   "execution_count": 15,
   "id": "cb1413e5",
   "metadata": {},
   "outputs": [
    {
     "name": "stdout",
     "output_type": "stream",
     "text": [
      "<class 'pandas.core.frame.DataFrame'>\n",
      "RangeIndex: 178 entries, 0 to 177\n",
      "Data columns (total 13 columns):\n",
      " #   Column                        Non-Null Count  Dtype  \n",
      "---  ------                        --------------  -----  \n",
      " 0   Alcohol                       178 non-null    float64\n",
      " 1   Malic acid                    178 non-null    float64\n",
      " 2   Ash                           178 non-null    float64\n",
      " 3   Alcalinity of ash             178 non-null    float64\n",
      " 4   Magnesium                     178 non-null    int64  \n",
      " 5   Total phenols                 178 non-null    float64\n",
      " 6   Flavanoids                    178 non-null    float64\n",
      " 7   Nonflavanoid phenols          178 non-null    float64\n",
      " 8   Proanthocyanins               178 non-null    float64\n",
      " 9   Color intensity               178 non-null    float64\n",
      " 10  Hue                           178 non-null    float64\n",
      " 11  OD280/OD315 of diluted wines  178 non-null    float64\n",
      " 12  Proline                       178 non-null    int64  \n",
      "dtypes: float64(11), int64(2)\n",
      "memory usage: 18.2 KB\n"
     ]
    }
   ],
   "source": [
    "x.info()"
   ]
  },
  {
   "cell_type": "code",
   "execution_count": 16,
   "id": "047b4319",
   "metadata": {},
   "outputs": [],
   "source": [
    "import seaborn as sns"
   ]
  },
  {
   "cell_type": "code",
   "execution_count": 17,
   "id": "117bce84",
   "metadata": {},
   "outputs": [
    {
     "data": {
      "text/plain": [
       "<AxesSubplot:xlabel='Alcohol', ylabel='Classes'>"
      ]
     },
     "execution_count": 17,
     "metadata": {},
     "output_type": "execute_result"
    },
    {
     "data": {
      "image/png": "[encoded data removed]",
      "text/plain": [
       "<Figure size 432x288 with 1 Axes>"
      ]
     },
     "metadata": {
      "needs_background": "light"
     },
     "output_type": "display_data"
    }
   ],
   "source": [
    "sns.scatterplot(x=\"Alcohol\",y=\"Classes\",data=dataset)"
   ]
  },
  {
   "cell_type": "code",
   "execution_count": 18,
   "id": "8dfbbd61",
   "metadata": {},
   "outputs": [],
   "source": [
    "from keras.models import Sequential"
   ]
  },
  {
   "cell_type": "code",
   "execution_count": 19,
   "id": "0ea7b5cd",
   "metadata": {},
   "outputs": [],
   "source": [
    "model = Sequential()"
   ]
  },
  {
   "cell_type": "code",
   "execution_count": 20,
   "id": "0c3c08d2",
   "metadata": {},
   "outputs": [],
   "source": [
    "from keras.layers import Dense"
   ]
  },
  {
   "cell_type": "code",
   "execution_count": 21,
   "id": "9176fcb0",
   "metadata": {},
   "outputs": [],
   "source": [
    "model.add(\n",
    "    Dense(\n",
    "        units = 13,\n",
    "        input_shape=(13,),\n",
    "        activation=\"relu\",\n",
    "        kernel_initializer=\"he_normal\"\n",
    "    )\n",
    ")"
   ]
  },
  {
   "cell_type": "code",
   "execution_count": 22,
   "id": "626deb05",
   "metadata": {},
   "outputs": [
    {
     "name": "stdout",
     "output_type": "stream",
     "text": [
      "Model: \"sequential\"\n",
      "_________________________________________________________________\n",
      "Layer (type)                 Output Shape              Param #   \n",
      "=================================================================\n",
      "dense (Dense)                (None, 13)                182       \n",
      "=================================================================\n",
      "Total params: 182\n",
      "Trainable params: 182\n",
      "Non-trainable params: 0\n",
      "_________________________________________________________________\n"
     ]
    }
   ],
   "source": [
    "model.summary()"
   ]
  },
  {
   "cell_type": "code",
   "execution_count": 23,
   "id": "d7d39c06",
   "metadata": {},
   "outputs": [],
   "source": [
    "model.add(\n",
    "    Dense(\n",
    "        units=13,\n",
    "        activation='relu',\n",
    "        kernel_initializer='he_normal'\n",
    "    )\n",
    ")"
   ]
  },
  {
   "cell_type": "code",
   "execution_count": 24,
   "id": "54330dc5",
   "metadata": {},
   "outputs": [
    {
     "name": "stdout",
     "output_type": "stream",
     "text": [
      "Model: \"sequential\"\n",
      "_________________________________________________________________\n",
      "Layer (type)                 Output Shape              Param #   \n",
      "=================================================================\n",
      "dense (Dense)                (None, 13)                182       \n",
      "_________________________________________________________________\n",
      "dense_1 (Dense)              (None, 13)                182       \n",
      "=================================================================\n",
      "Total params: 364\n",
      "Trainable params: 364\n",
      "Non-trainable params: 0\n",
      "_________________________________________________________________\n"
     ]
    }
   ],
   "source": [
    "model.summary()"
   ]
  },
  {
   "cell_type": "code",
   "execution_count": 25,
   "id": "f4937a63",
   "metadata": {},
   "outputs": [],
   "source": [
    "model.add(\n",
    "    Dense(\n",
    "        units=13,\n",
    "        activation='relu',\n",
    "        kernel_initializer='he_normal'\n",
    "    )\n",
    ")"
   ]
  },
  {
   "cell_type": "code",
   "execution_count": 26,
   "id": "01fdcf7d",
   "metadata": {},
   "outputs": [],
   "source": [
    "model.add(\n",
    "    Dense(\n",
    "        units=13,\n",
    "        activation='relu',\n",
    "        kernel_initializer='he_normal'\n",
    "    )\n",
    ")"
   ]
  },
  {
   "cell_type": "code",
   "execution_count": 27,
   "id": "3020971b",
   "metadata": {},
   "outputs": [],
   "source": [
    "model.add(\n",
    "    Dense(\n",
    "        units=13,\n",
    "        activation='relu',\n",
    "        kernel_initializer='he_normal'\n",
    "    )\n",
    ")"
   ]
  },
  {
   "cell_type": "code",
   "execution_count": 28,
   "id": "bfe9cca1",
   "metadata": {},
   "outputs": [
    {
     "name": "stdout",
     "output_type": "stream",
     "text": [
      "Model: \"sequential\"\n",
      "_________________________________________________________________\n",
      "Layer (type)                 Output Shape              Param #   \n",
      "=================================================================\n",
      "dense (Dense)                (None, 13)                182       \n",
      "_________________________________________________________________\n",
      "dense_1 (Dense)              (None, 13)                182       \n",
      "_________________________________________________________________\n",
      "dense_2 (Dense)              (None, 13)                182       \n",
      "_________________________________________________________________\n",
      "dense_3 (Dense)              (None, 13)                182       \n",
      "_________________________________________________________________\n",
      "dense_4 (Dense)              (None, 13)                182       \n",
      "=================================================================\n",
      "Total params: 910\n",
      "Trainable params: 910\n",
      "Non-trainable params: 0\n",
      "_________________________________________________________________\n"
     ]
    }
   ],
   "source": [
    "model.summary()"
   ]
  },
  {
   "cell_type": "code",
   "execution_count": 29,
   "id": "9b49027f",
   "metadata": {},
   "outputs": [],
   "source": [
    "model.add(\n",
    "    Dense(\n",
    "        units=3,\n",
    "        activation=\"softmax\"\n",
    "    )\n",
    ")"
   ]
  },
  {
   "cell_type": "code",
   "execution_count": 30,
   "id": "5fb079ca",
   "metadata": {},
   "outputs": [
    {
     "name": "stdout",
     "output_type": "stream",
     "text": [
      "Model: \"sequential\"\n",
      "_________________________________________________________________\n",
      "Layer (type)                 Output Shape              Param #   \n",
      "=================================================================\n",
      "dense (Dense)                (None, 13)                182       \n",
      "_________________________________________________________________\n",
      "dense_1 (Dense)              (None, 13)                182       \n",
      "_________________________________________________________________\n",
      "dense_2 (Dense)              (None, 13)                182       \n",
      "_________________________________________________________________\n",
      "dense_3 (Dense)              (None, 13)                182       \n",
      "_________________________________________________________________\n",
      "dense_4 (Dense)              (None, 13)                182       \n",
      "_________________________________________________________________\n",
      "dense_5 (Dense)              (None, 3)                 42        \n",
      "=================================================================\n",
      "Total params: 952\n",
      "Trainable params: 952\n",
      "Non-trainable params: 0\n",
      "_________________________________________________________________\n"
     ]
    }
   ],
   "source": [
    "model.summary()"
   ]
  },
  {
   "cell_type": "code",
   "execution_count": 31,
   "id": "bba2a1ba",
   "metadata": {},
   "outputs": [],
   "source": [
    "from keras.optimizers import RMSprop"
   ]
  },
  {
   "cell_type": "code",
   "execution_count": 32,
   "id": "d8193a25",
   "metadata": {},
   "outputs": [],
   "source": [
    "model.compile(optimizer=RMSprop(learning_rate=0.0000001),loss='categorical_crossentropy',metrics=['accuracy'])"
   ]
  },
  {
   "cell_type": "code",
   "execution_count": 33,
   "id": "46324ef5",
   "metadata": {},
   "outputs": [
    {
     "name": "stdout",
     "output_type": "stream",
     "text": [
      "Epoch 1/100\n",
      "6/6 [==============================] - 2s 5ms/step - loss: 634.6730 - accuracy: 0.2784\n",
      "Epoch 2/100\n",
      "6/6 [==============================] - 0s 2ms/step - loss: 633.2090 - accuracy: 0.2872\n",
      "Epoch 3/100\n",
      "6/6 [==============================] - 0s 2ms/step - loss: 663.2444 - accuracy: 0.2474\n",
      "Epoch 4/100\n",
      "6/6 [==============================] - 0s 4ms/step - loss: 627.9050 - accuracy: 0.2838\n",
      "Epoch 5/100\n",
      "6/6 [==============================] - 0s 6ms/step - loss: 642.5344 - accuracy: 0.2597\n",
      "Epoch 6/100\n",
      "6/6 [==============================] - 0s 4ms/step - loss: 638.2250 - accuracy: 0.2907\n",
      "Epoch 7/100\n",
      "6/6 [==============================] - 0s 2ms/step - loss: 640.7181 - accuracy: 0.2663\n",
      "Epoch 8/100\n",
      "6/6 [==============================] - 0s 2ms/step - loss: 656.8450 - accuracy: 0.2727\n",
      "Epoch 9/100\n",
      "6/6 [==============================] - 0s 5ms/step - loss: 624.7177 - accuracy: 0.2861\n",
      "Epoch 10/100\n",
      "6/6 [==============================] - 0s 4ms/step - loss: 656.9150 - accuracy: 0.2618\n",
      "Epoch 11/100\n",
      "6/6 [==============================] - 0s 2ms/step - loss: 602.7057 - accuracy: 0.3035\n",
      "Epoch 12/100\n",
      "6/6 [==============================] - 0s 2ms/step - loss: 634.1930 - accuracy: 0.2794\n",
      "Epoch 13/100\n",
      "6/6 [==============================] - 0s 5ms/step - loss: 633.8920 - accuracy: 0.2721\n",
      "Epoch 14/100\n",
      "6/6 [==============================] - 0s 2ms/step - loss: 649.8455 - accuracy: 0.2544\n",
      "Epoch 15/100\n",
      "6/6 [==============================] - 0s 2ms/step - loss: 632.1584 - accuracy: 0.2802\n",
      "Epoch 16/100\n",
      "6/6 [==============================] - 0s 4ms/step - loss: 628.6481 - accuracy: 0.2752\n",
      "Epoch 17/100\n",
      "6/6 [==============================] - 0s 2ms/step - loss: 653.3313 - accuracy: 0.2652\n",
      "Epoch 18/100\n",
      "6/6 [==============================] - 0s 2ms/step - loss: 621.6019 - accuracy: 0.2902\n",
      "Epoch 19/100\n",
      "6/6 [==============================] - 0s 7ms/step - loss: 647.8052 - accuracy: 0.2672\n",
      "Epoch 20/100\n",
      "6/6 [==============================] - 0s 2ms/step - loss: 673.4197 - accuracy: 0.2421\n",
      "Epoch 21/100\n",
      "6/6 [==============================] - 0s 4ms/step - loss: 693.6385 - accuracy: 0.2196\n",
      "Epoch 22/100\n",
      "6/6 [==============================] - 0s 5ms/step - loss: 646.1801 - accuracy: 0.2618\n",
      "Epoch 23/100\n",
      "6/6 [==============================] - 0s 2ms/step - loss: 659.3380 - accuracy: 0.2437\n",
      "Epoch 24/100\n",
      "6/6 [==============================] - 0s 3ms/step - loss: 651.9417 - accuracy: 0.2739\n",
      "Epoch 25/100\n",
      "6/6 [==============================] - 0s 4ms/step - loss: 639.2637 - accuracy: 0.2657\n",
      "Epoch 26/100\n",
      "6/6 [==============================] - 0s 4ms/step - loss: 650.9973 - accuracy: 0.2651\n",
      "Epoch 27/100\n",
      "6/6 [==============================] - 0s 6ms/step - loss: 648.8439 - accuracy: 0.2611\n",
      "Epoch 28/100\n",
      "6/6 [==============================] - 0s 2ms/step - loss: 642.4197 - accuracy: 0.2767\n",
      "Epoch 29/100\n",
      "6/6 [==============================] - 0s 2ms/step - loss: 671.9297 - accuracy: 0.2494\n",
      "Epoch 30/100\n",
      "6/6 [==============================] - 0s 6ms/step - loss: 643.9432 - accuracy: 0.2675\n",
      "Epoch 31/100\n",
      "6/6 [==============================] - 0s 2ms/step - loss: 607.6157 - accuracy: 0.3111\n",
      "Epoch 32/100\n",
      "6/6 [==============================] - 0s 2ms/step - loss: 639.2027 - accuracy: 0.2808\n",
      "Epoch 33/100\n",
      "6/6 [==============================] - 0s 5ms/step - loss: 637.7534 - accuracy: 0.2676\n",
      "Epoch 34/100\n",
      "6/6 [==============================] - 0s 2ms/step - loss: 636.7982 - accuracy: 0.2808\n",
      "Epoch 35/100\n",
      "6/6 [==============================] - 0s 8ms/step - loss: 639.3711 - accuracy: 0.2543\n",
      "Epoch 36/100\n",
      "6/6 [==============================] - 0s 4ms/step - loss: 627.0665 - accuracy: 0.2728\n",
      "Epoch 37/100\n",
      "6/6 [==============================] - 0s 4ms/step - loss: 639.2578 - accuracy: 0.2669\n",
      "Epoch 38/100\n",
      "6/6 [==============================] - 0s 2ms/step - loss: 634.8195 - accuracy: 0.2824\n",
      "Epoch 39/100\n",
      "6/6 [==============================] - 0s 5ms/step - loss: 641.6804 - accuracy: 0.2701\n",
      "Epoch 40/100\n",
      "6/6 [==============================] - 0s 2ms/step - loss: 634.5205 - accuracy: 0.2867\n",
      "Epoch 41/100\n",
      "6/6 [==============================] - 0s 4ms/step - loss: 641.3676 - accuracy: 0.2584\n",
      "Epoch 42/100\n",
      "6/6 [==============================] - 0s 2ms/step - loss: 636.5473 - accuracy: 0.2776\n",
      "Epoch 43/100\n",
      "6/6 [==============================] - 0s 5ms/step - loss: 614.2123 - accuracy: 0.3047\n",
      "Epoch 44/100\n",
      "6/6 [==============================] - 0s 2ms/step - loss: 623.7718 - accuracy: 0.3023\n",
      "Epoch 45/100\n",
      "6/6 [==============================] - 0s 5ms/step - loss: 616.4962 - accuracy: 0.2917\n",
      "Epoch 46/100\n",
      "6/6 [==============================] - 0s 4ms/step - loss: 645.4297 - accuracy: 0.2584\n",
      "Epoch 47/100\n",
      "6/6 [==============================] - 0s 2ms/step - loss: 646.5680 - accuracy: 0.2661\n",
      "Epoch 48/100\n",
      "6/6 [==============================] - 0s 7ms/step - loss: 637.7342 - accuracy: 0.2722\n",
      "Epoch 49/100\n",
      "6/6 [==============================] - 0s 2ms/step - loss: 612.0457 - accuracy: 0.3092\n",
      "Epoch 50/100\n",
      "6/6 [==============================] - 0s 5ms/step - loss: 652.8326 - accuracy: 0.2427\n",
      "Epoch 51/100\n",
      "6/6 [==============================] - 0s 5ms/step - loss: 644.8573 - accuracy: 0.2587\n",
      "Epoch 52/100\n",
      "6/6 [==============================] - 0s 2ms/step - loss: 658.5419 - accuracy: 0.2677\n",
      "Epoch 53/100\n",
      "6/6 [==============================] - 0s 3ms/step - loss: 653.3875 - accuracy: 0.2583\n",
      "Epoch 54/100\n",
      "6/6 [==============================] - 0s 5ms/step - loss: 634.9847 - accuracy: 0.2682\n",
      "Epoch 55/100\n",
      "6/6 [==============================] - 0s 2ms/step - loss: 691.6341 - accuracy: 0.2200\n",
      "Epoch 56/100\n",
      "6/6 [==============================] - 0s 2ms/step - loss: 651.0362 - accuracy: 0.2747\n",
      "Epoch 57/100\n",
      "6/6 [==============================] - 0s 5ms/step - loss: 672.3696 - accuracy: 0.2341\n",
      "Epoch 58/100\n",
      "6/6 [==============================] - 0s 3ms/step - loss: 643.5519 - accuracy: 0.2499\n",
      "Epoch 59/100\n",
      "6/6 [==============================] - 0s 5ms/step - loss: 637.9353 - accuracy: 0.2820\n",
      "Epoch 60/100\n",
      "6/6 [==============================] - 0s 2ms/step - loss: 638.1608 - accuracy: 0.2619\n",
      "Epoch 61/100\n",
      "6/6 [==============================] - 0s 5ms/step - loss: 627.3529 - accuracy: 0.2863\n",
      "Epoch 62/100\n",
      "6/6 [==============================] - 0s 6ms/step - loss: 672.2032 - accuracy: 0.2481\n",
      "Epoch 63/100\n",
      "6/6 [==============================] - 0s 4ms/step - loss: 591.3919 - accuracy: 0.3235\n",
      "Epoch 64/100\n",
      "6/6 [==============================] - 0s 2ms/step - loss: 658.2996 - accuracy: 0.2620\n",
      "Epoch 65/100\n",
      "6/6 [==============================] - 0s 3ms/step - loss: 605.4996 - accuracy: 0.3044\n",
      "Epoch 66/100\n",
      "6/6 [==============================] - 0s 11ms/step - loss: 656.1027 - accuracy: 0.2604\n",
      "Epoch 67/100\n",
      "6/6 [==============================] - 0s 4ms/step - loss: 648.0765 - accuracy: 0.2887\n",
      "Epoch 68/100\n",
      "6/6 [==============================] - 0s 6ms/step - loss: 640.4909 - accuracy: 0.2805\n",
      "Epoch 69/100\n",
      "6/6 [==============================] - 0s 3ms/step - loss: 640.3720 - accuracy: 0.2637\n",
      "Epoch 70/100\n",
      "6/6 [==============================] - 0s 5ms/step - loss: 661.2436 - accuracy: 0.2301\n",
      "Epoch 71/100\n",
      "6/6 [==============================] - 0s 2ms/step - loss: 602.7074 - accuracy: 0.3111\n",
      "Epoch 72/100\n",
      "6/6 [==============================] - 0s 4ms/step - loss: 620.5710 - accuracy: 0.2878\n",
      "Epoch 73/100\n",
      "6/6 [==============================] - 0s 2ms/step - loss: 616.5540 - accuracy: 0.3046\n",
      "Epoch 74/100\n",
      "6/6 [==============================] - 0s 5ms/step - loss: 654.2652 - accuracy: 0.2470\n",
      "Epoch 75/100\n",
      "6/6 [==============================] - 0s 2ms/step - loss: 643.1730 - accuracy: 0.2596\n",
      "Epoch 76/100\n",
      "6/6 [==============================] - 0s 4ms/step - loss: 635.3164 - accuracy: 0.2683\n",
      "Epoch 77/100\n",
      "6/6 [==============================] - 0s 2ms/step - loss: 620.5613 - accuracy: 0.2985\n",
      "Epoch 78/100\n",
      "6/6 [==============================] - 0s 2ms/step - loss: 663.2256 - accuracy: 0.2477\n",
      "Epoch 79/100\n",
      "6/6 [==============================] - 0s 6ms/step - loss: 643.4206 - accuracy: 0.2725\n",
      "Epoch 80/100\n",
      "6/6 [==============================] - 0s 2ms/step - loss: 622.8875 - accuracy: 0.2930\n",
      "Epoch 81/100\n",
      "6/6 [==============================] - 0s 7ms/step - loss: 650.8127 - accuracy: 0.2681\n",
      "Epoch 82/100\n",
      "6/6 [==============================] - 0s 3ms/step - loss: 641.4135 - accuracy: 0.2631\n",
      "Epoch 83/100\n"
     ]
    },
    {
     "name": "stdout",
     "output_type": "stream",
     "text": [
      "6/6 [==============================] - 0s 9ms/step - loss: 625.1195 - accuracy: 0.2945\n",
      "Epoch 84/100\n",
      "6/6 [==============================] - 0s 2ms/step - loss: 668.1914 - accuracy: 0.2439\n",
      "Epoch 85/100\n",
      "6/6 [==============================] - 0s 5ms/step - loss: 651.3300 - accuracy: 0.2679\n",
      "Epoch 86/100\n",
      "6/6 [==============================] - 0s 2ms/step - loss: 608.2702 - accuracy: 0.3077\n",
      "Epoch 87/100\n",
      "6/6 [==============================] - 0s 2ms/step - loss: 634.5527 - accuracy: 0.2831\n",
      "Epoch 88/100\n",
      "6/6 [==============================] - 0s 2ms/step - loss: 653.8033 - accuracy: 0.2650\n",
      "Epoch 89/100\n",
      "6/6 [==============================] - 0s 3ms/step - loss: 643.5881 - accuracy: 0.2658\n",
      "Epoch 90/100\n",
      "6/6 [==============================] - 0s 4ms/step - loss: 671.2853 - accuracy: 0.2538\n",
      "Epoch 91/100\n",
      "6/6 [==============================] - 0s 3ms/step - loss: 656.3296 - accuracy: 0.2522\n",
      "Epoch 92/100\n",
      "6/6 [==============================] - 0s 3ms/step - loss: 673.0272 - accuracy: 0.2320\n",
      "Epoch 93/100\n",
      "6/6 [==============================] - 0s 6ms/step - loss: 643.5349 - accuracy: 0.2621\n",
      "Epoch 94/100\n",
      "6/6 [==============================] - 0s 4ms/step - loss: 639.5453 - accuracy: 0.2578\n",
      "Epoch 95/100\n",
      "6/6 [==============================] - 0s 7ms/step - loss: 687.4866 - accuracy: 0.2186\n",
      "Epoch 96/100\n",
      "6/6 [==============================] - 0s 3ms/step - loss: 622.3171 - accuracy: 0.2908\n",
      "Epoch 97/100\n",
      "6/6 [==============================] - 0s 6ms/step - loss: 632.9469 - accuracy: 0.2673\n",
      "Epoch 98/100\n",
      "6/6 [==============================] - 0s 4ms/step - loss: 653.2433 - accuracy: 0.2503\n",
      "Epoch 99/100\n",
      "6/6 [==============================] - 0s 4ms/step - loss: 656.8210 - accuracy: 0.2666\n",
      "Epoch 100/100\n",
      "6/6 [==============================] - 0s 4ms/step - loss: 642.8242 - accuracy: 0.2784\n"
     ]
    },
    {
     "data": {
      "text/plain": [
       "<tensorflow.python.keras.callbacks.History at 0x7f3c4c1b1c90>"
      ]
     },
     "execution_count": 33,
     "metadata": {},
     "output_type": "execute_result"
    }
   ],
   "source": [
    "model.fit(x,y_cat,epochs=100)"
   ]
  },
  {
   "cell_type": "code",
   "execution_count": 34,
   "id": "8df8d0a7",
   "metadata": {},
   "outputs": [
    {
     "data": {
      "text/plain": [
       "[644.089599609375,\n",
       " 644.0648193359375,\n",
       " 644.0460815429688,\n",
       " 644.0288696289062,\n",
       " 644.0121459960938,\n",
       " 643.9953002929688,\n",
       " 643.9786987304688,\n",
       " 643.9622802734375,\n",
       " 643.9461669921875,\n",
       " 643.9299926757812,\n",
       " 643.9140014648438,\n",
       " 643.8982543945312,\n",
       " 643.882568359375,\n",
       " 643.8661499023438,\n",
       " 643.85009765625,\n",
       " 643.8338012695312,\n",
       " 643.8174438476562,\n",
       " 643.8011474609375,\n",
       " 643.7848510742188,\n",
       " 643.76904296875,\n",
       " 643.7533569335938,\n",
       " 643.7376098632812,\n",
       " 643.7217407226562,\n",
       " 643.7061157226562,\n",
       " 643.6897583007812,\n",
       " 643.67333984375,\n",
       " 643.6571044921875,\n",
       " 643.6409912109375,\n",
       " 643.624755859375,\n",
       " 643.6088256835938,\n",
       " 643.5928955078125,\n",
       " 643.5770874023438,\n",
       " 643.560791015625,\n",
       " 643.5448608398438,\n",
       " 643.5284423828125,\n",
       " 643.5121459960938,\n",
       " 643.4957885742188,\n",
       " 643.4796142578125,\n",
       " 643.46337890625,\n",
       " 643.4470825195312,\n",
       " 643.4309692382812,\n",
       " 643.4147338867188,\n",
       " 643.3988037109375,\n",
       " 643.3823852539062,\n",
       " 643.365966796875,\n",
       " 643.3497314453125,\n",
       " 643.333740234375,\n",
       " 643.3177490234375,\n",
       " 643.3014526367188,\n",
       " 643.2852172851562,\n",
       " 643.2691040039062,\n",
       " 643.25341796875,\n",
       " 643.2372436523438,\n",
       " 643.22119140625,\n",
       " 643.2053833007812,\n",
       " 643.1895141601562,\n",
       " 643.1737060546875,\n",
       " 643.1572265625,\n",
       " 643.1406860351562,\n",
       " 643.1248779296875,\n",
       " 643.1085205078125,\n",
       " 643.0925903320312,\n",
       " 643.0767822265625,\n",
       " 643.0606079101562,\n",
       " 643.044677734375,\n",
       " 643.0285034179688,\n",
       " 643.0126342773438,\n",
       " 642.9964599609375,\n",
       " 642.980224609375,\n",
       " 642.9641723632812,\n",
       " 642.9486694335938,\n",
       " 642.9325561523438,\n",
       " 642.91650390625,\n",
       " 642.9009399414062,\n",
       " 642.8851318359375,\n",
       " 642.8688354492188,\n",
       " 642.8523559570312,\n",
       " 642.8363037109375,\n",
       " 642.8202514648438,\n",
       " 642.8040771484375,\n",
       " 642.7877197265625,\n",
       " 642.7716674804688,\n",
       " 642.7559204101562,\n",
       " 642.7396240234375,\n",
       " 642.7238159179688,\n",
       " 642.7075805664062,\n",
       " 642.6915283203125,\n",
       " 642.67529296875,\n",
       " 642.6590576171875,\n",
       " 642.6433715820312,\n",
       " 642.6275634765625,\n",
       " 642.6116333007812,\n",
       " 642.5953979492188,\n",
       " 642.579345703125,\n",
       " 642.5632934570312,\n",
       " 642.5478515625,\n",
       " 642.5314331054688,\n",
       " 642.5155639648438,\n",
       " 642.4996337890625,\n",
       " 642.48388671875]"
      ]
     },
     "execution_count": 34,
     "metadata": {},
     "output_type": "execute_result"
    }
   ],
   "source": [
    "model.history.history['loss']"
   ]
  },
  {
   "cell_type": "code",
   "execution_count": 35,
   "id": "66fd0429",
   "metadata": {},
   "outputs": [],
   "source": [
    "loss=model.history.history['loss']"
   ]
  },
  {
   "cell_type": "code",
   "execution_count": 41,
   "id": "6da648f1",
   "metadata": {},
   "outputs": [
    {
     "data": {
      "text/plain": [
       "list"
      ]
     },
     "execution_count": 41,
     "metadata": {},
     "output_type": "execute_result"
    }
   ],
   "source": [
    "type(loss)"
   ]
  },
  {
   "cell_type": "code",
   "execution_count": null,
   "id": "5c9f6f89",
   "metadata": {
    "collapsed": true
   },
   "outputs": [],
   "source": []
  }
 ],
 "metadata": {
  "kernelspec": {
   "display_name": "Python 3",
   "language": "python",
   "name": "python3"
  },
  "language_info": {
   "codemirror_mode": {
    "name": "ipython",
    "version": 3
   },
   "file_extension": ".py",
   "mimetype": "text/x-python",
   "name": "python",
   "nbconvert_exporter": "python",
   "pygments_lexer": "ipython3",
   "version": "3.7.10"
  }
 },
 "nbformat": 4,
 "nbformat_minor": 5
}
